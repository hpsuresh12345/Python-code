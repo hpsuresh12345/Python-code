{
 "cells": [
  {
   "cell_type": "code",
   "execution_count": 5,
   "metadata": {},
   "outputs": [],
   "source": [
    "import pandas as pd\n",
    "\n",
    "df = pd.read_excel('OnlineRetail.xlsx', sheet_name='Online Retail')"
   ]
  },
  {
   "cell_type": "code",
   "execution_count": 6,
   "metadata": {},
   "outputs": [],
   "source": [
    "df = df.loc[df['Quantity'] > 0]"
   ]
  },
  {
   "cell_type": "code",
   "execution_count": 4,
   "metadata": {},
   "outputs": [
    {
     "data": {
      "text/plain": [
       "135080"
      ]
     },
     "execution_count": 4,
     "metadata": {},
     "output_type": "execute_result"
    }
   ],
   "source": [
    "df['CustomerID'].isna().sum()"
   ]
  },
  {
   "cell_type": "code",
   "execution_count": 7,
   "metadata": {},
   "outputs": [],
   "source": [
    "df = df.dropna(subset=['CustomerID'])"
   ]
  },
  {
   "cell_type": "code",
   "execution_count": 8,
   "metadata": {},
   "outputs": [
    {
     "data": {
      "text/plain": [
       "(397924, 8)"
      ]
     },
     "execution_count": 8,
     "metadata": {},
     "output_type": "execute_result"
    }
   ],
   "source": [
    "df.shape"
   ]
  },
  {
   "cell_type": "code",
   "execution_count": 9,
   "metadata": {},
   "outputs": [],
   "source": [
    "customer_item_matrix = df.pivot_table(\n",
    "    index='CustomerID', \n",
    "    columns='StockCode', \n",
    "    values='Quantity',\n",
    "    aggfunc='sum'\n",
    ")"
   ]
  },
  {
   "cell_type": "code",
   "execution_count": 10,
   "metadata": {},
   "outputs": [],
   "source": [
    "customer_item_matrix = customer_item_matrix.applymap(lambda x: 1 if x > 0 else 0)"
   ]
  },
  {
   "cell_type": "code",
   "execution_count": 11,
   "metadata": {},
   "outputs": [],
   "source": [
    "from sklearn.metrics.pairwise import cosine_similarity"
   ]
  },
  {
   "cell_type": "code",
   "execution_count": 12,
   "metadata": {},
   "outputs": [],
   "source": [
    "user_user_sim_matrix = pd.DataFrame(\n",
    "    cosine_similarity(customer_item_matrix)\n",
    ")"
   ]
  },
  {
   "cell_type": "code",
   "execution_count": 13,
   "metadata": {},
   "outputs": [],
   "source": [
    "user_user_sim_matrix.columns = customer_item_matrix.index\n",
    "\n",
    "user_user_sim_matrix['CustomerID'] = customer_item_matrix.index\n",
    "user_user_sim_matrix = user_user_sim_matrix.set_index('CustomerID')"
   ]
  },
  {
   "cell_type": "code",
   "execution_count": 14,
   "metadata": {},
   "outputs": [
    {
     "data": {
      "text/plain": [
       "CustomerID\n",
       "12350.0    1.000000\n",
       "17935.0    0.183340\n",
       "12414.0    0.181902\n",
       "12652.0    0.175035\n",
       "16692.0    0.171499\n",
       "16754.0    0.171499\n",
       "12814.0    0.171499\n",
       "12791.0    0.171499\n",
       "16426.0    0.166968\n",
       "16333.0    0.161690\n",
       "12475.0    0.161690\n",
       "12735.0    0.157378\n",
       "12449.0    0.156290\n",
       "12684.0    0.155268\n",
       "17486.0    0.148522\n",
       "16846.0    0.146254\n",
       "12394.0    0.142695\n",
       "12603.0    0.140028\n",
       "12665.0    0.140028\n",
       "17788.0    0.140028\n",
       "15435.0    0.135113\n",
       "12797.0    0.134535\n",
       "14624.0    0.134535\n",
       "12613.0    0.130682\n",
       "12497.0    0.129641\n",
       "12645.0    0.127386\n",
       "12628.0    0.124784\n",
       "16247.0    0.121268\n",
       "12817.0    0.121268\n",
       "12789.0    0.121268\n",
       "             ...   \n",
       "15898.0    0.000000\n",
       "15945.0    0.000000\n",
       "15948.0    0.000000\n",
       "16006.0    0.000000\n",
       "15978.0    0.000000\n",
       "16003.0    0.000000\n",
       "16000.0    0.000000\n",
       "15996.0    0.000000\n",
       "15994.0    0.000000\n",
       "15992.0    0.000000\n",
       "15988.0    0.000000\n",
       "15987.0    0.000000\n",
       "15986.0    0.000000\n",
       "15985.0    0.000000\n",
       "15981.0    0.000000\n",
       "15980.0    0.000000\n",
       "15977.0    0.000000\n",
       "15949.0    0.000000\n",
       "15975.0    0.000000\n",
       "15973.0    0.000000\n",
       "15969.0    0.000000\n",
       "15965.0    0.000000\n",
       "15963.0    0.000000\n",
       "15958.0    0.000000\n",
       "15957.0    0.000000\n",
       "15953.0    0.000000\n",
       "15952.0    0.000000\n",
       "15951.0    0.000000\n",
       "15950.0    0.000000\n",
       "12346.0    0.000000\n",
       "Name: 12350.0, Length: 4339, dtype: float64"
      ]
     },
     "execution_count": 14,
     "metadata": {},
     "output_type": "execute_result"
    }
   ],
   "source": [
    "user_user_sim_matrix.loc[12350.0].sort_values(ascending=False)"
   ]
  },
  {
   "cell_type": "code",
   "execution_count": 15,
   "metadata": {},
   "outputs": [
    {
     "name": "stderr",
     "output_type": "stream",
     "text": [
      "C:\\ProgramData\\Anaconda3\\lib\\site-packages\\ipykernel_launcher.py:2: FutureWarning: Series.nonzero() is deprecated and will be removed in a future version.Use Series.to_numpy().nonzero() instead\n",
      "  \n"
     ]
    }
   ],
   "source": [
    "items_bought_by_A = set(customer_item_matrix.loc[12350.0].iloc[\n",
    "    customer_item_matrix.loc[12350.0].nonzero()\n",
    "].index)"
   ]
  },
  {
   "cell_type": "code",
   "execution_count": 16,
   "metadata": {},
   "outputs": [
    {
     "name": "stderr",
     "output_type": "stream",
     "text": [
      "C:\\ProgramData\\Anaconda3\\lib\\site-packages\\ipykernel_launcher.py:2: FutureWarning: Series.nonzero() is deprecated and will be removed in a future version.Use Series.to_numpy().nonzero() instead\n",
      "  \n"
     ]
    }
   ],
   "source": [
    "items_bought_by_B = set(customer_item_matrix.loc[17935.0].iloc[\n",
    "    customer_item_matrix.loc[17935.0].nonzero()\n",
    "].index)"
   ]
  },
  {
   "cell_type": "code",
   "execution_count": 17,
   "metadata": {},
   "outputs": [],
   "source": [
    "items_to_recommend_to_B = items_bought_by_A - items_bought_by_B"
   ]
  },
  {
   "cell_type": "code",
   "execution_count": 18,
   "metadata": {},
   "outputs": [
    {
     "data": {
      "text/html": [
       "<div>\n",
       "<style scoped>\n",
       "    .dataframe tbody tr th:only-of-type {\n",
       "        vertical-align: middle;\n",
       "    }\n",
       "\n",
       "    .dataframe tbody tr th {\n",
       "        vertical-align: top;\n",
       "    }\n",
       "\n",
       "    .dataframe thead th {\n",
       "        text-align: right;\n",
       "    }\n",
       "</style>\n",
       "<table border=\"1\" class=\"dataframe\">\n",
       "  <thead>\n",
       "    <tr style=\"text-align: right;\">\n",
       "      <th></th>\n",
       "      <th>Description</th>\n",
       "    </tr>\n",
       "    <tr>\n",
       "      <th>StockCode</th>\n",
       "      <th></th>\n",
       "    </tr>\n",
       "  </thead>\n",
       "  <tbody>\n",
       "    <tr>\n",
       "      <th>21832</th>\n",
       "      <td>CHOCOLATE CALCULATOR</td>\n",
       "    </tr>\n",
       "    <tr>\n",
       "      <th>21915</th>\n",
       "      <td>RED  HARMONICA IN BOX</td>\n",
       "    </tr>\n",
       "    <tr>\n",
       "      <th>22620</th>\n",
       "      <td>4 TRADITIONAL SPINNING TOPS</td>\n",
       "    </tr>\n",
       "    <tr>\n",
       "      <th>79066K</th>\n",
       "      <td>RETRO MOD TRAY</td>\n",
       "    </tr>\n",
       "    <tr>\n",
       "      <th>21864</th>\n",
       "      <td>UNION JACK FLAG PASSPORT COVER</td>\n",
       "    </tr>\n",
       "    <tr>\n",
       "      <th>79191C</th>\n",
       "      <td>RETRO PLASTIC ELEPHANT TRAY</td>\n",
       "    </tr>\n",
       "    <tr>\n",
       "      <th>21908</th>\n",
       "      <td>CHOCOLATE THIS WAY METAL SIGN</td>\n",
       "    </tr>\n",
       "    <tr>\n",
       "      <th>20615</th>\n",
       "      <td>BLUE POLKADOT PASSPORT COVER</td>\n",
       "    </tr>\n",
       "    <tr>\n",
       "      <th>20652</th>\n",
       "      <td>BLUE POLKADOT LUGGAGE TAG</td>\n",
       "    </tr>\n",
       "    <tr>\n",
       "      <th>22348</th>\n",
       "      <td>TEA BAG PLATE RED RETROSPOT</td>\n",
       "    </tr>\n",
       "    <tr>\n",
       "      <th>22412</th>\n",
       "      <td>METAL SIGN NEIGHBOURHOOD WITCH</td>\n",
       "    </tr>\n",
       "    <tr>\n",
       "      <th>21171</th>\n",
       "      <td>BATHROOM METAL SIGN</td>\n",
       "    </tr>\n",
       "    <tr>\n",
       "      <th>84086C</th>\n",
       "      <td>PINK/PURPLE RETRO RADIO</td>\n",
       "    </tr>\n",
       "  </tbody>\n",
       "</table>\n",
       "</div>"
      ],
      "text/plain": [
       "                               Description\n",
       "StockCode                                 \n",
       "21832                 CHOCOLATE CALCULATOR\n",
       "21915               RED  HARMONICA IN BOX \n",
       "22620          4 TRADITIONAL SPINNING TOPS\n",
       "79066K                      RETRO MOD TRAY\n",
       "21864      UNION JACK FLAG PASSPORT COVER \n",
       "79191C         RETRO PLASTIC ELEPHANT TRAY\n",
       "21908        CHOCOLATE THIS WAY METAL SIGN\n",
       "20615         BLUE POLKADOT PASSPORT COVER\n",
       "20652           BLUE POLKADOT LUGGAGE TAG \n",
       "22348          TEA BAG PLATE RED RETROSPOT\n",
       "22412      METAL SIGN NEIGHBOURHOOD WITCH \n",
       "21171                 BATHROOM METAL SIGN \n",
       "84086C             PINK/PURPLE RETRO RADIO"
      ]
     },
     "execution_count": 18,
     "metadata": {},
     "output_type": "execute_result"
    }
   ],
   "source": [
    "df.loc[\n",
    "    df['StockCode'].isin(items_to_recommend_to_B), \n",
    "    ['StockCode', 'Description']\n",
    "].drop_duplicates().set_index('StockCode')"
   ]
  },
  {
   "cell_type": "code",
   "execution_count": 19,
   "metadata": {},
   "outputs": [],
   "source": [
    "item_item_sim_matrix = pd.DataFrame(\n",
    "    cosine_similarity(customer_item_matrix.T)\n",
    ")"
   ]
  },
  {
   "cell_type": "code",
   "execution_count": 20,
   "metadata": {},
   "outputs": [],
   "source": [
    "item_item_sim_matrix.columns = customer_item_matrix.T.index\n",
    "\n",
    "item_item_sim_matrix['StockCode'] = customer_item_matrix.T.index\n",
    "item_item_sim_matrix = item_item_sim_matrix.set_index('StockCode')"
   ]
  },
  {
   "cell_type": "code",
   "execution_count": 21,
   "metadata": {},
   "outputs": [],
   "source": [
    "top_10_similar_items = list(\n",
    "   item_item_sim_matrix\\\n",
    "        .loc[23166]\\\n",
    "        .sort_values(ascending=False)\\\n",
    "        .iloc[:10]\\\n",
    "    .index\n",
    ")"
   ]
  },
  {
   "cell_type": "code",
   "execution_count": 22,
   "metadata": {},
   "outputs": [
    {
     "data": {
      "text/html": [
       "<div>\n",
       "<style scoped>\n",
       "    .dataframe tbody tr th:only-of-type {\n",
       "        vertical-align: middle;\n",
       "    }\n",
       "\n",
       "    .dataframe tbody tr th {\n",
       "        vertical-align: top;\n",
       "    }\n",
       "\n",
       "    .dataframe thead th {\n",
       "        text-align: right;\n",
       "    }\n",
       "</style>\n",
       "<table border=\"1\" class=\"dataframe\">\n",
       "  <thead>\n",
       "    <tr style=\"text-align: right;\">\n",
       "      <th></th>\n",
       "      <th>Description</th>\n",
       "    </tr>\n",
       "    <tr>\n",
       "      <th>StockCode</th>\n",
       "      <th></th>\n",
       "    </tr>\n",
       "  </thead>\n",
       "  <tbody>\n",
       "    <tr>\n",
       "      <th>23166</th>\n",
       "      <td>MEDIUM CERAMIC TOP STORAGE JAR</td>\n",
       "    </tr>\n",
       "    <tr>\n",
       "      <th>23165</th>\n",
       "      <td>LARGE CERAMIC TOP STORAGE JAR</td>\n",
       "    </tr>\n",
       "    <tr>\n",
       "      <th>23167</th>\n",
       "      <td>SMALL CERAMIC TOP STORAGE JAR</td>\n",
       "    </tr>\n",
       "    <tr>\n",
       "      <th>22993</th>\n",
       "      <td>SET OF 4 PANTRY JELLY MOULDS</td>\n",
       "    </tr>\n",
       "    <tr>\n",
       "      <th>23307</th>\n",
       "      <td>SET OF 60 PANTRY DESIGN CAKE CASES</td>\n",
       "    </tr>\n",
       "    <tr>\n",
       "      <th>22722</th>\n",
       "      <td>SET OF 6 SPICE TINS PANTRY DESIGN</td>\n",
       "    </tr>\n",
       "    <tr>\n",
       "      <th>22720</th>\n",
       "      <td>SET OF 3 CAKE TINS PANTRY DESIGN</td>\n",
       "    </tr>\n",
       "    <tr>\n",
       "      <th>22666</th>\n",
       "      <td>RECIPE BOX PANTRY YELLOW DESIGN</td>\n",
       "    </tr>\n",
       "    <tr>\n",
       "      <th>23243</th>\n",
       "      <td>SET OF TEA COFFEE SUGAR TINS PANTRY</td>\n",
       "    </tr>\n",
       "    <tr>\n",
       "      <th>22961</th>\n",
       "      <td>JAM MAKING SET PRINTED</td>\n",
       "    </tr>\n",
       "  </tbody>\n",
       "</table>\n",
       "</div>"
      ],
      "text/plain": [
       "                                   Description\n",
       "StockCode                                     \n",
       "23166           MEDIUM CERAMIC TOP STORAGE JAR\n",
       "23165            LARGE CERAMIC TOP STORAGE JAR\n",
       "23167           SMALL CERAMIC TOP STORAGE JAR \n",
       "22993             SET OF 4 PANTRY JELLY MOULDS\n",
       "23307      SET OF 60 PANTRY DESIGN CAKE CASES \n",
       "22722        SET OF 6 SPICE TINS PANTRY DESIGN\n",
       "22720        SET OF 3 CAKE TINS PANTRY DESIGN \n",
       "22666          RECIPE BOX PANTRY YELLOW DESIGN\n",
       "23243      SET OF TEA COFFEE SUGAR TINS PANTRY\n",
       "22961                   JAM MAKING SET PRINTED"
      ]
     },
     "execution_count": 22,
     "metadata": {},
     "output_type": "execute_result"
    }
   ],
   "source": [
    "df.loc[\n",
    "    df['StockCode'].isin(top_10_similar_items), \n",
    "    ['StockCode', 'Description']\n",
    "].drop_duplicates().set_index('StockCode').loc[top_10_similar_items]"
   ]
  },
  {
   "cell_type": "code",
   "execution_count": null,
   "metadata": {},
   "outputs": [],
   "source": []
  }
 ],
 "metadata": {
  "kernelspec": {
   "display_name": "Python 3",
   "language": "python",
   "name": "python3"
  },
  "language_info": {
   "codemirror_mode": {
    "name": "ipython",
    "version": 3
   },
   "file_extension": ".py",
   "mimetype": "text/x-python",
   "name": "python",
   "nbconvert_exporter": "python",
   "pygments_lexer": "ipython3",
   "version": "3.7.3"
  }
 },
 "nbformat": 4,
 "nbformat_minor": 2
}
