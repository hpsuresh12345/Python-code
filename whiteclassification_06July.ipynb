{
 "cells": [
  {
   "cell_type": "code",
   "execution_count": 0,
   "metadata": {
    "colab": {},
    "colab_type": "code",
    "id": "4WHcFWAxnmmm"
   },
   "outputs": [],
   "source": [
    "# Import Packages\n",
    "import numpy as np\n",
    "import pandas as pd\n",
    "import seaborn as sns\n",
    "from matplotlib import pyplot as plt\n",
    "import matplotlib.pyplot as plt\n",
    "import pandas_profiling\n",
    "\n",
    "# Import Collections\n",
    "from sklearn import metrics\n",
    "from sklearn import tree\n",
    "import warnings\n",
    "from sklearn.ensemble import RandomForestClassifier\n",
    "from sklearn.model_selection import RandomizedSearchCV\n",
    "from sklearn.model_selection import GridSearchCV\n",
    "from sklearn.model_selection import train_test_split\n",
    "warnings.filterwarnings('ignore')\n",
    "%matplotlib inline\n",
    "import graphviz"
   ]
  },
  {
   "cell_type": "code",
   "execution_count": 0,
   "metadata": {
    "colab": {},
    "colab_type": "code",
    "id": "7nFG7RSKnuQk"
   },
   "outputs": [],
   "source": [
    "from IPython.core.interactiveshell import InteractiveShell\n",
    "InteractiveShell.ast_node_interactivity=\"all\"\n"
   ]
  },
  {
   "cell_type": "code",
   "execution_count": 0,
   "metadata": {
    "colab": {},
    "colab_type": "code",
    "id": "0p2IvVKunyDX"
   },
   "outputs": [],
   "source": [
    "data = pd.read_csv(\"https://archive.ics.uci.edu/ml/machine-learning-databases/wine-quality/winequality-white.csv\", sep=';')\n"
   ]
  },
  {
   "cell_type": "code",
   "execution_count": 4,
   "metadata": {
    "colab": {
     "base_uri": "https://localhost:8080/",
     "height": 578
    },
    "colab_type": "code",
    "id": "BHExlkZVn1Au",
    "outputId": "8fffe13c-fc9b-4954-8365-cfe375b528b8"
   },
   "outputs": [
    {
     "name": "stdout",
     "output_type": "stream",
     "text": [
      "<class 'pandas.core.frame.DataFrame'>\n",
      "RangeIndex: 4898 entries, 0 to 4897\n",
      "Data columns (total 12 columns):\n",
      "fixed acidity           4898 non-null float64\n",
      "volatile acidity        4898 non-null float64\n",
      "citric acid             4898 non-null float64\n",
      "residual sugar          4898 non-null float64\n",
      "chlorides               4898 non-null float64\n",
      "free sulfur dioxide     4898 non-null float64\n",
      "total sulfur dioxide    4898 non-null float64\n",
      "density                 4898 non-null float64\n",
      "pH                      4898 non-null float64\n",
      "sulphates               4898 non-null float64\n",
      "alcohol                 4898 non-null float64\n",
      "quality                 4898 non-null int64\n",
      "dtypes: float64(11), int64(1)\n",
      "memory usage: 459.3 KB\n"
     ]
    },
    {
     "data": {
      "text/html": [
       "<div>\n",
       "<style scoped>\n",
       "    .dataframe tbody tr th:only-of-type {\n",
       "        vertical-align: middle;\n",
       "    }\n",
       "\n",
       "    .dataframe tbody tr th {\n",
       "        vertical-align: top;\n",
       "    }\n",
       "\n",
       "    .dataframe thead th {\n",
       "        text-align: right;\n",
       "    }\n",
       "</style>\n",
       "<table border=\"1\" class=\"dataframe\">\n",
       "  <thead>\n",
       "    <tr style=\"text-align: right;\">\n",
       "      <th></th>\n",
       "      <th>fixed acidity</th>\n",
       "      <th>volatile acidity</th>\n",
       "      <th>citric acid</th>\n",
       "      <th>residual sugar</th>\n",
       "      <th>chlorides</th>\n",
       "      <th>free sulfur dioxide</th>\n",
       "      <th>total sulfur dioxide</th>\n",
       "      <th>density</th>\n",
       "      <th>pH</th>\n",
       "      <th>sulphates</th>\n",
       "      <th>alcohol</th>\n",
       "      <th>quality</th>\n",
       "    </tr>\n",
       "  </thead>\n",
       "  <tbody>\n",
       "    <tr>\n",
       "      <th>0</th>\n",
       "      <td>7.0</td>\n",
       "      <td>0.27</td>\n",
       "      <td>0.36</td>\n",
       "      <td>20.7</td>\n",
       "      <td>0.045</td>\n",
       "      <td>45.0</td>\n",
       "      <td>170.0</td>\n",
       "      <td>1.0010</td>\n",
       "      <td>3.00</td>\n",
       "      <td>0.45</td>\n",
       "      <td>8.8</td>\n",
       "      <td>6</td>\n",
       "    </tr>\n",
       "    <tr>\n",
       "      <th>1</th>\n",
       "      <td>6.3</td>\n",
       "      <td>0.30</td>\n",
       "      <td>0.34</td>\n",
       "      <td>1.6</td>\n",
       "      <td>0.049</td>\n",
       "      <td>14.0</td>\n",
       "      <td>132.0</td>\n",
       "      <td>0.9940</td>\n",
       "      <td>3.30</td>\n",
       "      <td>0.49</td>\n",
       "      <td>9.5</td>\n",
       "      <td>6</td>\n",
       "    </tr>\n",
       "    <tr>\n",
       "      <th>2</th>\n",
       "      <td>8.1</td>\n",
       "      <td>0.28</td>\n",
       "      <td>0.40</td>\n",
       "      <td>6.9</td>\n",
       "      <td>0.050</td>\n",
       "      <td>30.0</td>\n",
       "      <td>97.0</td>\n",
       "      <td>0.9951</td>\n",
       "      <td>3.26</td>\n",
       "      <td>0.44</td>\n",
       "      <td>10.1</td>\n",
       "      <td>6</td>\n",
       "    </tr>\n",
       "    <tr>\n",
       "      <th>3</th>\n",
       "      <td>7.2</td>\n",
       "      <td>0.23</td>\n",
       "      <td>0.32</td>\n",
       "      <td>8.5</td>\n",
       "      <td>0.058</td>\n",
       "      <td>47.0</td>\n",
       "      <td>186.0</td>\n",
       "      <td>0.9956</td>\n",
       "      <td>3.19</td>\n",
       "      <td>0.40</td>\n",
       "      <td>9.9</td>\n",
       "      <td>6</td>\n",
       "    </tr>\n",
       "    <tr>\n",
       "      <th>4</th>\n",
       "      <td>7.2</td>\n",
       "      <td>0.23</td>\n",
       "      <td>0.32</td>\n",
       "      <td>8.5</td>\n",
       "      <td>0.058</td>\n",
       "      <td>47.0</td>\n",
       "      <td>186.0</td>\n",
       "      <td>0.9956</td>\n",
       "      <td>3.19</td>\n",
       "      <td>0.40</td>\n",
       "      <td>9.9</td>\n",
       "      <td>6</td>\n",
       "    </tr>\n",
       "  </tbody>\n",
       "</table>\n",
       "</div>"
      ],
      "text/plain": [
       "   fixed acidity  volatile acidity  citric acid  ...  sulphates  alcohol  quality\n",
       "0            7.0              0.27         0.36  ...       0.45      8.8        6\n",
       "1            6.3              0.30         0.34  ...       0.49      9.5        6\n",
       "2            8.1              0.28         0.40  ...       0.44     10.1        6\n",
       "3            7.2              0.23         0.32  ...       0.40      9.9        6\n",
       "4            7.2              0.23         0.32  ...       0.40      9.9        6\n",
       "\n",
       "[5 rows x 12 columns]"
      ]
     },
     "execution_count": 4,
     "metadata": {
      "tags": []
     },
     "output_type": "execute_result"
    },
    {
     "data": {
      "text/plain": [
       "Index(['fixed acidity', 'volatile acidity', 'citric acid', 'residual sugar',\n",
       "       'chlorides', 'free sulfur dioxide', 'total sulfur dioxide', 'density',\n",
       "       'pH', 'sulphates', 'alcohol', 'quality'],\n",
       "      dtype='object')"
      ]
     },
     "execution_count": 4,
     "metadata": {
      "tags": []
     },
     "output_type": "execute_result"
    },
    {
     "data": {
      "text/plain": [
       "(4898, 12)"
      ]
     },
     "execution_count": 4,
     "metadata": {
      "tags": []
     },
     "output_type": "execute_result"
    }
   ],
   "source": [
    "data.info()\n",
    "data.head()\n",
    "data.columns\n",
    "data.shape"
   ]
  },
  {
   "cell_type": "code",
   "execution_count": 5,
   "metadata": {
    "colab": {
     "base_uri": "https://localhost:8080/",
     "height": 114
    },
    "colab_type": "code",
    "id": "VXpKf77Pn5Ot",
    "outputId": "7385f406-edb7-4e2c-b866-1d5736f0a7e9"
   },
   "outputs": [
    {
     "data": {
      "text/plain": [
       "0    6\n",
       "Name: quality, dtype: int64"
      ]
     },
     "execution_count": 5,
     "metadata": {
      "tags": []
     },
     "output_type": "execute_result"
    },
    {
     "data": {
      "text/html": [
       "<div>\n",
       "<style scoped>\n",
       "    .dataframe tbody tr th:only-of-type {\n",
       "        vertical-align: middle;\n",
       "    }\n",
       "\n",
       "    .dataframe tbody tr th {\n",
       "        vertical-align: top;\n",
       "    }\n",
       "\n",
       "    .dataframe thead th {\n",
       "        text-align: right;\n",
       "    }\n",
       "</style>\n",
       "<table border=\"1\" class=\"dataframe\">\n",
       "  <thead>\n",
       "    <tr style=\"text-align: right;\">\n",
       "      <th></th>\n",
       "      <th>fixed acidity</th>\n",
       "      <th>volatile acidity</th>\n",
       "      <th>citric acid</th>\n",
       "      <th>residual sugar</th>\n",
       "      <th>chlorides</th>\n",
       "      <th>free sulfur dioxide</th>\n",
       "      <th>total sulfur dioxide</th>\n",
       "      <th>density</th>\n",
       "      <th>pH</th>\n",
       "      <th>sulphates</th>\n",
       "      <th>alcohol</th>\n",
       "    </tr>\n",
       "  </thead>\n",
       "  <tbody>\n",
       "    <tr>\n",
       "      <th>0</th>\n",
       "      <td>7.0</td>\n",
       "      <td>0.27</td>\n",
       "      <td>0.36</td>\n",
       "      <td>20.7</td>\n",
       "      <td>0.045</td>\n",
       "      <td>45.0</td>\n",
       "      <td>170.0</td>\n",
       "      <td>1.001</td>\n",
       "      <td>3.0</td>\n",
       "      <td>0.45</td>\n",
       "      <td>8.8</td>\n",
       "    </tr>\n",
       "  </tbody>\n",
       "</table>\n",
       "</div>"
      ],
      "text/plain": [
       "   fixed acidity  volatile acidity  citric acid  ...   pH  sulphates  alcohol\n",
       "0            7.0              0.27         0.36  ...  3.0       0.45      8.8\n",
       "\n",
       "[1 rows x 11 columns]"
      ]
     },
     "execution_count": 5,
     "metadata": {
      "tags": []
     },
     "output_type": "execute_result"
    }
   ],
   "source": [
    "# STEP 1 - CREATE FEATURES AND LABEL\n",
    "y=data.quality\n",
    "x=data.drop('quality',axis=1)\n",
    "y.head(1)\n",
    "x.head(1)"
   ]
  },
  {
   "cell_type": "code",
   "execution_count": 6,
   "metadata": {
    "colab": {
     "base_uri": "https://localhost:8080/",
     "height": 34
    },
    "colab_type": "code",
    "id": "wbbvzFZ6n9ZU",
    "outputId": "a849fb49-6eb0-47cc-ac58-9f6efafd4ff9"
   },
   "outputs": [
    {
     "data": {
      "text/plain": [
       "(3673, 11)"
      ]
     },
     "execution_count": 6,
     "metadata": {
      "tags": []
     },
     "output_type": "execute_result"
    },
    {
     "data": {
      "text/plain": [
       "(3673,)"
      ]
     },
     "execution_count": 6,
     "metadata": {
      "tags": []
     },
     "output_type": "execute_result"
    },
    {
     "data": {
      "text/plain": [
       "(1225, 11)"
      ]
     },
     "execution_count": 6,
     "metadata": {
      "tags": []
     },
     "output_type": "execute_result"
    },
    {
     "data": {
      "text/plain": [
       "(1225,)"
      ]
     },
     "execution_count": 6,
     "metadata": {
      "tags": []
     },
     "output_type": "execute_result"
    }
   ],
   "source": [
    "# STEP 2 - SPLIT TRAIN AND TEST DATA\n",
    "train_x,test_x,train_y,test_y=train_test_split(x,y,test_size=0.25,random_state=1)\n",
    "train_x.shape\n",
    "train_y.shape\n",
    "test_x.shape\n",
    "test_y.shape"
   ]
  },
  {
   "cell_type": "code",
   "execution_count": 0,
   "metadata": {
    "colab": {},
    "colab_type": "code",
    "id": "1g9b7BProBHW"
   },
   "outputs": [],
   "source": [
    "data.columns = ['fixed_acidity', 'volatile_acidity', 'citric_acid', 'residual_sugar',\n",
    "       'chlorides', 'free_sulfur_dioxide', 'total_sulfur_dioxide', 'density',\n",
    "       'pH', 'sulphates', 'alcohol', 'quality']"
   ]
  },
  {
   "cell_type": "code",
   "execution_count": 8,
   "metadata": {
    "colab": {
     "base_uri": "https://localhost:8080/",
     "height": 170
    },
    "colab_type": "code",
    "id": "JysGmnPHoER8",
    "outputId": "e39630b3-f386-422f-cc59-225f987879cd"
   },
   "outputs": [
    {
     "data": {
      "text/plain": [
       "quality\n",
       "3      20\n",
       "4     163\n",
       "5    1457\n",
       "6    2198\n",
       "7     880\n",
       "8     175\n",
       "9       5\n",
       "dtype: int64"
      ]
     },
     "execution_count": 8,
     "metadata": {
      "tags": []
     },
     "output_type": "execute_result"
    }
   ],
   "source": [
    "data.groupby('quality').size()\n"
   ]
  },
  {
   "cell_type": "code",
   "execution_count": 0,
   "metadata": {
    "colab": {},
    "colab_type": "code",
    "id": "uRrS7qXBoMVA"
   },
   "outputs": [],
   "source": [
    "bins = (2,5,6,9)\n",
    "names = [1,2,3]\n",
    "data['quality_type'] = pd.cut(data['quality'], bins, labels = names)"
   ]
  },
  {
   "cell_type": "code",
   "execution_count": 10,
   "metadata": {
    "colab": {
     "base_uri": "https://localhost:8080/",
     "height": 323
    },
    "colab_type": "code",
    "id": "vDvUnC-OoPDJ",
    "outputId": "c774d3ca-95e6-46f9-e6d9-567f300f9d1e"
   },
   "outputs": [
    {
     "name": "stdout",
     "output_type": "stream",
     "text": [
      "<class 'pandas.core.frame.DataFrame'>\n",
      "RangeIndex: 4898 entries, 0 to 4897\n",
      "Data columns (total 13 columns):\n",
      "fixed_acidity           4898 non-null float64\n",
      "volatile_acidity        4898 non-null float64\n",
      "citric_acid             4898 non-null float64\n",
      "residual_sugar          4898 non-null float64\n",
      "chlorides               4898 non-null float64\n",
      "free_sulfur_dioxide     4898 non-null float64\n",
      "total_sulfur_dioxide    4898 non-null float64\n",
      "density                 4898 non-null float64\n",
      "pH                      4898 non-null float64\n",
      "sulphates               4898 non-null float64\n",
      "alcohol                 4898 non-null float64\n",
      "quality                 4898 non-null int64\n",
      "quality_type            4898 non-null category\n",
      "dtypes: category(1), float64(11), int64(1)\n",
      "memory usage: 464.2 KB\n"
     ]
    }
   ],
   "source": [
    "data.info()\n"
   ]
  },
  {
   "cell_type": "code",
   "execution_count": 11,
   "metadata": {
    "colab": {
     "base_uri": "https://localhost:8080/",
     "height": 102
    },
    "colab_type": "code",
    "id": "VsfJQW36oRYB",
    "outputId": "7b962211-1065-47a3-9c67-f2195b6470a8"
   },
   "outputs": [
    {
     "data": {
      "text/plain": [
       "quality_type\n",
       "1    1640\n",
       "2    2198\n",
       "3    1060\n",
       "dtype: int64"
      ]
     },
     "execution_count": 11,
     "metadata": {
      "tags": []
     },
     "output_type": "execute_result"
    }
   ],
   "source": [
    "data.groupby('quality_type'). size()\n"
   ]
  },
  {
   "cell_type": "code",
   "execution_count": 0,
   "metadata": {
    "colab": {},
    "colab_type": "code",
    "id": "HFKeY5S-oX2s"
   },
   "outputs": [],
   "source": [
    "data['quality_type'] = pd.to_numeric(data['quality_type'])\n"
   ]
  },
  {
   "cell_type": "code",
   "execution_count": 13,
   "metadata": {
    "colab": {
     "base_uri": "https://localhost:8080/",
     "height": 323
    },
    "colab_type": "code",
    "id": "BH6naXaQogJQ",
    "outputId": "14b8fc94-64a8-4f0b-d550-c5b62284d96c"
   },
   "outputs": [
    {
     "name": "stdout",
     "output_type": "stream",
     "text": [
      "<class 'pandas.core.frame.DataFrame'>\n",
      "RangeIndex: 4898 entries, 0 to 4897\n",
      "Data columns (total 13 columns):\n",
      "fixed_acidity           4898 non-null float64\n",
      "volatile_acidity        4898 non-null float64\n",
      "citric_acid             4898 non-null float64\n",
      "residual_sugar          4898 non-null float64\n",
      "chlorides               4898 non-null float64\n",
      "free_sulfur_dioxide     4898 non-null float64\n",
      "total_sulfur_dioxide    4898 non-null float64\n",
      "density                 4898 non-null float64\n",
      "pH                      4898 non-null float64\n",
      "sulphates               4898 non-null float64\n",
      "alcohol                 4898 non-null float64\n",
      "quality                 4898 non-null int64\n",
      "quality_type            4898 non-null int64\n",
      "dtypes: float64(11), int64(2)\n",
      "memory usage: 497.5 KB\n"
     ]
    }
   ],
   "source": [
    "data.info()\n"
   ]
  },
  {
   "cell_type": "code",
   "execution_count": 14,
   "metadata": {
    "colab": {
     "base_uri": "https://localhost:8080/",
     "height": 34
    },
    "colab_type": "code",
    "id": "TKkpoBJ9ojyd",
    "outputId": "8b89acaf-08e6-49d3-b8c4-ed91ba45d5e2"
   },
   "outputs": [
    {
     "data": {
      "text/plain": [
       "'/content'"
      ]
     },
     "execution_count": 14,
     "metadata": {
      "tags": []
     },
     "output_type": "execute_result"
    }
   ],
   "source": [
    "pwd()\n"
   ]
  },
  {
   "cell_type": "code",
   "execution_count": 0,
   "metadata": {
    "colab": {},
    "colab_type": "code",
    "id": "GNjy-o07onJF"
   },
   "outputs": [],
   "source": [
    "eda_report = pandas_profiling.ProfileReport(data)\n",
    "eda_report.to_file('white_wine.html')"
   ]
  },
  {
   "cell_type": "code",
   "execution_count": 0,
   "metadata": {
    "colab": {},
    "colab_type": "code",
    "id": "naN2lKgloqQy"
   },
   "outputs": [],
   "source": [
    "x = data.drop(['quality','quality_type'],axis = 1, inplace=False) #store pixel values in X\n",
    "y = data['quality_type']"
   ]
  },
  {
   "cell_type": "code",
   "execution_count": 17,
   "metadata": {
    "colab": {
     "base_uri": "https://localhost:8080/",
     "height": 34
    },
    "colab_type": "code",
    "id": "hhp61jO4oyST",
    "outputId": "7cae6855-859b-4e9d-cb03-4857ad0a20a5"
   },
   "outputs": [
    {
     "data": {
      "text/plain": [
       "(4898, 11)"
      ]
     },
     "execution_count": 17,
     "metadata": {
      "tags": []
     },
     "output_type": "execute_result"
    }
   ],
   "source": [
    "x.shape\n"
   ]
  },
  {
   "cell_type": "code",
   "execution_count": 18,
   "metadata": {
    "colab": {
     "base_uri": "https://localhost:8080/",
     "height": 85
    },
    "colab_type": "code",
    "id": "5Wgd1B4no1RW",
    "outputId": "40502652-eb46-46a6-bc1c-f60cf73455e4"
   },
   "outputs": [
    {
     "data": {
      "text/plain": [
       "Index(['fixed_acidity', 'volatile_acidity', 'citric_acid', 'residual_sugar',\n",
       "       'chlorides', 'free_sulfur_dioxide', 'total_sulfur_dioxide', 'density',\n",
       "       'pH', 'sulphates', 'alcohol'],\n",
       "      dtype='object')"
      ]
     },
     "execution_count": 18,
     "metadata": {
      "tags": []
     },
     "output_type": "execute_result"
    }
   ],
   "source": [
    "x.columns\n"
   ]
  },
  {
   "cell_type": "code",
   "execution_count": 0,
   "metadata": {
    "colab": {},
    "colab_type": "code",
    "id": "b9Y8K2s7o5UH"
   },
   "outputs": [],
   "source": [
    "x_train, x_test, y_train, y_test = train_test_split(x, y, test_size=0.25, random_state=42)\n"
   ]
  },
  {
   "cell_type": "code",
   "execution_count": 0,
   "metadata": {
    "colab": {},
    "colab_type": "code",
    "id": "IE4eKiDKo9FQ"
   },
   "outputs": [],
   "source": [
    "n_estimators = [10,500,1000,2000]\n",
    "criterion = ['gini', 'entropy']\n",
    "min_samples_split = [2, 10, 20, 50, 100]\n",
    "max_depth = [20, 30, 40, 50, None]"
   ]
  },
  {
   "cell_type": "code",
   "execution_count": 21,
   "metadata": {
    "colab": {
     "base_uri": "https://localhost:8080/",
     "height": 119
    },
    "colab_type": "code",
    "id": "Wx2P-wlIo_s5",
    "outputId": "544c2b76-80ba-44d0-dbe9-b7b59d2b7d5b"
   },
   "outputs": [
    {
     "data": {
      "text/plain": [
       "DecisionTreeClassifier(class_weight=None, criterion='gini', max_depth=4,\n",
       "                       max_features=None, max_leaf_nodes=None,\n",
       "                       min_impurity_decrease=0.0, min_impurity_split=None,\n",
       "                       min_samples_leaf=1, min_samples_split=2,\n",
       "                       min_weight_fraction_leaf=0.0, presort=False,\n",
       "                       random_state=None, splitter='best')"
      ]
     },
     "execution_count": 21,
     "metadata": {
      "tags": []
     },
     "output_type": "execute_result"
    }
   ],
   "source": [
    "# Importing the packages for Decision Tree Classifier\n",
    "from sklearn import tree\n",
    "my_tree_one = tree.DecisionTreeClassifier(max_depth=4)\n",
    "my_tree_one"
   ]
  },
  {
   "cell_type": "code",
   "execution_count": 0,
   "metadata": {
    "colab": {},
    "colab_type": "code",
    "id": "kPbeLX-_pCON"
   },
   "outputs": [],
   "source": [
    "# Fit the Decision Tree model on your features and Label\n",
    "\n",
    "my_tree_one = my_tree_one.fit(x_train, y_train)"
   ]
  },
  {
   "cell_type": "code",
   "execution_count": 0,
   "metadata": {
    "colab": {},
    "colab_type": "code",
    "id": "G9Ghm_plpNIw"
   },
   "outputs": [],
   "source": [
    "predicted = my_tree_one.predict(x_test)\n"
   ]
  },
  {
   "cell_type": "code",
   "execution_count": 24,
   "metadata": {
    "colab": {
     "base_uri": "https://localhost:8080/",
     "height": 34
    },
    "colab_type": "code",
    "id": "kpFD5vEcpPL4",
    "outputId": "e45fcfa8-a879-4bef-d93e-16155b32e47f"
   },
   "outputs": [
    {
     "data": {
      "text/plain": [
       "0.556734693877551"
      ]
     },
     "execution_count": 24,
     "metadata": {
      "tags": []
     },
     "output_type": "execute_result"
    }
   ],
   "source": [
    "metrics.accuracy_score(predicted, y_test)\n"
   ]
  },
  {
   "cell_type": "code",
   "execution_count": 25,
   "metadata": {
    "colab": {
     "base_uri": "https://localhost:8080/",
     "height": 187
    },
    "colab_type": "code",
    "id": "YOC9EYwTpT8t",
    "outputId": "2fd6afb7-26dd-42db-f269-f32e49279e4c"
   },
   "outputs": [
    {
     "name": "stdout",
     "output_type": "stream",
     "text": [
      "              precision    recall  f1-score   support\n",
      "\n",
      "           1       0.57      0.62      0.59       366\n",
      "           2       0.62      0.52      0.57       643\n",
      "           3       0.42      0.56      0.48       216\n",
      "\n",
      "    accuracy                           0.56      1225\n",
      "   macro avg       0.54      0.57      0.55      1225\n",
      "weighted avg       0.57      0.56      0.56      1225\n",
      "\n"
     ]
    }
   ],
   "source": [
    "print(metrics.classification_report(predicted, y_test))\n"
   ]
  },
  {
   "cell_type": "code",
   "execution_count": 43,
   "metadata": {
    "colab": {
     "base_uri": "https://localhost:8080/",
     "height": 411
    },
    "colab_type": "code",
    "id": "d3I1KgiepWJt",
    "outputId": "9a981093-0854-4cef-ae92-5f2b1c2f1aa0"
   },
   "outputs": [
    {
     "data": {
      "text/plain": [
       "<Figure size 800x400 with 0 Axes>"
      ]
     },
     "execution_count": 43,
     "metadata": {
      "tags": []
     },
     "output_type": "execute_result"
    },
    {
     "name": "stdout",
     "output_type": "stream",
     "text": [
      "Confusion Matrix\n"
     ]
    },
    {
     "data": {
      "text/plain": [
       "<matplotlib.axes._subplots.AxesSubplot at 0x7fb749390e10>"
      ]
     },
     "execution_count": 43,
     "metadata": {
      "tags": []
     },
     "output_type": "execute_result"
    },
    {
     "data": {
      "image/png": "[encoded data removed]",
      "text/plain": [
       "<Figure size 800x400 with 2 Axes>"
      ]
     },
     "metadata": {
      "tags": []
     },
     "output_type": "display_data"
    }
   ],
   "source": [
    "plt.figure(figsize=(8,4))\n",
    "print('Confusion Matrix')\n",
    "cf = metrics.confusion_matrix(predicted, y_test)\n",
    "lbl1=[\"P1\", \"P2\", \"P3\"]\n",
    "lbl2 = [\"T1\", \"T2\", \"T3\"]\n",
    "sns.heatmap(cf,annot=True,cmap =\"BrBG_r\", fmt=\"d\", xticklabels=lbl1,yticklabels=lbl2)\n",
    "plt.show()"
   ]
  },
  {
   "cell_type": "code",
   "execution_count": 27,
   "metadata": {
    "colab": {
     "base_uri": "https://localhost:8080/",
     "height": 865
    },
    "colab_type": "code",
    "id": "j7pyWHzVpaWX",
    "outputId": "90ce61e2-3fee-4a54-e1f8-16b8e234a54c"
   },
   "outputs": [
    {
     "data": {
      "text/plain": [
       "array([0.        , 0.2548307 , 0.01236851, 0.        , 0.00742463,\n",
       "       0.13547932, 0.        , 0.        , 0.02408205, 0.0112559 ,\n",
       "       0.5545589 ])"
      ]
     },
     "execution_count": 27,
     "metadata": {
      "tags": []
     },
     "output_type": "execute_result"
    },
    {
     "data": {
      "text/plain": [
       "Index(['fixed_acidity', 'volatile_acidity', 'citric_acid', 'residual_sugar',\n",
       "       'chlorides', 'free_sulfur_dioxide', 'total_sulfur_dioxide', 'density',\n",
       "       'pH', 'sulphates', 'alcohol'],\n",
       "      dtype='object')"
      ]
     },
     "execution_count": 27,
     "metadata": {
      "tags": []
     },
     "output_type": "execute_result"
    },
    {
     "data": {
      "text/html": [
       "<div>\n",
       "<style scoped>\n",
       "    .dataframe tbody tr th:only-of-type {\n",
       "        vertical-align: middle;\n",
       "    }\n",
       "\n",
       "    .dataframe tbody tr th {\n",
       "        vertical-align: top;\n",
       "    }\n",
       "\n",
       "    .dataframe thead th {\n",
       "        text-align: right;\n",
       "    }\n",
       "</style>\n",
       "<table border=\"1\" class=\"dataframe\">\n",
       "  <thead>\n",
       "    <tr style=\"text-align: right;\">\n",
       "      <th></th>\n",
       "      <th>0</th>\n",
       "    </tr>\n",
       "  </thead>\n",
       "  <tbody>\n",
       "    <tr>\n",
       "      <th>fixed_acidity</th>\n",
       "      <td>0.000000</td>\n",
       "    </tr>\n",
       "    <tr>\n",
       "      <th>volatile_acidity</th>\n",
       "      <td>0.254831</td>\n",
       "    </tr>\n",
       "    <tr>\n",
       "      <th>citric_acid</th>\n",
       "      <td>0.012369</td>\n",
       "    </tr>\n",
       "    <tr>\n",
       "      <th>residual_sugar</th>\n",
       "      <td>0.000000</td>\n",
       "    </tr>\n",
       "    <tr>\n",
       "      <th>chlorides</th>\n",
       "      <td>0.007425</td>\n",
       "    </tr>\n",
       "    <tr>\n",
       "      <th>free_sulfur_dioxide</th>\n",
       "      <td>0.135479</td>\n",
       "    </tr>\n",
       "    <tr>\n",
       "      <th>total_sulfur_dioxide</th>\n",
       "      <td>0.000000</td>\n",
       "    </tr>\n",
       "    <tr>\n",
       "      <th>density</th>\n",
       "      <td>0.000000</td>\n",
       "    </tr>\n",
       "    <tr>\n",
       "      <th>pH</th>\n",
       "      <td>0.024082</td>\n",
       "    </tr>\n",
       "    <tr>\n",
       "      <th>sulphates</th>\n",
       "      <td>0.011256</td>\n",
       "    </tr>\n",
       "    <tr>\n",
       "      <th>alcohol</th>\n",
       "      <td>0.554559</td>\n",
       "    </tr>\n",
       "  </tbody>\n",
       "</table>\n",
       "</div>"
      ],
      "text/plain": [
       "                             0\n",
       "fixed_acidity         0.000000\n",
       "volatile_acidity      0.254831\n",
       "citric_acid           0.012369\n",
       "residual_sugar        0.000000\n",
       "chlorides             0.007425\n",
       "free_sulfur_dioxide   0.135479\n",
       "total_sulfur_dioxide  0.000000\n",
       "density               0.000000\n",
       "pH                    0.024082\n",
       "sulphates             0.011256\n",
       "alcohol               0.554559"
      ]
     },
     "execution_count": 27,
     "metadata": {
      "tags": []
     },
     "output_type": "execute_result"
    },
    {
     "data": {
      "text/html": [
       "<div>\n",
       "<style scoped>\n",
       "    .dataframe tbody tr th:only-of-type {\n",
       "        vertical-align: middle;\n",
       "    }\n",
       "\n",
       "    .dataframe tbody tr th {\n",
       "        vertical-align: top;\n",
       "    }\n",
       "\n",
       "    .dataframe thead th {\n",
       "        text-align: right;\n",
       "    }\n",
       "</style>\n",
       "<table border=\"1\" class=\"dataframe\">\n",
       "  <thead>\n",
       "    <tr style=\"text-align: right;\">\n",
       "      <th></th>\n",
       "      <th>Importance</th>\n",
       "    </tr>\n",
       "  </thead>\n",
       "  <tbody>\n",
       "    <tr>\n",
       "      <th>fixed_acidity</th>\n",
       "      <td>0.000000</td>\n",
       "    </tr>\n",
       "    <tr>\n",
       "      <th>volatile_acidity</th>\n",
       "      <td>0.254831</td>\n",
       "    </tr>\n",
       "    <tr>\n",
       "      <th>citric_acid</th>\n",
       "      <td>0.012369</td>\n",
       "    </tr>\n",
       "    <tr>\n",
       "      <th>residual_sugar</th>\n",
       "      <td>0.000000</td>\n",
       "    </tr>\n",
       "    <tr>\n",
       "      <th>chlorides</th>\n",
       "      <td>0.007425</td>\n",
       "    </tr>\n",
       "    <tr>\n",
       "      <th>free_sulfur_dioxide</th>\n",
       "      <td>0.135479</td>\n",
       "    </tr>\n",
       "    <tr>\n",
       "      <th>total_sulfur_dioxide</th>\n",
       "      <td>0.000000</td>\n",
       "    </tr>\n",
       "    <tr>\n",
       "      <th>density</th>\n",
       "      <td>0.000000</td>\n",
       "    </tr>\n",
       "    <tr>\n",
       "      <th>pH</th>\n",
       "      <td>0.024082</td>\n",
       "    </tr>\n",
       "    <tr>\n",
       "      <th>sulphates</th>\n",
       "      <td>0.011256</td>\n",
       "    </tr>\n",
       "    <tr>\n",
       "      <th>alcohol</th>\n",
       "      <td>0.554559</td>\n",
       "    </tr>\n",
       "  </tbody>\n",
       "</table>\n",
       "</div>"
      ],
      "text/plain": [
       "                      Importance\n",
       "fixed_acidity           0.000000\n",
       "volatile_acidity        0.254831\n",
       "citric_acid             0.012369\n",
       "residual_sugar          0.000000\n",
       "chlorides               0.007425\n",
       "free_sulfur_dioxide     0.135479\n",
       "total_sulfur_dioxide    0.000000\n",
       "density                 0.000000\n",
       "pH                      0.024082\n",
       "sulphates               0.011256\n",
       "alcohol                 0.554559"
      ]
     },
     "execution_count": 27,
     "metadata": {
      "tags": []
     },
     "output_type": "execute_result"
    }
   ],
   "source": [
    "my_tree_one.feature_importances_\n",
    "x.columns\n",
    "features = pd.DataFrame(my_tree_one.feature_importances_,x.columns)\n",
    "features\n",
    "features.columns = [\"Importance\"]\n",
    "features"
   ]
  },
  {
   "cell_type": "code",
   "execution_count": 28,
   "metadata": {
    "colab": {
     "base_uri": "https://localhost:8080/",
     "height": 380
    },
    "colab_type": "code",
    "id": "FVXkbdI3pgYh",
    "outputId": "51cbf00d-e29d-493b-d645-5356f34efde2"
   },
   "outputs": [
    {
     "data": {
      "image/svg+xml": [
       "<?xml version=\"1.0\" encoding=\"UTF-8\" standalone=\"no\"?>\n",
       "<!DOCTYPE svg PUBLIC \"-//W3C//DTD SVG 1.1//EN\"\n",
       " \"http://www.w3.org/Graphics/SVG/1.1/DTD/svg11.dtd\">\n",
       "<!-- Generated by graphviz version 2.40.1 (20161225.0304)\n",
       " -->\n",
       "<!-- Title: Tree Pages: 1 -->\n",
       "<svg width=\"672pt\" height=\"269pt\"\n",
       " viewBox=\"0.00 0.00 671.50 269.00\" xmlns=\"http://www.w3.org/2000/svg\" xmlns:xlink=\"http://www.w3.org/1999/xlink\">\n",
       "<g id=\"graph0\" class=\"graph\" transform=\"scale(1 1) rotate(0) translate(4 265)\">\n",
       "<title>Tree</title>\n",
       "<polygon fill=\"#ffffff\" stroke=\"transparent\" points=\"-4,4 -4,-265 667.5,-265 667.5,4 -4,4\"/>\n",
       "<!-- 0 -->\n",
       "<g id=\"node1\" class=\"node\">\n",
       "<title>0</title>\n",
       "<polygon fill=\"#ddfbe9\" stroke=\"#000000\" points=\"422,-261 245,-261 245,-193 422,-193 422,-261\"/>\n",
       "<text text-anchor=\"middle\" x=\"333.5\" y=\"-245.8\" font-family=\"Times,serif\" font-size=\"14.00\" fill=\"#000000\">alcohol &lt;= 10.85</text>\n",
       "<text text-anchor=\"middle\" x=\"333.5\" y=\"-230.8\" font-family=\"Times,serif\" font-size=\"14.00\" fill=\"#000000\">gini = 0.64</text>\n",
       "<text text-anchor=\"middle\" x=\"333.5\" y=\"-215.8\" font-family=\"Times,serif\" font-size=\"14.00\" fill=\"#000000\">samples = 4898</text>\n",
       "<text text-anchor=\"middle\" x=\"333.5\" y=\"-200.8\" font-family=\"Times,serif\" font-size=\"14.00\" fill=\"#000000\">value = [1640, 2198, 1060]</text>\n",
       "</g>\n",
       "<!-- 1 -->\n",
       "<g id=\"node2\" class=\"node\">\n",
       "<title>1</title>\n",
       "<polygon fill=\"#fefaf7\" stroke=\"#000000\" points=\"328.5,-157 158.5,-157 158.5,-89 328.5,-89 328.5,-157\"/>\n",
       "<text text-anchor=\"middle\" x=\"243.5\" y=\"-141.8\" font-family=\"Times,serif\" font-size=\"14.00\" fill=\"#000000\">volatile_acidity &lt;= 0.252</text>\n",
       "<text text-anchor=\"middle\" x=\"243.5\" y=\"-126.8\" font-family=\"Times,serif\" font-size=\"14.00\" fill=\"#000000\">gini = 0.586</text>\n",
       "<text text-anchor=\"middle\" x=\"243.5\" y=\"-111.8\" font-family=\"Times,serif\" font-size=\"14.00\" fill=\"#000000\">samples = 3085</text>\n",
       "<text text-anchor=\"middle\" x=\"243.5\" y=\"-96.8\" font-family=\"Times,serif\" font-size=\"14.00\" fill=\"#000000\">value = [1419, 1353, 313]</text>\n",
       "</g>\n",
       "<!-- 0&#45;&gt;1 -->\n",
       "<g id=\"edge1\" class=\"edge\">\n",
       "<title>0&#45;&gt;1</title>\n",
       "<path fill=\"none\" stroke=\"#000000\" d=\"M304.0306,-192.9465C296.2607,-183.968 287.7868,-174.1758 279.7064,-164.8385\"/>\n",
       "<polygon fill=\"#000000\" stroke=\"#000000\" points=\"282.226,-162.4014 273.0356,-157.13 276.9328,-166.982 282.226,-162.4014\"/>\n",
       "<text text-anchor=\"middle\" x=\"271.2361\" y=\"-178.3652\" font-family=\"Times,serif\" font-size=\"14.00\" fill=\"#000000\">True</text>\n",
       "</g>\n",
       "<!-- 4 -->\n",
       "<g id=\"node5\" class=\"node\">\n",
       "<title>4</title>\n",
       "<polygon fill=\"#edfdf3\" stroke=\"#000000\" points=\"502,-157 347,-157 347,-89 502,-89 502,-157\"/>\n",
       "<text text-anchor=\"middle\" x=\"424.5\" y=\"-141.8\" font-family=\"Times,serif\" font-size=\"14.00\" fill=\"#000000\">alcohol &lt;= 12.55</text>\n",
       "<text text-anchor=\"middle\" x=\"424.5\" y=\"-126.8\" font-family=\"Times,serif\" font-size=\"14.00\" fill=\"#000000\">gini = 0.598</text>\n",
       "<text text-anchor=\"middle\" x=\"424.5\" y=\"-111.8\" font-family=\"Times,serif\" font-size=\"14.00\" fill=\"#000000\">samples = 1813</text>\n",
       "<text text-anchor=\"middle\" x=\"424.5\" y=\"-96.8\" font-family=\"Times,serif\" font-size=\"14.00\" fill=\"#000000\">value = [221, 845, 747]</text>\n",
       "</g>\n",
       "<!-- 0&#45;&gt;4 -->\n",
       "<g id=\"edge4\" class=\"edge\">\n",
       "<title>0&#45;&gt;4</title>\n",
       "<path fill=\"none\" stroke=\"#000000\" d=\"M363.2968,-192.9465C371.153,-183.968 379.7212,-174.1758 387.8913,-164.8385\"/>\n",
       "<polygon fill=\"#000000\" stroke=\"#000000\" points=\"390.6852,-166.9606 394.6363,-157.13 385.4171,-162.351 390.6852,-166.9606\"/>\n",
       "<text text-anchor=\"middle\" x=\"396.2992\" y=\"-178.3746\" font-family=\"Times,serif\" font-size=\"14.00\" fill=\"#000000\">False</text>\n",
       "</g>\n",
       "<!-- 2 -->\n",
       "<g id=\"node3\" class=\"node\">\n",
       "<title>2</title>\n",
       "<polygon fill=\"#bcf6d4\" stroke=\"#000000\" points=\"155,-53 0,-53 0,0 155,0 155,-53\"/>\n",
       "<text text-anchor=\"middle\" x=\"77.5\" y=\"-37.8\" font-family=\"Times,serif\" font-size=\"14.00\" fill=\"#000000\">gini = 0.598</text>\n",
       "<text text-anchor=\"middle\" x=\"77.5\" y=\"-22.8\" font-family=\"Times,serif\" font-size=\"14.00\" fill=\"#000000\">samples = 1475</text>\n",
       "<text text-anchor=\"middle\" x=\"77.5\" y=\"-7.8\" font-family=\"Times,serif\" font-size=\"14.00\" fill=\"#000000\">value = [436, 788, 251]</text>\n",
       "</g>\n",
       "<!-- 1&#45;&gt;2 -->\n",
       "<g id=\"edge2\" class=\"edge\">\n",
       "<title>1&#45;&gt;2</title>\n",
       "<path fill=\"none\" stroke=\"#000000\" d=\"M184.9746,-88.9777C167.7256,-78.9504 148.9277,-68.0228 131.946,-58.1508\"/>\n",
       "<polygon fill=\"#000000\" stroke=\"#000000\" points=\"133.6533,-55.095 123.249,-53.095 130.1353,-61.1467 133.6533,-55.095\"/>\n",
       "</g>\n",
       "<!-- 3 -->\n",
       "<g id=\"node4\" class=\"node\">\n",
       "<title>3</title>\n",
       "<polygon fill=\"#f5cdb0\" stroke=\"#000000\" points=\"320,-53 173,-53 173,0 320,0 320,-53\"/>\n",
       "<text text-anchor=\"middle\" x=\"246.5\" y=\"-37.8\" font-family=\"Times,serif\" font-size=\"14.00\" fill=\"#000000\">gini = 0.503</text>\n",
       "<text text-anchor=\"middle\" x=\"246.5\" y=\"-22.8\" font-family=\"Times,serif\" font-size=\"14.00\" fill=\"#000000\">samples = 1610</text>\n",
       "<text text-anchor=\"middle\" x=\"246.5\" y=\"-7.8\" font-family=\"Times,serif\" font-size=\"14.00\" fill=\"#000000\">value = [983, 565, 62]</text>\n",
       "</g>\n",
       "<!-- 1&#45;&gt;3 -->\n",
       "<g id=\"edge3\" class=\"edge\">\n",
       "<title>1&#45;&gt;3</title>\n",
       "<path fill=\"none\" stroke=\"#000000\" d=\"M244.5577,-88.9777C244.8139,-80.7364 245.089,-71.887 245.3493,-63.5153\"/>\n",
       "<polygon fill=\"#000000\" stroke=\"#000000\" points=\"248.8559,-63.3524 245.6684,-53.2485 241.8593,-63.1349 248.8559,-63.3524\"/>\n",
       "</g>\n",
       "<!-- 5 -->\n",
       "<g id=\"node6\" class=\"node\">\n",
       "<title>5</title>\n",
       "<polygon fill=\"#d4f9e4\" stroke=\"#000000\" points=\"499,-53 344,-53 344,0 499,0 499,-53\"/>\n",
       "<text text-anchor=\"middle\" x=\"421.5\" y=\"-37.8\" font-family=\"Times,serif\" font-size=\"14.00\" fill=\"#000000\">gini = 0.602</text>\n",
       "<text text-anchor=\"middle\" x=\"421.5\" y=\"-22.8\" font-family=\"Times,serif\" font-size=\"14.00\" fill=\"#000000\">samples = 1458</text>\n",
       "<text text-anchor=\"middle\" x=\"421.5\" y=\"-7.8\" font-family=\"Times,serif\" font-size=\"14.00\" fill=\"#000000\">value = [207, 726, 525]</text>\n",
       "</g>\n",
       "<!-- 4&#45;&gt;5 -->\n",
       "<g id=\"edge5\" class=\"edge\">\n",
       "<title>4&#45;&gt;5</title>\n",
       "<path fill=\"none\" stroke=\"#000000\" d=\"M423.4423,-88.9777C423.1861,-80.7364 422.911,-71.887 422.6507,-63.5153\"/>\n",
       "<polygon fill=\"#000000\" stroke=\"#000000\" points=\"426.1407,-63.1349 422.3316,-53.2485 419.1441,-63.3524 426.1407,-63.1349\"/>\n",
       "</g>\n",
       "<!-- 6 -->\n",
       "<g id=\"node7\" class=\"node\">\n",
       "<title>6</title>\n",
       "<polygon fill=\"#c8a9f4\" stroke=\"#000000\" points=\"663.5,-53 517.5,-53 517.5,0 663.5,0 663.5,-53\"/>\n",
       "<text text-anchor=\"middle\" x=\"590.5\" y=\"-37.8\" font-family=\"Times,serif\" font-size=\"14.00\" fill=\"#000000\">gini = 0.495</text>\n",
       "<text text-anchor=\"middle\" x=\"590.5\" y=\"-22.8\" font-family=\"Times,serif\" font-size=\"14.00\" fill=\"#000000\">samples = 355</text>\n",
       "<text text-anchor=\"middle\" x=\"590.5\" y=\"-7.8\" font-family=\"Times,serif\" font-size=\"14.00\" fill=\"#000000\">value = [14, 119, 222]</text>\n",
       "</g>\n",
       "<!-- 4&#45;&gt;6 -->\n",
       "<g id=\"edge6\" class=\"edge\">\n",
       "<title>4&#45;&gt;6</title>\n",
       "<path fill=\"none\" stroke=\"#000000\" d=\"M483.0254,-88.9777C500.2744,-78.9504 519.0723,-68.0228 536.054,-58.1508\"/>\n",
       "<polygon fill=\"#000000\" stroke=\"#000000\" points=\"537.8647,-61.1467 544.751,-53.095 534.3467,-55.095 537.8647,-61.1467\"/>\n",
       "</g>\n",
       "</g>\n",
       "</svg>\n"
      ],
      "text/plain": [
       "<graphviz.files.Source at 0x7fb74943f710>"
      ]
     },
     "execution_count": 28,
     "metadata": {
      "tags": []
     },
     "output_type": "execute_result"
    }
   ],
   "source": [
    "import graphviz\n",
    "from sklearn import tree\n",
    "clf = tree.DecisionTreeClassifier(max_depth=2)\n",
    "clf = clf.fit(x,y)\n",
    "with open('tree.dot','w') as dotfile:\n",
    "    tree.export_graphviz(clf,out_file=dotfile,feature_names=x.columns,filled=True)\n",
    "    dotfile.close()\n",
    "    \n",
    "from graphviz import Source\n",
    "with open('tree.dot','r') as f:\n",
    "    text=f.read()\n",
    "    plot=Source(text)\n",
    "plot"
   ]
  },
  {
   "cell_type": "code",
   "execution_count": 0,
   "metadata": {
    "colab": {},
    "colab_type": "code",
    "id": "nK7eFdghpk08"
   },
   "outputs": [],
   "source": [
    "#Decision Tree Hyperparameters optimization using cross-validation \n",
    "criterion=['gini','entropy']\n",
    "min_Sample_split=[2,10,20,50,100]\n",
    "MAX_dEPTH=[20,30,40,None]"
   ]
  },
  {
   "cell_type": "code",
   "execution_count": 34,
   "metadata": {
    "colab": {
     "base_uri": "https://localhost:8080/",
     "height": 391
    },
    "colab_type": "code",
    "id": "5GWyuYyRqbl3",
    "outputId": "8c3e0f4f-113d-4963-fe0b-7fc2fafebf3b"
   },
   "outputs": [
    {
     "name": "stdout",
     "output_type": "stream",
     "text": [
      "Fitting 5 folds for each of 50 candidates, totalling 250 fits\n"
     ]
    },
    {
     "name": "stderr",
     "output_type": "stream",
     "text": [
      "[Parallel(n_jobs=-1)]: Using backend LokyBackend with 2 concurrent workers.\n",
      "[Parallel(n_jobs=-1)]: Done 176 tasks      | elapsed:    4.9s\n",
      "[Parallel(n_jobs=-1)]: Done 250 out of 250 | elapsed:    6.6s finished\n"
     ]
    },
    {
     "data": {
      "text/plain": [
       "GridSearchCV(cv=5, error_score='raise-deprecating',\n",
       "             estimator=DecisionTreeClassifier(class_weight=None,\n",
       "                                              criterion='gini', max_depth=4,\n",
       "                                              max_features=None,\n",
       "                                              max_leaf_nodes=None,\n",
       "                                              min_impurity_decrease=0.0,\n",
       "                                              min_impurity_split=None,\n",
       "                                              min_samples_leaf=1,\n",
       "                                              min_samples_split=2,\n",
       "                                              min_weight_fraction_leaf=0.0,\n",
       "                                              presort=False, random_state=None,\n",
       "                                              splitter='best'),\n",
       "             iid='warn', n_jobs=-1,\n",
       "             param_grid={'criterion': ['gini', 'entropy'],\n",
       "                         'max_depth': [20, 30, 40, 50, None],\n",
       "                         'min_samples_split': [2, 10, 20, 50, 100]},\n",
       "             pre_dispatch='2*n_jobs', refit=True, return_train_score=False,\n",
       "             scoring=None, verbose=2)"
      ]
     },
     "execution_count": 34,
     "metadata": {
      "tags": []
     },
     "output_type": "execute_result"
    }
   ],
   "source": [
    "param_grid={'criterion':criterion, 'min_samples_split':min_samples_split,'max_depth':max_depth}\n",
    "dt_g=GridSearchCV(my_tree_one, param_grid, cv=5,verbose = 2,n_jobs=-1)\n",
    "dt_g.fit(x_train,y_train)"
   ]
  },
  {
   "cell_type": "code",
   "execution_count": 35,
   "metadata": {
    "colab": {
     "base_uri": "https://localhost:8080/",
     "height": 119
    },
    "colab_type": "code",
    "id": "8xPlFJJZrG_L",
    "outputId": "e8809902-cd0f-423f-d130-e4b65cc4a2e8"
   },
   "outputs": [
    {
     "data": {
      "text/plain": [
       "DecisionTreeClassifier(class_weight=None, criterion='gini', max_depth=None,\n",
       "                       max_features=None, max_leaf_nodes=None,\n",
       "                       min_impurity_decrease=0.0, min_impurity_split=None,\n",
       "                       min_samples_leaf=1, min_samples_split=2,\n",
       "                       min_weight_fraction_leaf=0.0, presort=False,\n",
       "                       random_state=None, splitter='best')"
      ]
     },
     "execution_count": 35,
     "metadata": {
      "tags": []
     },
     "output_type": "execute_result"
    }
   ],
   "source": [
    "dt_g.best_estimator_"
   ]
  },
  {
   "cell_type": "code",
   "execution_count": 36,
   "metadata": {
    "colab": {
     "base_uri": "https://localhost:8080/",
     "height": 34
    },
    "colab_type": "code",
    "id": "MZ0ufA-5slPm",
    "outputId": "3dcd38d1-a317-4967-805c-3ea5f7dd9a4e"
   },
   "outputs": [
    {
     "data": {
      "text/plain": [
       "0.6234685543152736"
      ]
     },
     "execution_count": 36,
     "metadata": {
      "tags": []
     },
     "output_type": "execute_result"
    }
   ],
   "source": [
    "dt_g.best_score_"
   ]
  },
  {
   "cell_type": "code",
   "execution_count": 37,
   "metadata": {
    "colab": {
     "base_uri": "https://localhost:8080/",
     "height": 34
    },
    "colab_type": "code",
    "id": "xVbpTpuRs6sz",
    "outputId": "100efec1-4130-4218-e5f5-f56ca48d7252"
   },
   "outputs": [
    {
     "data": {
      "text/plain": [
       "20"
      ]
     },
     "execution_count": 37,
     "metadata": {
      "tags": []
     },
     "output_type": "execute_result"
    }
   ],
   "source": [
    "dt_g.best_index_"
   ]
  },
  {
   "cell_type": "code",
   "execution_count": 39,
   "metadata": {
    "colab": {
     "base_uri": "https://localhost:8080/",
     "height": 1000
    },
    "colab_type": "code",
    "id": "ztLNAhpBs-Xq",
    "outputId": "80ba1396-916e-4914-89f0-d5d3b09d7db9"
   },
   "outputs": [
    {
     "data": {
      "text/html": [
       "<div>\n",
       "<style scoped>\n",
       "    .dataframe tbody tr th:only-of-type {\n",
       "        vertical-align: middle;\n",
       "    }\n",
       "\n",
       "    .dataframe tbody tr th {\n",
       "        vertical-align: top;\n",
       "    }\n",
       "\n",
       "    .dataframe thead th {\n",
       "        text-align: right;\n",
       "    }\n",
       "</style>\n",
       "<table border=\"1\" class=\"dataframe\">\n",
       "  <thead>\n",
       "    <tr style=\"text-align: right;\">\n",
       "      <th></th>\n",
       "      <th>mean_fit_time</th>\n",
       "      <th>std_fit_time</th>\n",
       "      <th>mean_score_time</th>\n",
       "      <th>std_score_time</th>\n",
       "      <th>param_criterion</th>\n",
       "      <th>param_max_depth</th>\n",
       "      <th>param_min_samples_split</th>\n",
       "      <th>params</th>\n",
       "      <th>split0_test_score</th>\n",
       "      <th>split1_test_score</th>\n",
       "      <th>split2_test_score</th>\n",
       "      <th>split3_test_score</th>\n",
       "      <th>split4_test_score</th>\n",
       "      <th>mean_test_score</th>\n",
       "      <th>std_test_score</th>\n",
       "      <th>rank_test_score</th>\n",
       "    </tr>\n",
       "  </thead>\n",
       "  <tbody>\n",
       "    <tr>\n",
       "      <th>0</th>\n",
       "      <td>0.028286</td>\n",
       "      <td>0.001359</td>\n",
       "      <td>0.001526</td>\n",
       "      <td>0.000262</td>\n",
       "      <td>gini</td>\n",
       "      <td>20</td>\n",
       "      <td>2</td>\n",
       "      <td>{'criterion': 'gini', 'max_depth': 20, 'min_sa...</td>\n",
       "      <td>0.616848</td>\n",
       "      <td>0.627211</td>\n",
       "      <td>0.605442</td>\n",
       "      <td>0.611717</td>\n",
       "      <td>0.626194</td>\n",
       "      <td>0.617479</td>\n",
       "      <td>0.008356</td>\n",
       "      <td>9</td>\n",
       "    </tr>\n",
       "    <tr>\n",
       "      <th>1</th>\n",
       "      <td>0.026170</td>\n",
       "      <td>0.000430</td>\n",
       "      <td>0.001268</td>\n",
       "      <td>0.000035</td>\n",
       "      <td>gini</td>\n",
       "      <td>20</td>\n",
       "      <td>10</td>\n",
       "      <td>{'criterion': 'gini', 'max_depth': 20, 'min_sa...</td>\n",
       "      <td>0.599185</td>\n",
       "      <td>0.614966</td>\n",
       "      <td>0.620408</td>\n",
       "      <td>0.577657</td>\n",
       "      <td>0.612551</td>\n",
       "      <td>0.604955</td>\n",
       "      <td>0.015328</td>\n",
       "      <td>11</td>\n",
       "    </tr>\n",
       "    <tr>\n",
       "      <th>2</th>\n",
       "      <td>0.024178</td>\n",
       "      <td>0.001537</td>\n",
       "      <td>0.001252</td>\n",
       "      <td>0.000074</td>\n",
       "      <td>gini</td>\n",
       "      <td>20</td>\n",
       "      <td>20</td>\n",
       "      <td>{'criterion': 'gini', 'max_depth': 20, 'min_sa...</td>\n",
       "      <td>0.597826</td>\n",
       "      <td>0.580952</td>\n",
       "      <td>0.600000</td>\n",
       "      <td>0.542234</td>\n",
       "      <td>0.583902</td>\n",
       "      <td>0.580996</td>\n",
       "      <td>0.020760</td>\n",
       "      <td>27</td>\n",
       "    </tr>\n",
       "    <tr>\n",
       "      <th>3</th>\n",
       "      <td>0.020926</td>\n",
       "      <td>0.001249</td>\n",
       "      <td>0.001293</td>\n",
       "      <td>0.000164</td>\n",
       "      <td>gini</td>\n",
       "      <td>20</td>\n",
       "      <td>50</td>\n",
       "      <td>{'criterion': 'gini', 'max_depth': 20, 'min_sa...</td>\n",
       "      <td>0.576087</td>\n",
       "      <td>0.568707</td>\n",
       "      <td>0.583673</td>\n",
       "      <td>0.524523</td>\n",
       "      <td>0.568895</td>\n",
       "      <td>0.564389</td>\n",
       "      <td>0.020669</td>\n",
       "      <td>36</td>\n",
       "    </tr>\n",
       "    <tr>\n",
       "      <th>4</th>\n",
       "      <td>0.017943</td>\n",
       "      <td>0.001311</td>\n",
       "      <td>0.001226</td>\n",
       "      <td>0.000065</td>\n",
       "      <td>gini</td>\n",
       "      <td>20</td>\n",
       "      <td>100</td>\n",
       "      <td>{'criterion': 'gini', 'max_depth': 20, 'min_sa...</td>\n",
       "      <td>0.544837</td>\n",
       "      <td>0.557823</td>\n",
       "      <td>0.602721</td>\n",
       "      <td>0.554496</td>\n",
       "      <td>0.541610</td>\n",
       "      <td>0.560305</td>\n",
       "      <td>0.022038</td>\n",
       "      <td>44</td>\n",
       "    </tr>\n",
       "    <tr>\n",
       "      <th>5</th>\n",
       "      <td>0.027677</td>\n",
       "      <td>0.000579</td>\n",
       "      <td>0.001358</td>\n",
       "      <td>0.000108</td>\n",
       "      <td>gini</td>\n",
       "      <td>30</td>\n",
       "      <td>2</td>\n",
       "      <td>{'criterion': 'gini', 'max_depth': 30, 'min_sa...</td>\n",
       "      <td>0.615489</td>\n",
       "      <td>0.646259</td>\n",
       "      <td>0.609524</td>\n",
       "      <td>0.598093</td>\n",
       "      <td>0.619372</td>\n",
       "      <td>0.617751</td>\n",
       "      <td>0.015967</td>\n",
       "      <td>8</td>\n",
       "    </tr>\n",
       "    <tr>\n",
       "      <th>6</th>\n",
       "      <td>0.025759</td>\n",
       "      <td>0.001141</td>\n",
       "      <td>0.001620</td>\n",
       "      <td>0.000911</td>\n",
       "      <td>gini</td>\n",
       "      <td>30</td>\n",
       "      <td>10</td>\n",
       "      <td>{'criterion': 'gini', 'max_depth': 30, 'min_sa...</td>\n",
       "      <td>0.591033</td>\n",
       "      <td>0.623129</td>\n",
       "      <td>0.624490</td>\n",
       "      <td>0.574932</td>\n",
       "      <td>0.605730</td>\n",
       "      <td>0.603866</td>\n",
       "      <td>0.018983</td>\n",
       "      <td>12</td>\n",
       "    </tr>\n",
       "    <tr>\n",
       "      <th>7</th>\n",
       "      <td>0.024259</td>\n",
       "      <td>0.001187</td>\n",
       "      <td>0.001191</td>\n",
       "      <td>0.000070</td>\n",
       "      <td>gini</td>\n",
       "      <td>30</td>\n",
       "      <td>20</td>\n",
       "      <td>{'criterion': 'gini', 'max_depth': 30, 'min_sa...</td>\n",
       "      <td>0.596467</td>\n",
       "      <td>0.582313</td>\n",
       "      <td>0.601361</td>\n",
       "      <td>0.543597</td>\n",
       "      <td>0.581173</td>\n",
       "      <td>0.580996</td>\n",
       "      <td>0.020269</td>\n",
       "      <td>27</td>\n",
       "    </tr>\n",
       "    <tr>\n",
       "      <th>8</th>\n",
       "      <td>0.021499</td>\n",
       "      <td>0.000695</td>\n",
       "      <td>0.001239</td>\n",
       "      <td>0.000148</td>\n",
       "      <td>gini</td>\n",
       "      <td>30</td>\n",
       "      <td>50</td>\n",
       "      <td>{'criterion': 'gini', 'max_depth': 30, 'min_sa...</td>\n",
       "      <td>0.573370</td>\n",
       "      <td>0.567347</td>\n",
       "      <td>0.583673</td>\n",
       "      <td>0.524523</td>\n",
       "      <td>0.568895</td>\n",
       "      <td>0.563572</td>\n",
       "      <td>0.020330</td>\n",
       "      <td>40</td>\n",
       "    </tr>\n",
       "    <tr>\n",
       "      <th>9</th>\n",
       "      <td>0.024015</td>\n",
       "      <td>0.007305</td>\n",
       "      <td>0.001342</td>\n",
       "      <td>0.000304</td>\n",
       "      <td>gini</td>\n",
       "      <td>30</td>\n",
       "      <td>100</td>\n",
       "      <td>{'criterion': 'gini', 'max_depth': 30, 'min_sa...</td>\n",
       "      <td>0.544837</td>\n",
       "      <td>0.557823</td>\n",
       "      <td>0.602721</td>\n",
       "      <td>0.554496</td>\n",
       "      <td>0.541610</td>\n",
       "      <td>0.560305</td>\n",
       "      <td>0.022038</td>\n",
       "      <td>44</td>\n",
       "    </tr>\n",
       "    <tr>\n",
       "      <th>10</th>\n",
       "      <td>0.036468</td>\n",
       "      <td>0.001403</td>\n",
       "      <td>0.001673</td>\n",
       "      <td>0.000108</td>\n",
       "      <td>gini</td>\n",
       "      <td>40</td>\n",
       "      <td>2</td>\n",
       "      <td>{'criterion': 'gini', 'max_depth': 40, 'min_sa...</td>\n",
       "      <td>0.616848</td>\n",
       "      <td>0.635374</td>\n",
       "      <td>0.612245</td>\n",
       "      <td>0.594005</td>\n",
       "      <td>0.622101</td>\n",
       "      <td>0.616118</td>\n",
       "      <td>0.013497</td>\n",
       "      <td>10</td>\n",
       "    </tr>\n",
       "    <tr>\n",
       "      <th>11</th>\n",
       "      <td>0.036512</td>\n",
       "      <td>0.004480</td>\n",
       "      <td>0.001747</td>\n",
       "      <td>0.000192</td>\n",
       "      <td>gini</td>\n",
       "      <td>40</td>\n",
       "      <td>10</td>\n",
       "      <td>{'criterion': 'gini', 'max_depth': 40, 'min_sa...</td>\n",
       "      <td>0.595109</td>\n",
       "      <td>0.610884</td>\n",
       "      <td>0.623129</td>\n",
       "      <td>0.579019</td>\n",
       "      <td>0.603001</td>\n",
       "      <td>0.602233</td>\n",
       "      <td>0.014844</td>\n",
       "      <td>14</td>\n",
       "    </tr>\n",
       "    <tr>\n",
       "      <th>12</th>\n",
       "      <td>0.033448</td>\n",
       "      <td>0.001525</td>\n",
       "      <td>0.001659</td>\n",
       "      <td>0.000028</td>\n",
       "      <td>gini</td>\n",
       "      <td>40</td>\n",
       "      <td>20</td>\n",
       "      <td>{'criterion': 'gini', 'max_depth': 40, 'min_sa...</td>\n",
       "      <td>0.593750</td>\n",
       "      <td>0.580952</td>\n",
       "      <td>0.605442</td>\n",
       "      <td>0.544959</td>\n",
       "      <td>0.575716</td>\n",
       "      <td>0.580180</td>\n",
       "      <td>0.020411</td>\n",
       "      <td>29</td>\n",
       "    </tr>\n",
       "    <tr>\n",
       "      <th>13</th>\n",
       "      <td>0.027797</td>\n",
       "      <td>0.001603</td>\n",
       "      <td>0.001555</td>\n",
       "      <td>0.000136</td>\n",
       "      <td>gini</td>\n",
       "      <td>40</td>\n",
       "      <td>50</td>\n",
       "      <td>{'criterion': 'gini', 'max_depth': 40, 'min_sa...</td>\n",
       "      <td>0.573370</td>\n",
       "      <td>0.568707</td>\n",
       "      <td>0.583673</td>\n",
       "      <td>0.524523</td>\n",
       "      <td>0.568895</td>\n",
       "      <td>0.563844</td>\n",
       "      <td>0.020388</td>\n",
       "      <td>39</td>\n",
       "    </tr>\n",
       "    <tr>\n",
       "      <th>14</th>\n",
       "      <td>0.022882</td>\n",
       "      <td>0.002276</td>\n",
       "      <td>0.001480</td>\n",
       "      <td>0.000045</td>\n",
       "      <td>gini</td>\n",
       "      <td>40</td>\n",
       "      <td>100</td>\n",
       "      <td>{'criterion': 'gini', 'max_depth': 40, 'min_sa...</td>\n",
       "      <td>0.547554</td>\n",
       "      <td>0.557823</td>\n",
       "      <td>0.602721</td>\n",
       "      <td>0.554496</td>\n",
       "      <td>0.541610</td>\n",
       "      <td>0.560849</td>\n",
       "      <td>0.021680</td>\n",
       "      <td>42</td>\n",
       "    </tr>\n",
       "    <tr>\n",
       "      <th>15</th>\n",
       "      <td>0.036188</td>\n",
       "      <td>0.001754</td>\n",
       "      <td>0.001656</td>\n",
       "      <td>0.000117</td>\n",
       "      <td>gini</td>\n",
       "      <td>50</td>\n",
       "      <td>2</td>\n",
       "      <td>{'criterion': 'gini', 'max_depth': 50, 'min_sa...</td>\n",
       "      <td>0.630435</td>\n",
       "      <td>0.631293</td>\n",
       "      <td>0.613605</td>\n",
       "      <td>0.603542</td>\n",
       "      <td>0.620737</td>\n",
       "      <td>0.619929</td>\n",
       "      <td>0.010476</td>\n",
       "      <td>6</td>\n",
       "    </tr>\n",
       "    <tr>\n",
       "      <th>16</th>\n",
       "      <td>0.035882</td>\n",
       "      <td>0.001279</td>\n",
       "      <td>0.001838</td>\n",
       "      <td>0.000279</td>\n",
       "      <td>gini</td>\n",
       "      <td>50</td>\n",
       "      <td>10</td>\n",
       "      <td>{'criterion': 'gini', 'max_depth': 50, 'min_sa...</td>\n",
       "      <td>0.605978</td>\n",
       "      <td>0.619048</td>\n",
       "      <td>0.623129</td>\n",
       "      <td>0.566757</td>\n",
       "      <td>0.604366</td>\n",
       "      <td>0.603866</td>\n",
       "      <td>0.019912</td>\n",
       "      <td>12</td>\n",
       "    </tr>\n",
       "    <tr>\n",
       "      <th>17</th>\n",
       "      <td>0.033987</td>\n",
       "      <td>0.002643</td>\n",
       "      <td>0.001662</td>\n",
       "      <td>0.000038</td>\n",
       "      <td>gini</td>\n",
       "      <td>50</td>\n",
       "      <td>20</td>\n",
       "      <td>{'criterion': 'gini', 'max_depth': 50, 'min_sa...</td>\n",
       "      <td>0.595109</td>\n",
       "      <td>0.582313</td>\n",
       "      <td>0.598639</td>\n",
       "      <td>0.542234</td>\n",
       "      <td>0.581173</td>\n",
       "      <td>0.579907</td>\n",
       "      <td>0.020040</td>\n",
       "      <td>30</td>\n",
       "    </tr>\n",
       "    <tr>\n",
       "      <th>18</th>\n",
       "      <td>0.028464</td>\n",
       "      <td>0.003918</td>\n",
       "      <td>0.001520</td>\n",
       "      <td>0.000129</td>\n",
       "      <td>gini</td>\n",
       "      <td>50</td>\n",
       "      <td>50</td>\n",
       "      <td>{'criterion': 'gini', 'max_depth': 50, 'min_sa...</td>\n",
       "      <td>0.576087</td>\n",
       "      <td>0.568707</td>\n",
       "      <td>0.583673</td>\n",
       "      <td>0.524523</td>\n",
       "      <td>0.568895</td>\n",
       "      <td>0.564389</td>\n",
       "      <td>0.020669</td>\n",
       "      <td>36</td>\n",
       "    </tr>\n",
       "    <tr>\n",
       "      <th>19</th>\n",
       "      <td>0.022305</td>\n",
       "      <td>0.000899</td>\n",
       "      <td>0.001513</td>\n",
       "      <td>0.000067</td>\n",
       "      <td>gini</td>\n",
       "      <td>50</td>\n",
       "      <td>100</td>\n",
       "      <td>{'criterion': 'gini', 'max_depth': 50, 'min_sa...</td>\n",
       "      <td>0.547554</td>\n",
       "      <td>0.557823</td>\n",
       "      <td>0.604082</td>\n",
       "      <td>0.554496</td>\n",
       "      <td>0.541610</td>\n",
       "      <td>0.561122</td>\n",
       "      <td>0.022206</td>\n",
       "      <td>41</td>\n",
       "    </tr>\n",
       "    <tr>\n",
       "      <th>20</th>\n",
       "      <td>0.037509</td>\n",
       "      <td>0.003521</td>\n",
       "      <td>0.001811</td>\n",
       "      <td>0.000281</td>\n",
       "      <td>gini</td>\n",
       "      <td>None</td>\n",
       "      <td>2</td>\n",
       "      <td>{'criterion': 'gini', 'max_depth': None, 'min_...</td>\n",
       "      <td>0.637228</td>\n",
       "      <td>0.642177</td>\n",
       "      <td>0.608163</td>\n",
       "      <td>0.607629</td>\n",
       "      <td>0.622101</td>\n",
       "      <td>0.623469</td>\n",
       "      <td>0.014330</td>\n",
       "      <td>1</td>\n",
       "    </tr>\n",
       "    <tr>\n",
       "      <th>21</th>\n",
       "      <td>0.038977</td>\n",
       "      <td>0.011599</td>\n",
       "      <td>0.001659</td>\n",
       "      <td>0.000171</td>\n",
       "      <td>gini</td>\n",
       "      <td>None</td>\n",
       "      <td>10</td>\n",
       "      <td>{'criterion': 'gini', 'max_depth': None, 'min_...</td>\n",
       "      <td>0.593750</td>\n",
       "      <td>0.609524</td>\n",
       "      <td>0.628571</td>\n",
       "      <td>0.570845</td>\n",
       "      <td>0.600273</td>\n",
       "      <td>0.600599</td>\n",
       "      <td>0.018943</td>\n",
       "      <td>15</td>\n",
       "    </tr>\n",
       "    <tr>\n",
       "      <th>22</th>\n",
       "      <td>0.045856</td>\n",
       "      <td>0.016228</td>\n",
       "      <td>0.001928</td>\n",
       "      <td>0.000222</td>\n",
       "      <td>gini</td>\n",
       "      <td>None</td>\n",
       "      <td>20</td>\n",
       "      <td>{'criterion': 'gini', 'max_depth': None, 'min_...</td>\n",
       "      <td>0.595109</td>\n",
       "      <td>0.583673</td>\n",
       "      <td>0.605442</td>\n",
       "      <td>0.543597</td>\n",
       "      <td>0.583902</td>\n",
       "      <td>0.582358</td>\n",
       "      <td>0.020983</td>\n",
       "      <td>24</td>\n",
       "    </tr>\n",
       "    <tr>\n",
       "      <th>23</th>\n",
       "      <td>0.027635</td>\n",
       "      <td>0.001438</td>\n",
       "      <td>0.001750</td>\n",
       "      <td>0.000292</td>\n",
       "      <td>gini</td>\n",
       "      <td>None</td>\n",
       "      <td>50</td>\n",
       "      <td>{'criterion': 'gini', 'max_depth': None, 'min_...</td>\n",
       "      <td>0.573370</td>\n",
       "      <td>0.567347</td>\n",
       "      <td>0.586395</td>\n",
       "      <td>0.524523</td>\n",
       "      <td>0.568895</td>\n",
       "      <td>0.564117</td>\n",
       "      <td>0.020890</td>\n",
       "      <td>38</td>\n",
       "    </tr>\n",
       "    <tr>\n",
       "      <th>24</th>\n",
       "      <td>0.028601</td>\n",
       "      <td>0.010868</td>\n",
       "      <td>0.001615</td>\n",
       "      <td>0.000140</td>\n",
       "      <td>gini</td>\n",
       "      <td>None</td>\n",
       "      <td>100</td>\n",
       "      <td>{'criterion': 'gini', 'max_depth': None, 'min_...</td>\n",
       "      <td>0.547554</td>\n",
       "      <td>0.557823</td>\n",
       "      <td>0.602721</td>\n",
       "      <td>0.554496</td>\n",
       "      <td>0.541610</td>\n",
       "      <td>0.560849</td>\n",
       "      <td>0.021680</td>\n",
       "      <td>42</td>\n",
       "    </tr>\n",
       "    <tr>\n",
       "      <th>25</th>\n",
       "      <td>0.058827</td>\n",
       "      <td>0.002782</td>\n",
       "      <td>0.001836</td>\n",
       "      <td>0.000140</td>\n",
       "      <td>entropy</td>\n",
       "      <td>20</td>\n",
       "      <td>2</td>\n",
       "      <td>{'criterion': 'entropy', 'max_depth': 20, 'min...</td>\n",
       "      <td>0.652174</td>\n",
       "      <td>0.629932</td>\n",
       "      <td>0.619048</td>\n",
       "      <td>0.595368</td>\n",
       "      <td>0.611187</td>\n",
       "      <td>0.621563</td>\n",
       "      <td>0.019017</td>\n",
       "      <td>2</td>\n",
       "    </tr>\n",
       "    <tr>\n",
       "      <th>26</th>\n",
       "      <td>0.055057</td>\n",
       "      <td>0.001422</td>\n",
       "      <td>0.001755</td>\n",
       "      <td>0.000058</td>\n",
       "      <td>entropy</td>\n",
       "      <td>20</td>\n",
       "      <td>10</td>\n",
       "      <td>{'criterion': 'entropy', 'max_depth': 20, 'min...</td>\n",
       "      <td>0.626359</td>\n",
       "      <td>0.600000</td>\n",
       "      <td>0.575510</td>\n",
       "      <td>0.573569</td>\n",
       "      <td>0.577080</td>\n",
       "      <td>0.590525</td>\n",
       "      <td>0.020345</td>\n",
       "      <td>19</td>\n",
       "    </tr>\n",
       "    <tr>\n",
       "      <th>27</th>\n",
       "      <td>0.050121</td>\n",
       "      <td>0.002425</td>\n",
       "      <td>0.001748</td>\n",
       "      <td>0.000082</td>\n",
       "      <td>entropy</td>\n",
       "      <td>20</td>\n",
       "      <td>20</td>\n",
       "      <td>{'criterion': 'entropy', 'max_depth': 20, 'min...</td>\n",
       "      <td>0.599185</td>\n",
       "      <td>0.575510</td>\n",
       "      <td>0.575510</td>\n",
       "      <td>0.595368</td>\n",
       "      <td>0.566166</td>\n",
       "      <td>0.582358</td>\n",
       "      <td>0.012714</td>\n",
       "      <td>24</td>\n",
       "    </tr>\n",
       "    <tr>\n",
       "      <th>28</th>\n",
       "      <td>0.040584</td>\n",
       "      <td>0.001402</td>\n",
       "      <td>0.001702</td>\n",
       "      <td>0.000086</td>\n",
       "      <td>entropy</td>\n",
       "      <td>20</td>\n",
       "      <td>50</td>\n",
       "      <td>{'criterion': 'entropy', 'max_depth': 20, 'min...</td>\n",
       "      <td>0.596467</td>\n",
       "      <td>0.568707</td>\n",
       "      <td>0.582313</td>\n",
       "      <td>0.579019</td>\n",
       "      <td>0.559345</td>\n",
       "      <td>0.577185</td>\n",
       "      <td>0.012583</td>\n",
       "      <td>33</td>\n",
       "    </tr>\n",
       "    <tr>\n",
       "      <th>29</th>\n",
       "      <td>0.034330</td>\n",
       "      <td>0.004818</td>\n",
       "      <td>0.001580</td>\n",
       "      <td>0.000128</td>\n",
       "      <td>entropy</td>\n",
       "      <td>20</td>\n",
       "      <td>100</td>\n",
       "      <td>{'criterion': 'entropy', 'max_depth': 20, 'min...</td>\n",
       "      <td>0.580163</td>\n",
       "      <td>0.552381</td>\n",
       "      <td>0.565986</td>\n",
       "      <td>0.544959</td>\n",
       "      <td>0.542974</td>\n",
       "      <td>0.557310</td>\n",
       "      <td>0.014003</td>\n",
       "      <td>46</td>\n",
       "    </tr>\n",
       "    <tr>\n",
       "      <th>30</th>\n",
       "      <td>0.056453</td>\n",
       "      <td>0.002056</td>\n",
       "      <td>0.001663</td>\n",
       "      <td>0.000053</td>\n",
       "      <td>entropy</td>\n",
       "      <td>30</td>\n",
       "      <td>2</td>\n",
       "      <td>{'criterion': 'entropy', 'max_depth': 30, 'min...</td>\n",
       "      <td>0.645380</td>\n",
       "      <td>0.634014</td>\n",
       "      <td>0.617687</td>\n",
       "      <td>0.596730</td>\n",
       "      <td>0.609823</td>\n",
       "      <td>0.620746</td>\n",
       "      <td>0.017256</td>\n",
       "      <td>4</td>\n",
       "    </tr>\n",
       "    <tr>\n",
       "      <th>31</th>\n",
       "      <td>0.055236</td>\n",
       "      <td>0.002792</td>\n",
       "      <td>0.001749</td>\n",
       "      <td>0.000132</td>\n",
       "      <td>entropy</td>\n",
       "      <td>30</td>\n",
       "      <td>10</td>\n",
       "      <td>{'criterion': 'entropy', 'max_depth': 30, 'min...</td>\n",
       "      <td>0.618207</td>\n",
       "      <td>0.602721</td>\n",
       "      <td>0.580952</td>\n",
       "      <td>0.579019</td>\n",
       "      <td>0.581173</td>\n",
       "      <td>0.592431</td>\n",
       "      <td>0.015554</td>\n",
       "      <td>18</td>\n",
       "    </tr>\n",
       "    <tr>\n",
       "      <th>32</th>\n",
       "      <td>0.050349</td>\n",
       "      <td>0.003854</td>\n",
       "      <td>0.001682</td>\n",
       "      <td>0.000084</td>\n",
       "      <td>entropy</td>\n",
       "      <td>30</td>\n",
       "      <td>20</td>\n",
       "      <td>{'criterion': 'entropy', 'max_depth': 30, 'min...</td>\n",
       "      <td>0.600543</td>\n",
       "      <td>0.575510</td>\n",
       "      <td>0.582313</td>\n",
       "      <td>0.602180</td>\n",
       "      <td>0.564802</td>\n",
       "      <td>0.585080</td>\n",
       "      <td>0.014431</td>\n",
       "      <td>21</td>\n",
       "    </tr>\n",
       "    <tr>\n",
       "      <th>33</th>\n",
       "      <td>0.040262</td>\n",
       "      <td>0.002179</td>\n",
       "      <td>0.001678</td>\n",
       "      <td>0.000156</td>\n",
       "      <td>entropy</td>\n",
       "      <td>30</td>\n",
       "      <td>50</td>\n",
       "      <td>{'criterion': 'entropy', 'max_depth': 30, 'min...</td>\n",
       "      <td>0.593750</td>\n",
       "      <td>0.563265</td>\n",
       "      <td>0.585034</td>\n",
       "      <td>0.579019</td>\n",
       "      <td>0.557981</td>\n",
       "      <td>0.575824</td>\n",
       "      <td>0.013360</td>\n",
       "      <td>34</td>\n",
       "    </tr>\n",
       "    <tr>\n",
       "      <th>34</th>\n",
       "      <td>0.030692</td>\n",
       "      <td>0.001595</td>\n",
       "      <td>0.001530</td>\n",
       "      <td>0.000070</td>\n",
       "      <td>entropy</td>\n",
       "      <td>30</td>\n",
       "      <td>100</td>\n",
       "      <td>{'criterion': 'entropy', 'max_depth': 30, 'min...</td>\n",
       "      <td>0.578804</td>\n",
       "      <td>0.552381</td>\n",
       "      <td>0.565986</td>\n",
       "      <td>0.544959</td>\n",
       "      <td>0.542974</td>\n",
       "      <td>0.557038</td>\n",
       "      <td>0.013562</td>\n",
       "      <td>47</td>\n",
       "    </tr>\n",
       "    <tr>\n",
       "      <th>35</th>\n",
       "      <td>0.058213</td>\n",
       "      <td>0.002866</td>\n",
       "      <td>0.001888</td>\n",
       "      <td>0.000188</td>\n",
       "      <td>entropy</td>\n",
       "      <td>40</td>\n",
       "      <td>2</td>\n",
       "      <td>{'criterion': 'entropy', 'max_depth': 40, 'min...</td>\n",
       "      <td>0.641304</td>\n",
       "      <td>0.636735</td>\n",
       "      <td>0.617687</td>\n",
       "      <td>0.603542</td>\n",
       "      <td>0.607094</td>\n",
       "      <td>0.621290</td>\n",
       "      <td>0.015289</td>\n",
       "      <td>3</td>\n",
       "    </tr>\n",
       "    <tr>\n",
       "      <th>36</th>\n",
       "      <td>0.055981</td>\n",
       "      <td>0.003000</td>\n",
       "      <td>0.001840</td>\n",
       "      <td>0.000125</td>\n",
       "      <td>entropy</td>\n",
       "      <td>40</td>\n",
       "      <td>10</td>\n",
       "      <td>{'criterion': 'entropy', 'max_depth': 40, 'min...</td>\n",
       "      <td>0.619565</td>\n",
       "      <td>0.601361</td>\n",
       "      <td>0.572789</td>\n",
       "      <td>0.576294</td>\n",
       "      <td>0.570259</td>\n",
       "      <td>0.588075</td>\n",
       "      <td>0.019284</td>\n",
       "      <td>20</td>\n",
       "    </tr>\n",
       "    <tr>\n",
       "      <th>37</th>\n",
       "      <td>0.052349</td>\n",
       "      <td>0.003786</td>\n",
       "      <td>0.001827</td>\n",
       "      <td>0.000077</td>\n",
       "      <td>entropy</td>\n",
       "      <td>40</td>\n",
       "      <td>20</td>\n",
       "      <td>{'criterion': 'entropy', 'max_depth': 40, 'min...</td>\n",
       "      <td>0.600543</td>\n",
       "      <td>0.574150</td>\n",
       "      <td>0.586395</td>\n",
       "      <td>0.598093</td>\n",
       "      <td>0.566166</td>\n",
       "      <td>0.585080</td>\n",
       "      <td>0.013319</td>\n",
       "      <td>21</td>\n",
       "    </tr>\n",
       "    <tr>\n",
       "      <th>38</th>\n",
       "      <td>0.041308</td>\n",
       "      <td>0.002861</td>\n",
       "      <td>0.001757</td>\n",
       "      <td>0.000213</td>\n",
       "      <td>entropy</td>\n",
       "      <td>40</td>\n",
       "      <td>50</td>\n",
       "      <td>{'criterion': 'entropy', 'max_depth': 40, 'min...</td>\n",
       "      <td>0.592391</td>\n",
       "      <td>0.557823</td>\n",
       "      <td>0.587755</td>\n",
       "      <td>0.579019</td>\n",
       "      <td>0.559345</td>\n",
       "      <td>0.575279</td>\n",
       "      <td>0.014292</td>\n",
       "      <td>35</td>\n",
       "    </tr>\n",
       "    <tr>\n",
       "      <th>39</th>\n",
       "      <td>0.032792</td>\n",
       "      <td>0.001919</td>\n",
       "      <td>0.001677</td>\n",
       "      <td>0.000101</td>\n",
       "      <td>entropy</td>\n",
       "      <td>40</td>\n",
       "      <td>100</td>\n",
       "      <td>{'criterion': 'entropy', 'max_depth': 40, 'min...</td>\n",
       "      <td>0.578804</td>\n",
       "      <td>0.552381</td>\n",
       "      <td>0.565986</td>\n",
       "      <td>0.544959</td>\n",
       "      <td>0.542974</td>\n",
       "      <td>0.557038</td>\n",
       "      <td>0.013562</td>\n",
       "      <td>47</td>\n",
       "    </tr>\n",
       "    <tr>\n",
       "      <th>40</th>\n",
       "      <td>0.060580</td>\n",
       "      <td>0.003533</td>\n",
       "      <td>0.001866</td>\n",
       "      <td>0.000110</td>\n",
       "      <td>entropy</td>\n",
       "      <td>50</td>\n",
       "      <td>2</td>\n",
       "      <td>{'criterion': 'entropy', 'max_depth': 50, 'min...</td>\n",
       "      <td>0.635870</td>\n",
       "      <td>0.643537</td>\n",
       "      <td>0.614966</td>\n",
       "      <td>0.596730</td>\n",
       "      <td>0.603001</td>\n",
       "      <td>0.618840</td>\n",
       "      <td>0.018191</td>\n",
       "      <td>7</td>\n",
       "    </tr>\n",
       "    <tr>\n",
       "      <th>41</th>\n",
       "      <td>0.056485</td>\n",
       "      <td>0.005715</td>\n",
       "      <td>0.001706</td>\n",
       "      <td>0.000187</td>\n",
       "      <td>entropy</td>\n",
       "      <td>50</td>\n",
       "      <td>10</td>\n",
       "      <td>{'criterion': 'entropy', 'max_depth': 50, 'min...</td>\n",
       "      <td>0.619565</td>\n",
       "      <td>0.610884</td>\n",
       "      <td>0.585034</td>\n",
       "      <td>0.581744</td>\n",
       "      <td>0.578445</td>\n",
       "      <td>0.595154</td>\n",
       "      <td>0.016765</td>\n",
       "      <td>16</td>\n",
       "    </tr>\n",
       "    <tr>\n",
       "      <th>42</th>\n",
       "      <td>0.049737</td>\n",
       "      <td>0.002074</td>\n",
       "      <td>0.001786</td>\n",
       "      <td>0.000179</td>\n",
       "      <td>entropy</td>\n",
       "      <td>50</td>\n",
       "      <td>20</td>\n",
       "      <td>{'criterion': 'entropy', 'max_depth': 50, 'min...</td>\n",
       "      <td>0.600543</td>\n",
       "      <td>0.574150</td>\n",
       "      <td>0.580952</td>\n",
       "      <td>0.599455</td>\n",
       "      <td>0.564802</td>\n",
       "      <td>0.583991</td>\n",
       "      <td>0.014050</td>\n",
       "      <td>23</td>\n",
       "    </tr>\n",
       "    <tr>\n",
       "      <th>43</th>\n",
       "      <td>0.040471</td>\n",
       "      <td>0.002262</td>\n",
       "      <td>0.001634</td>\n",
       "      <td>0.000081</td>\n",
       "      <td>entropy</td>\n",
       "      <td>50</td>\n",
       "      <td>50</td>\n",
       "      <td>{'criterion': 'entropy', 'max_depth': 50, 'min...</td>\n",
       "      <td>0.592391</td>\n",
       "      <td>0.568707</td>\n",
       "      <td>0.589116</td>\n",
       "      <td>0.579019</td>\n",
       "      <td>0.559345</td>\n",
       "      <td>0.577729</td>\n",
       "      <td>0.012373</td>\n",
       "      <td>31</td>\n",
       "    </tr>\n",
       "    <tr>\n",
       "      <th>44</th>\n",
       "      <td>0.036639</td>\n",
       "      <td>0.008810</td>\n",
       "      <td>0.001652</td>\n",
       "      <td>0.000081</td>\n",
       "      <td>entropy</td>\n",
       "      <td>50</td>\n",
       "      <td>100</td>\n",
       "      <td>{'criterion': 'entropy', 'max_depth': 50, 'min...</td>\n",
       "      <td>0.578804</td>\n",
       "      <td>0.552381</td>\n",
       "      <td>0.565986</td>\n",
       "      <td>0.544959</td>\n",
       "      <td>0.542974</td>\n",
       "      <td>0.557038</td>\n",
       "      <td>0.013562</td>\n",
       "      <td>47</td>\n",
       "    </tr>\n",
       "    <tr>\n",
       "      <th>45</th>\n",
       "      <td>0.067984</td>\n",
       "      <td>0.013789</td>\n",
       "      <td>0.001730</td>\n",
       "      <td>0.000066</td>\n",
       "      <td>entropy</td>\n",
       "      <td>None</td>\n",
       "      <td>2</td>\n",
       "      <td>{'criterion': 'entropy', 'max_depth': None, 'm...</td>\n",
       "      <td>0.641304</td>\n",
       "      <td>0.638095</td>\n",
       "      <td>0.613605</td>\n",
       "      <td>0.604905</td>\n",
       "      <td>0.605730</td>\n",
       "      <td>0.620746</td>\n",
       "      <td>0.015820</td>\n",
       "      <td>4</td>\n",
       "    </tr>\n",
       "    <tr>\n",
       "      <th>46</th>\n",
       "      <td>0.053731</td>\n",
       "      <td>0.001894</td>\n",
       "      <td>0.001856</td>\n",
       "      <td>0.000290</td>\n",
       "      <td>entropy</td>\n",
       "      <td>None</td>\n",
       "      <td>10</td>\n",
       "      <td>{'criterion': 'entropy', 'max_depth': None, 'm...</td>\n",
       "      <td>0.626359</td>\n",
       "      <td>0.605442</td>\n",
       "      <td>0.578231</td>\n",
       "      <td>0.574932</td>\n",
       "      <td>0.586630</td>\n",
       "      <td>0.594337</td>\n",
       "      <td>0.019213</td>\n",
       "      <td>17</td>\n",
       "    </tr>\n",
       "    <tr>\n",
       "      <th>47</th>\n",
       "      <td>0.049632</td>\n",
       "      <td>0.003618</td>\n",
       "      <td>0.001772</td>\n",
       "      <td>0.000091</td>\n",
       "      <td>entropy</td>\n",
       "      <td>None</td>\n",
       "      <td>20</td>\n",
       "      <td>{'criterion': 'entropy', 'max_depth': None, 'm...</td>\n",
       "      <td>0.600543</td>\n",
       "      <td>0.574150</td>\n",
       "      <td>0.572789</td>\n",
       "      <td>0.594005</td>\n",
       "      <td>0.567531</td>\n",
       "      <td>0.581813</td>\n",
       "      <td>0.012991</td>\n",
       "      <td>26</td>\n",
       "    </tr>\n",
       "    <tr>\n",
       "      <th>48</th>\n",
       "      <td>0.038793</td>\n",
       "      <td>0.001794</td>\n",
       "      <td>0.001622</td>\n",
       "      <td>0.000136</td>\n",
       "      <td>entropy</td>\n",
       "      <td>None</td>\n",
       "      <td>50</td>\n",
       "      <td>{'criterion': 'entropy', 'max_depth': None, 'm...</td>\n",
       "      <td>0.596467</td>\n",
       "      <td>0.563265</td>\n",
       "      <td>0.589116</td>\n",
       "      <td>0.579019</td>\n",
       "      <td>0.559345</td>\n",
       "      <td>0.577457</td>\n",
       "      <td>0.014348</td>\n",
       "      <td>32</td>\n",
       "    </tr>\n",
       "    <tr>\n",
       "      <th>49</th>\n",
       "      <td>0.023868</td>\n",
       "      <td>0.003928</td>\n",
       "      <td>0.001228</td>\n",
       "      <td>0.000267</td>\n",
       "      <td>entropy</td>\n",
       "      <td>None</td>\n",
       "      <td>100</td>\n",
       "      <td>{'criterion': 'entropy', 'max_depth': None, 'm...</td>\n",
       "      <td>0.578804</td>\n",
       "      <td>0.552381</td>\n",
       "      <td>0.565986</td>\n",
       "      <td>0.544959</td>\n",
       "      <td>0.542974</td>\n",
       "      <td>0.557038</td>\n",
       "      <td>0.013562</td>\n",
       "      <td>47</td>\n",
       "    </tr>\n",
       "  </tbody>\n",
       "</table>\n",
       "</div>"
      ],
      "text/plain": [
       "    mean_fit_time  std_fit_time  ...  std_test_score  rank_test_score\n",
       "0        0.028286      0.001359  ...        0.008356                9\n",
       "1        0.026170      0.000430  ...        0.015328               11\n",
       "2        0.024178      0.001537  ...        0.020760               27\n",
       "3        0.020926      0.001249  ...        0.020669               36\n",
       "4        0.017943      0.001311  ...        0.022038               44\n",
       "5        0.027677      0.000579  ...        0.015967                8\n",
       "6        0.025759      0.001141  ...        0.018983               12\n",
       "7        0.024259      0.001187  ...        0.020269               27\n",
       "8        0.021499      0.000695  ...        0.020330               40\n",
       "9        0.024015      0.007305  ...        0.022038               44\n",
       "10       0.036468      0.001403  ...        0.013497               10\n",
       "11       0.036512      0.004480  ...        0.014844               14\n",
       "12       0.033448      0.001525  ...        0.020411               29\n",
       "13       0.027797      0.001603  ...        0.020388               39\n",
       "14       0.022882      0.002276  ...        0.021680               42\n",
       "15       0.036188      0.001754  ...        0.010476                6\n",
       "16       0.035882      0.001279  ...        0.019912               12\n",
       "17       0.033987      0.002643  ...        0.020040               30\n",
       "18       0.028464      0.003918  ...        0.020669               36\n",
       "19       0.022305      0.000899  ...        0.022206               41\n",
       "20       0.037509      0.003521  ...        0.014330                1\n",
       "21       0.038977      0.011599  ...        0.018943               15\n",
       "22       0.045856      0.016228  ...        0.020983               24\n",
       "23       0.027635      0.001438  ...        0.020890               38\n",
       "24       0.028601      0.010868  ...        0.021680               42\n",
       "25       0.058827      0.002782  ...        0.019017                2\n",
       "26       0.055057      0.001422  ...        0.020345               19\n",
       "27       0.050121      0.002425  ...        0.012714               24\n",
       "28       0.040584      0.001402  ...        0.012583               33\n",
       "29       0.034330      0.004818  ...        0.014003               46\n",
       "30       0.056453      0.002056  ...        0.017256                4\n",
       "31       0.055236      0.002792  ...        0.015554               18\n",
       "32       0.050349      0.003854  ...        0.014431               21\n",
       "33       0.040262      0.002179  ...        0.013360               34\n",
       "34       0.030692      0.001595  ...        0.013562               47\n",
       "35       0.058213      0.002866  ...        0.015289                3\n",
       "36       0.055981      0.003000  ...        0.019284               20\n",
       "37       0.052349      0.003786  ...        0.013319               21\n",
       "38       0.041308      0.002861  ...        0.014292               35\n",
       "39       0.032792      0.001919  ...        0.013562               47\n",
       "40       0.060580      0.003533  ...        0.018191                7\n",
       "41       0.056485      0.005715  ...        0.016765               16\n",
       "42       0.049737      0.002074  ...        0.014050               23\n",
       "43       0.040471      0.002262  ...        0.012373               31\n",
       "44       0.036639      0.008810  ...        0.013562               47\n",
       "45       0.067984      0.013789  ...        0.015820                4\n",
       "46       0.053731      0.001894  ...        0.019213               17\n",
       "47       0.049632      0.003618  ...        0.012991               26\n",
       "48       0.038793      0.001794  ...        0.014348               32\n",
       "49       0.023868      0.003928  ...        0.013562               47\n",
       "\n",
       "[50 rows x 16 columns]"
      ]
     },
     "execution_count": 39,
     "metadata": {
      "tags": []
     },
     "output_type": "execute_result"
    }
   ],
   "source": [
    "cv=pd.DataFrame(dt_g.cv_results_)\n",
    "cv"
   ]
  },
  {
   "cell_type": "code",
   "execution_count": 41,
   "metadata": {
    "colab": {
     "base_uri": "https://localhost:8080/",
     "height": 282
    },
    "colab_type": "code",
    "id": "pJsEKtOvtEHS",
    "outputId": "cfd518af-9206-4f5f-ef2d-dd61b71fe4eb"
   },
   "outputs": [
    {
     "ename": "AttributeError",
     "evalue": "ignored",
     "output_type": "error",
     "traceback": [
      "\u001b[0;31m---------------------------------------------------------------------------\u001b[0m",
      "\u001b[0;31mAttributeError\u001b[0m                            Traceback (most recent call last)",
      "\u001b[0;32m<ipython-input-41-9822c8330163>\u001b[0m in \u001b[0;36m<module>\u001b[0;34m()\u001b[0m\n\u001b[0;32m----> 1\u001b[0;31m \u001b[0mcv\u001b[0m\u001b[0;34m.\u001b[0m\u001b[0mto_CSV\u001b[0m\u001b[0;34m(\u001b[0m\u001b[0;34m\"Whitewine.CSV\"\u001b[0m\u001b[0;34m)\u001b[0m\u001b[0;34m\u001b[0m\u001b[0;34m\u001b[0m\u001b[0m\n\u001b[0m",
      "\u001b[0;32m/usr/local/lib/python3.6/dist-packages/pandas/core/generic.py\u001b[0m in \u001b[0;36m__getattr__\u001b[0;34m(self, name)\u001b[0m\n\u001b[1;32m   5065\u001b[0m             \u001b[0;32mif\u001b[0m \u001b[0mself\u001b[0m\u001b[0;34m.\u001b[0m\u001b[0m_info_axis\u001b[0m\u001b[0;34m.\u001b[0m\u001b[0m_can_hold_identifiers_and_holds_name\u001b[0m\u001b[0;34m(\u001b[0m\u001b[0mname\u001b[0m\u001b[0;34m)\u001b[0m\u001b[0;34m:\u001b[0m\u001b[0;34m\u001b[0m\u001b[0;34m\u001b[0m\u001b[0m\n\u001b[1;32m   5066\u001b[0m                 \u001b[0;32mreturn\u001b[0m \u001b[0mself\u001b[0m\u001b[0;34m[\u001b[0m\u001b[0mname\u001b[0m\u001b[0;34m]\u001b[0m\u001b[0;34m\u001b[0m\u001b[0;34m\u001b[0m\u001b[0m\n\u001b[0;32m-> 5067\u001b[0;31m             \u001b[0;32mreturn\u001b[0m \u001b[0mobject\u001b[0m\u001b[0;34m.\u001b[0m\u001b[0m__getattribute__\u001b[0m\u001b[0;34m(\u001b[0m\u001b[0mself\u001b[0m\u001b[0;34m,\u001b[0m \u001b[0mname\u001b[0m\u001b[0;34m)\u001b[0m\u001b[0;34m\u001b[0m\u001b[0;34m\u001b[0m\u001b[0m\n\u001b[0m\u001b[1;32m   5068\u001b[0m \u001b[0;34m\u001b[0m\u001b[0m\n\u001b[1;32m   5069\u001b[0m     \u001b[0;32mdef\u001b[0m \u001b[0m__setattr__\u001b[0m\u001b[0;34m(\u001b[0m\u001b[0mself\u001b[0m\u001b[0;34m,\u001b[0m \u001b[0mname\u001b[0m\u001b[0;34m,\u001b[0m \u001b[0mvalue\u001b[0m\u001b[0;34m)\u001b[0m\u001b[0;34m:\u001b[0m\u001b[0;34m\u001b[0m\u001b[0;34m\u001b[0m\u001b[0m\n",
      "\u001b[0;31mAttributeError\u001b[0m: 'DataFrame' object has no attribute 'to_CSV'"
     ]
    }
   ],
   "source": [
    "cv.to_CSV(\"Whitewine.CSV\")"
   ]
  },
  {
   "cell_type": "code",
   "execution_count": 45,
   "metadata": {
    "colab": {
     "base_uri": "https://localhost:8080/",
     "height": 129
    },
    "colab_type": "code",
    "id": "iPvj5azFtnvP",
    "outputId": "b9e9a96f-0834-4762-a548-6588d3e3fad7"
   },
   "outputs": [
    {
     "ename": "SyntaxError",
     "evalue": "ignored",
     "output_type": "error",
     "traceback": [
      "\u001b[0;36m  File \u001b[0;32m\"<ipython-input-45-7225a398d1c8>\"\u001b[0;36m, line \u001b[0;32m10\u001b[0m\n\u001b[0;31m    sns.heatmap(cf.annot=True,cmap=\"Blues\",fmt=\"d\",xticktables=lbl1,yticktables=lbl2)\u001b[0m\n\u001b[0m               ^\u001b[0m\n\u001b[0;31mSyntaxError\u001b[0m\u001b[0;31m:\u001b[0m keyword can't be an expression\n"
     ]
    }
   ],
   "source": [
    "predicted=dt_g.predict(x_test)\n",
    "metrics.accoracy_score(predicted,y_test)\n",
    "print(metrics.classification_report(predicted,y_test))\n",
    "#confusion matrix\n",
    "plt.figure(figsize=(8,4))\n",
    "print(\"confusion Matrix\")\n",
    "cf=metrics.confusion_matrix(predicted,y_test)\n",
    "lbl1=[\"P1\",\"P2\",\"P3\"]\n",
    "lbl2=[\"T1\",\"T2\",\"T3\"]\n",
    "sns.heatmap(cf.annot=True,cmap=\"Blues\",fmt=\"d\",xticktables=lbl1,yticktables=lbl2)\n",
    "plt.show()"
   ]
  },
  {
   "cell_type": "code",
   "execution_count": 0,
   "metadata": {
    "colab": {},
    "colab_type": "code",
    "id": "H1lAcTWFvvVG"
   },
   "outputs": [],
   "source": []
  },
  {
   "cell_type": "code",
   "execution_count": 0,
   "metadata": {
    "colab": {},
    "colab_type": "code",
    "id": "D0l6SEqhv-Gm"
   },
   "outputs": [],
   "source": []
  }
 ],
 "metadata": {
  "colab": {
   "collapsed_sections": [],
   "name": "whiteclassification_06July.ipynb",
   "provenance": [],
   "version": "0.3.2"
  },
  "kernelspec": {
   "display_name": "Python 3",
   "language": "python",
   "name": "python3"
  },
  "language_info": {
   "codemirror_mode": {
    "name": "ipython",
    "version": 3
   },
   "file_extension": ".py",
   "mimetype": "text/x-python",
   "name": "python",
   "nbconvert_exporter": "python",
   "pygments_lexer": "ipython3",
   "version": "3.7.3"
  }
 },
 "nbformat": 4,
 "nbformat_minor": 1
}
