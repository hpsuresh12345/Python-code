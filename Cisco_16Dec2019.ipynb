{
  "nbformat": 4,
  "nbformat_minor": 0,
  "metadata": {
    "colab": {
      "name": "Cisco_16Dec2019.ipynb",
      "provenance": [],
      "collapsed_sections": [],
      "toc_visible": true,
      "include_colab_link": true
    },
    "kernelspec": {
      "name": "python3",
      "display_name": "Python 3"
    }
  },
  "cells": [
    {
      "cell_type": "markdown",
      "metadata": {
        "id": "view-in-github",
        "colab_type": "text"
      },
      "source": [
        "<a href=\"https://colab.research.google.com/github/hpsuresh12345/Python-code/blob/master/Cisco_16Dec2019.ipynb\" target=\"_parent\"><img src=\"https://colab.research.google.com/assets/colab-badge.svg\" alt=\"Open In Colab\"/></a>"
      ]
    },
    {
      "cell_type": "markdown",
      "metadata": {
        "id": "Yo3GdKF-E2Tl",
        "colab_type": "text"
      },
      "source": [
        "Objective:\n",
        "1.Apply your financial and analytical knowledge to determine key trends and pattern in the data. What are your observations?\n",
        "\n",
        "2.How can Stark predict future Cashflow for each line items?\n",
        "\n",
        "3.If Stark has to make the prediction of \"Net Income\" for next 2 quarters, shall he use the line items-basedforecast or overall \"Net Income\" forecast? Why?\n",
        "\n",
        "4.How can Stark make a forecast for items that don't show a trend?\n",
        "\n",
        "5.Predict the \"Net Income\" for next 2 quarters? What business thought processes and/orstatisticaltechniques did you use? Why? How confident are you in your predictions? What would you advise to Stark?"
      ]
    },
    {
      "cell_type": "code",
      "metadata": {
        "id": "WmkPpxi2Er5W",
        "colab_type": "code",
        "colab": {}
      },
      "source": [
        "#Importing necessary libraries\n",
        "\n",
        "import pandas as pd\n",
        "import numpy as np\n",
        "import pandas_profiling\n",
        "import datetime as dt\n",
        "import warnings\n",
        "warnings.filterwarnings('ignore') \n",
        "\n",
        "#to plot within notebook\n",
        "import matplotlib.pyplot as plt\n",
        "%matplotlib inline\n",
        "\n",
        "#setting figure size\n",
        "from matplotlib.pylab import rcParams\n",
        "rcParams['figure.figsize'] = 20,10\n",
        "\n",
        "\n",
        "from IPython.core.interactiveshell import InteractiveShell\n",
        "InteractiveShell.ast_node_interactivity = \"all\""
      ],
      "execution_count": 0,
      "outputs": []
    },
    {
      "cell_type": "markdown",
      "metadata": {
        "id": "M7Mqm4-lFEdk",
        "colab_type": "text"
      },
      "source": [
        "# Dataset"
      ]
    },
    {
      "cell_type": "code",
      "metadata": {
        "id": "TYFPMhWPE6l8",
        "colab_type": "code",
        "colab": {}
      },
      "source": [
        "#loading the data\n",
        "\n",
        "df = pd.read_excel(\"cisco.xlsx\", sheet_name=\"Sheet2\", skiprows=1, index_col=None)"
      ],
      "execution_count": 0,
      "outputs": []
    },
    {
      "cell_type": "code",
      "metadata": {
        "id": "QnLYIpdCFLVp",
        "colab_type": "code",
        "outputId": "bed033dd-472e-4b45-cdff-6d2bc7142881",
        "colab": {
          "base_uri": "https://localhost:8080/",
          "height": 284
        }
      },
      "source": [
        "df.head()"
      ],
      "execution_count": 38,
      "outputs": [
        {
          "output_type": "execute_result",
          "data": {
            "text/html": [
              "<div>\n",
              "<style scoped>\n",
              "    .dataframe tbody tr th:only-of-type {\n",
              "        vertical-align: middle;\n",
              "    }\n",
              "\n",
              "    .dataframe tbody tr th {\n",
              "        vertical-align: top;\n",
              "    }\n",
              "\n",
              "    .dataframe thead th {\n",
              "        text-align: right;\n",
              "    }\n",
              "</style>\n",
              "<table border=\"1\" class=\"dataframe\">\n",
              "  <thead>\n",
              "    <tr style=\"text-align: right;\">\n",
              "      <th></th>\n",
              "      <th>Unnamed: 0</th>\n",
              "      <th>Unnamed: 1</th>\n",
              "      <th>Qtr Ending</th>\n",
              "      <th>Qtr Ending.1</th>\n",
              "      <th>Qtr Ending.2</th>\n",
              "      <th>Qtr Ending.3</th>\n",
              "      <th>Qtr Ending.4</th>\n",
              "      <th>Qtr Ending.5</th>\n",
              "      <th>Qtr Ending.6</th>\n",
              "      <th>Qtr Ending.7</th>\n",
              "      <th>Qtr Ending.8</th>\n",
              "      <th>Qtr Ending.9</th>\n",
              "      <th>Qtr Ending.10</th>\n",
              "      <th>Qtr Ending.11</th>\n",
              "      <th>Qtr Ending.12</th>\n",
              "      <th>Qtr Ending.13</th>\n",
              "      <th>Qtr Ending.14</th>\n",
              "      <th>Qtr Ending.15</th>\n",
              "      <th>Qtr Ending.16</th>\n",
              "      <th>Qtr Ending.17</th>\n",
              "      <th>Qtr Ending.18</th>\n",
              "      <th>Qtr Ending.19</th>\n",
              "      <th>Qtr Ending.20</th>\n",
              "      <th>Qtr Ending.21</th>\n",
              "      <th>Qtr Ending.22</th>\n",
              "      <th>Qtr Ending.23</th>\n",
              "      <th>Qtr Ending.24</th>\n",
              "      <th>Qtr Ending.25</th>\n",
              "    </tr>\n",
              "  </thead>\n",
              "  <tbody>\n",
              "    <tr>\n",
              "      <th>0</th>\n",
              "      <td>NaN</td>\n",
              "      <td>NaN</td>\n",
              "      <td>2009-10-24 00:00:00</td>\n",
              "      <td>2010-01-23 00:00:00</td>\n",
              "      <td>2010-05-01 00:00:00</td>\n",
              "      <td>2010-07-31 00:00:00</td>\n",
              "      <td>2010-10-30 00:00:00</td>\n",
              "      <td>2011-01-29 00:00:00</td>\n",
              "      <td>2011-04-30 00:00:00</td>\n",
              "      <td>2011-07-30 00:00:00</td>\n",
              "      <td>2011-10-29 00:00:00</td>\n",
              "      <td>2012-01-28 00:00:00</td>\n",
              "      <td>2012-04-28 00:00:00</td>\n",
              "      <td>2012-07-28 00:00:00</td>\n",
              "      <td>2012-10-27 00:00:00</td>\n",
              "      <td>2013-01-26 00:00:00</td>\n",
              "      <td>2013-04-27 00:00:00</td>\n",
              "      <td>2013-07-27 00:00:00</td>\n",
              "      <td>2013-10-26 00:00:00</td>\n",
              "      <td>2014-01-25 00:00:00</td>\n",
              "      <td>2014-04-26 00:00:00</td>\n",
              "      <td>2014-07-26 00:00:00</td>\n",
              "      <td>2014-10-25 00:00:00</td>\n",
              "      <td>2015-01-24 00:00:00</td>\n",
              "      <td>2015-04-25 00:00:00</td>\n",
              "      <td>2015-07-25 00:00:00</td>\n",
              "      <td>2015-10-24 00:00:00</td>\n",
              "      <td>2016-01-23 00:00:00</td>\n",
              "    </tr>\n",
              "    <tr>\n",
              "      <th>1</th>\n",
              "      <td>NaN</td>\n",
              "      <td>NaN</td>\n",
              "      <td>NaN</td>\n",
              "      <td>NaN</td>\n",
              "      <td>NaN</td>\n",
              "      <td>NaN</td>\n",
              "      <td>NaN</td>\n",
              "      <td>NaN</td>\n",
              "      <td>NaN</td>\n",
              "      <td>NaN</td>\n",
              "      <td>NaN</td>\n",
              "      <td>NaN</td>\n",
              "      <td>NaN</td>\n",
              "      <td>NaN</td>\n",
              "      <td>NaN</td>\n",
              "      <td>NaN</td>\n",
              "      <td>NaN</td>\n",
              "      <td>NaN</td>\n",
              "      <td>NaN</td>\n",
              "      <td>NaN</td>\n",
              "      <td>NaN</td>\n",
              "      <td>NaN</td>\n",
              "      <td>NaN</td>\n",
              "      <td>NaN</td>\n",
              "      <td>NaN</td>\n",
              "      <td>NaN</td>\n",
              "      <td>NaN</td>\n",
              "      <td>NaN</td>\n",
              "    </tr>\n",
              "    <tr>\n",
              "      <th>2</th>\n",
              "      <td>NET SALES:</td>\n",
              "      <td>NaN</td>\n",
              "      <td>NaN</td>\n",
              "      <td>NaN</td>\n",
              "      <td>NaN</td>\n",
              "      <td>NaN</td>\n",
              "      <td>NaN</td>\n",
              "      <td>NaN</td>\n",
              "      <td>NaN</td>\n",
              "      <td>NaN</td>\n",
              "      <td>NaN</td>\n",
              "      <td>NaN</td>\n",
              "      <td>NaN</td>\n",
              "      <td>NaN</td>\n",
              "      <td>NaN</td>\n",
              "      <td>NaN</td>\n",
              "      <td>NaN</td>\n",
              "      <td>NaN</td>\n",
              "      <td>NaN</td>\n",
              "      <td>NaN</td>\n",
              "      <td>NaN</td>\n",
              "      <td>NaN</td>\n",
              "      <td>NaN</td>\n",
              "      <td>NaN</td>\n",
              "      <td>NaN</td>\n",
              "      <td>NaN</td>\n",
              "      <td>NaN</td>\n",
              "      <td>NaN</td>\n",
              "    </tr>\n",
              "    <tr>\n",
              "      <th>3</th>\n",
              "      <td>NaN</td>\n",
              "      <td>Product</td>\n",
              "      <td>7200</td>\n",
              "      <td>7976</td>\n",
              "      <td>8436</td>\n",
              "      <td>8808</td>\n",
              "      <td>8700</td>\n",
              "      <td>8236</td>\n",
              "      <td>8669</td>\n",
              "      <td>8921</td>\n",
              "      <td>8952</td>\n",
              "      <td>9118</td>\n",
              "      <td>9106</td>\n",
              "      <td>9150</td>\n",
              "      <td>9297</td>\n",
              "      <td>9437</td>\n",
              "      <td>9559</td>\n",
              "      <td>9736</td>\n",
              "      <td>9397</td>\n",
              "      <td>8423</td>\n",
              "      <td>8820</td>\n",
              "      <td>9532</td>\n",
              "      <td>9435</td>\n",
              "      <td>9078</td>\n",
              "      <td>9326</td>\n",
              "      <td>9911</td>\n",
              "      <td>9844</td>\n",
              "      <td>8983</td>\n",
              "    </tr>\n",
              "    <tr>\n",
              "      <th>4</th>\n",
              "      <td>NaN</td>\n",
              "      <td>Service</td>\n",
              "      <td>1821</td>\n",
              "      <td>1839</td>\n",
              "      <td>1932</td>\n",
              "      <td>2028</td>\n",
              "      <td>2050</td>\n",
              "      <td>2171</td>\n",
              "      <td>2197</td>\n",
              "      <td>2274</td>\n",
              "      <td>2304</td>\n",
              "      <td>2409</td>\n",
              "      <td>2482</td>\n",
              "      <td>2540</td>\n",
              "      <td>2579</td>\n",
              "      <td>2661</td>\n",
              "      <td>2657</td>\n",
              "      <td>2681</td>\n",
              "      <td>2688</td>\n",
              "      <td>2732</td>\n",
              "      <td>2725</td>\n",
              "      <td>2825</td>\n",
              "      <td>2810</td>\n",
              "      <td>2858</td>\n",
              "      <td>2811</td>\n",
              "      <td>2932</td>\n",
              "      <td>2838</td>\n",
              "      <td>2944</td>\n",
              "    </tr>\n",
              "  </tbody>\n",
              "</table>\n",
              "</div>"
            ],
            "text/plain": [
              "   Unnamed: 0 Unnamed: 1  ...        Qtr Ending.24        Qtr Ending.25\n",
              "0         NaN        NaN  ...  2015-10-24 00:00:00  2016-01-23 00:00:00\n",
              "1         NaN        NaN  ...                  NaN                  NaN\n",
              "2  NET SALES:        NaN  ...                  NaN                  NaN\n",
              "3         NaN    Product  ...                 9844                 8983\n",
              "4         NaN    Service  ...                 2838                 2944\n",
              "\n",
              "[5 rows x 28 columns]"
            ]
          },
          "metadata": {
            "tags": []
          },
          "execution_count": 38
        }
      ]
    },
    {
      "cell_type": "markdown",
      "metadata": {
        "id": "kS2MbOf_FwMN",
        "colab_type": "text"
      },
      "source": [
        "# Data Preprocessing"
      ]
    },
    {
      "cell_type": "code",
      "metadata": {
        "id": "rcIkvmy-FtS_",
        "colab_type": "code",
        "outputId": "f2db5fb7-322c-4f6e-edd0-81cfed3cbad1",
        "colab": {
          "base_uri": "https://localhost:8080/",
          "height": 318
        }
      },
      "source": [
        "df.dropna(how=\"all\",inplace=True)\n",
        "df['Unnamed: 0'] = df['Unnamed: 0'].fillna(method='ffill')\n",
        "df['Unnamed: 1'] = df['Unnamed: 1'].fillna(df['Unnamed: 0']) \n",
        "df = df.T[1:]\n",
        "df.rename(columns = {'Unnamed: 1':'Qtr'}, inplace=True)\n",
        "df.columns = df.iloc[0]\n",
        "df = df.drop(['NET SALES:', 'COST OF SALES:', 'OPERATING EXPENSES:'], axis=1)\n",
        "df = df.reset_index(level = 0, drop=True)\n",
        "df = df.drop(df.index[0])\n",
        "columns = ['Qtr','NETSales_Product','NETSales_Service','Total_NETSales','COSTSales_Product','COSTSales_Service',\n",
        "           'Total_COSTSales','GROSS_MARGIN','OPEX_R_D','OPEX_Sales_Marketing','OPEX_General_Administrative','OPEX_Intag_Assets','OPEX_Restruct_OtherCharges',\n",
        "           'Total_OPEX','OPIN','Interest_Income','Interest_Expense','Other_Income','NetInterest_OtherIncome',\n",
        "           'INCOME_BeforeTax', 'PROVISION_for_Income_Taxes','NET_INCOME']\n",
        "df.columns = columns\n",
        "df.head()\n",
        "df.shape"
      ],
      "execution_count": 39,
      "outputs": [
        {
          "output_type": "execute_result",
          "data": {
            "text/html": [
              "<div>\n",
              "<style scoped>\n",
              "    .dataframe tbody tr th:only-of-type {\n",
              "        vertical-align: middle;\n",
              "    }\n",
              "\n",
              "    .dataframe tbody tr th {\n",
              "        vertical-align: top;\n",
              "    }\n",
              "\n",
              "    .dataframe thead th {\n",
              "        text-align: right;\n",
              "    }\n",
              "</style>\n",
              "<table border=\"1\" class=\"dataframe\">\n",
              "  <thead>\n",
              "    <tr style=\"text-align: right;\">\n",
              "      <th></th>\n",
              "      <th>Qtr</th>\n",
              "      <th>NETSales_Product</th>\n",
              "      <th>NETSales_Service</th>\n",
              "      <th>Total_NETSales</th>\n",
              "      <th>COSTSales_Product</th>\n",
              "      <th>COSTSales_Service</th>\n",
              "      <th>Total_COSTSales</th>\n",
              "      <th>GROSS_MARGIN</th>\n",
              "      <th>OPEX_R_D</th>\n",
              "      <th>OPEX_Sales_Marketing</th>\n",
              "      <th>OPEX_General_Administrative</th>\n",
              "      <th>OPEX_Intag_Assets</th>\n",
              "      <th>OPEX_Restruct_OtherCharges</th>\n",
              "      <th>Total_OPEX</th>\n",
              "      <th>OPIN</th>\n",
              "      <th>Interest_Income</th>\n",
              "      <th>Interest_Expense</th>\n",
              "      <th>Other_Income</th>\n",
              "      <th>NetInterest_OtherIncome</th>\n",
              "      <th>INCOME_BeforeTax</th>\n",
              "      <th>PROVISION_for_Income_Taxes</th>\n",
              "      <th>NET_INCOME</th>\n",
              "    </tr>\n",
              "  </thead>\n",
              "  <tbody>\n",
              "    <tr>\n",
              "      <th>1</th>\n",
              "      <td>2009-10-24</td>\n",
              "      <td>7200</td>\n",
              "      <td>1821</td>\n",
              "      <td>9021</td>\n",
              "      <td>2486</td>\n",
              "      <td>647</td>\n",
              "      <td>3133</td>\n",
              "      <td>5888</td>\n",
              "      <td>1224</td>\n",
              "      <td>2010</td>\n",
              "      <td>425</td>\n",
              "      <td>105</td>\n",
              "      <td>134</td>\n",
              "      <td>3898</td>\n",
              "      <td>1990</td>\n",
              "      <td>168</td>\n",
              "      <td>-114</td>\n",
              "      <td>61</td>\n",
              "      <td>115</td>\n",
              "      <td>2105</td>\n",
              "      <td>452</td>\n",
              "      <td>1653</td>\n",
              "    </tr>\n",
              "    <tr>\n",
              "      <th>2</th>\n",
              "      <td>2010-01-23</td>\n",
              "      <td>7976</td>\n",
              "      <td>1839</td>\n",
              "      <td>9815</td>\n",
              "      <td>2815</td>\n",
              "      <td>668</td>\n",
              "      <td>3483</td>\n",
              "      <td>6332</td>\n",
              "      <td>1247</td>\n",
              "      <td>2126</td>\n",
              "      <td>451</td>\n",
              "      <td>138</td>\n",
              "      <td>134</td>\n",
              "      <td>4096</td>\n",
              "      <td>2236</td>\n",
              "      <td>155</td>\n",
              "      <td>-158</td>\n",
              "      <td>-12</td>\n",
              "      <td>-15</td>\n",
              "      <td>2221</td>\n",
              "      <td>502</td>\n",
              "      <td>1719</td>\n",
              "    </tr>\n",
              "    <tr>\n",
              "      <th>3</th>\n",
              "      <td>2010-05-01</td>\n",
              "      <td>8436</td>\n",
              "      <td>1932</td>\n",
              "      <td>10368</td>\n",
              "      <td>3010</td>\n",
              "      <td>728</td>\n",
              "      <td>3738</td>\n",
              "      <td>6630</td>\n",
              "      <td>1411</td>\n",
              "      <td>2278</td>\n",
              "      <td>479</td>\n",
              "      <td>117</td>\n",
              "      <td>134</td>\n",
              "      <td>4419</td>\n",
              "      <td>2211</td>\n",
              "      <td>158</td>\n",
              "      <td>-182</td>\n",
              "      <td>82</td>\n",
              "      <td>58</td>\n",
              "      <td>2269</td>\n",
              "      <td>211</td>\n",
              "      <td>2058</td>\n",
              "    </tr>\n",
              "    <tr>\n",
              "      <th>4</th>\n",
              "      <td>2010-07-31</td>\n",
              "      <td>8808</td>\n",
              "      <td>2028</td>\n",
              "      <td>10836</td>\n",
              "      <td>3309</td>\n",
              "      <td>734</td>\n",
              "      <td>4043</td>\n",
              "      <td>6793</td>\n",
              "      <td>1391</td>\n",
              "      <td>2368</td>\n",
              "      <td>578</td>\n",
              "      <td>131</td>\n",
              "      <td>134</td>\n",
              "      <td>4602</td>\n",
              "      <td>2191</td>\n",
              "      <td>154</td>\n",
              "      <td>-169</td>\n",
              "      <td>108</td>\n",
              "      <td>93</td>\n",
              "      <td>2284</td>\n",
              "      <td>483</td>\n",
              "      <td>1801</td>\n",
              "    </tr>\n",
              "    <tr>\n",
              "      <th>5</th>\n",
              "      <td>2010-10-30</td>\n",
              "      <td>8700</td>\n",
              "      <td>2050</td>\n",
              "      <td>10750</td>\n",
              "      <td>3249</td>\n",
              "      <td>746</td>\n",
              "      <td>3995</td>\n",
              "      <td>6755</td>\n",
              "      <td>1431</td>\n",
              "      <td>2402</td>\n",
              "      <td>458</td>\n",
              "      <td>113</td>\n",
              "      <td>134</td>\n",
              "      <td>4538</td>\n",
              "      <td>2217</td>\n",
              "      <td>160</td>\n",
              "      <td>-166</td>\n",
              "      <td>80</td>\n",
              "      <td>74</td>\n",
              "      <td>2291</td>\n",
              "      <td>495</td>\n",
              "      <td>1796</td>\n",
              "    </tr>\n",
              "  </tbody>\n",
              "</table>\n",
              "</div>"
            ],
            "text/plain": [
              "         Qtr NETSales_Product  ... PROVISION_for_Income_Taxes NET_INCOME\n",
              "1 2009-10-24             7200  ...                        452       1653\n",
              "2 2010-01-23             7976  ...                        502       1719\n",
              "3 2010-05-01             8436  ...                        211       2058\n",
              "4 2010-07-31             8808  ...                        483       1801\n",
              "5 2010-10-30             8700  ...                        495       1796\n",
              "\n",
              "[5 rows x 22 columns]"
            ]
          },
          "metadata": {
            "tags": []
          },
          "execution_count": 39
        },
        {
          "output_type": "execute_result",
          "data": {
            "text/plain": [
              "(26, 22)"
            ]
          },
          "metadata": {
            "tags": []
          },
          "execution_count": 39
        }
      ]
    },
    {
      "cell_type": "code",
      "metadata": {
        "id": "VlB3Dda1FziD",
        "colab_type": "code",
        "outputId": "efc6c7cf-d5aa-4508-ba56-2b3c87bc07f0",
        "colab": {
          "base_uri": "https://localhost:8080/",
          "height": 398
        }
      },
      "source": [
        "df['Qtr'] = df.index.values\n",
        "df.head()\n",
        "df.tail()"
      ],
      "execution_count": 40,
      "outputs": [
        {
          "output_type": "execute_result",
          "data": {
            "text/html": [
              "<div>\n",
              "<style scoped>\n",
              "    .dataframe tbody tr th:only-of-type {\n",
              "        vertical-align: middle;\n",
              "    }\n",
              "\n",
              "    .dataframe tbody tr th {\n",
              "        vertical-align: top;\n",
              "    }\n",
              "\n",
              "    .dataframe thead th {\n",
              "        text-align: right;\n",
              "    }\n",
              "</style>\n",
              "<table border=\"1\" class=\"dataframe\">\n",
              "  <thead>\n",
              "    <tr style=\"text-align: right;\">\n",
              "      <th></th>\n",
              "      <th>Qtr</th>\n",
              "      <th>NETSales_Product</th>\n",
              "      <th>NETSales_Service</th>\n",
              "      <th>Total_NETSales</th>\n",
              "      <th>COSTSales_Product</th>\n",
              "      <th>COSTSales_Service</th>\n",
              "      <th>Total_COSTSales</th>\n",
              "      <th>GROSS_MARGIN</th>\n",
              "      <th>OPEX_R_D</th>\n",
              "      <th>OPEX_Sales_Marketing</th>\n",
              "      <th>OPEX_General_Administrative</th>\n",
              "      <th>OPEX_Intag_Assets</th>\n",
              "      <th>OPEX_Restruct_OtherCharges</th>\n",
              "      <th>Total_OPEX</th>\n",
              "      <th>OPIN</th>\n",
              "      <th>Interest_Income</th>\n",
              "      <th>Interest_Expense</th>\n",
              "      <th>Other_Income</th>\n",
              "      <th>NetInterest_OtherIncome</th>\n",
              "      <th>INCOME_BeforeTax</th>\n",
              "      <th>PROVISION_for_Income_Taxes</th>\n",
              "      <th>NET_INCOME</th>\n",
              "    </tr>\n",
              "  </thead>\n",
              "  <tbody>\n",
              "    <tr>\n",
              "      <th>1</th>\n",
              "      <td>1</td>\n",
              "      <td>7200</td>\n",
              "      <td>1821</td>\n",
              "      <td>9021</td>\n",
              "      <td>2486</td>\n",
              "      <td>647</td>\n",
              "      <td>3133</td>\n",
              "      <td>5888</td>\n",
              "      <td>1224</td>\n",
              "      <td>2010</td>\n",
              "      <td>425</td>\n",
              "      <td>105</td>\n",
              "      <td>134</td>\n",
              "      <td>3898</td>\n",
              "      <td>1990</td>\n",
              "      <td>168</td>\n",
              "      <td>-114</td>\n",
              "      <td>61</td>\n",
              "      <td>115</td>\n",
              "      <td>2105</td>\n",
              "      <td>452</td>\n",
              "      <td>1653</td>\n",
              "    </tr>\n",
              "    <tr>\n",
              "      <th>2</th>\n",
              "      <td>2</td>\n",
              "      <td>7976</td>\n",
              "      <td>1839</td>\n",
              "      <td>9815</td>\n",
              "      <td>2815</td>\n",
              "      <td>668</td>\n",
              "      <td>3483</td>\n",
              "      <td>6332</td>\n",
              "      <td>1247</td>\n",
              "      <td>2126</td>\n",
              "      <td>451</td>\n",
              "      <td>138</td>\n",
              "      <td>134</td>\n",
              "      <td>4096</td>\n",
              "      <td>2236</td>\n",
              "      <td>155</td>\n",
              "      <td>-158</td>\n",
              "      <td>-12</td>\n",
              "      <td>-15</td>\n",
              "      <td>2221</td>\n",
              "      <td>502</td>\n",
              "      <td>1719</td>\n",
              "    </tr>\n",
              "    <tr>\n",
              "      <th>3</th>\n",
              "      <td>3</td>\n",
              "      <td>8436</td>\n",
              "      <td>1932</td>\n",
              "      <td>10368</td>\n",
              "      <td>3010</td>\n",
              "      <td>728</td>\n",
              "      <td>3738</td>\n",
              "      <td>6630</td>\n",
              "      <td>1411</td>\n",
              "      <td>2278</td>\n",
              "      <td>479</td>\n",
              "      <td>117</td>\n",
              "      <td>134</td>\n",
              "      <td>4419</td>\n",
              "      <td>2211</td>\n",
              "      <td>158</td>\n",
              "      <td>-182</td>\n",
              "      <td>82</td>\n",
              "      <td>58</td>\n",
              "      <td>2269</td>\n",
              "      <td>211</td>\n",
              "      <td>2058</td>\n",
              "    </tr>\n",
              "    <tr>\n",
              "      <th>4</th>\n",
              "      <td>4</td>\n",
              "      <td>8808</td>\n",
              "      <td>2028</td>\n",
              "      <td>10836</td>\n",
              "      <td>3309</td>\n",
              "      <td>734</td>\n",
              "      <td>4043</td>\n",
              "      <td>6793</td>\n",
              "      <td>1391</td>\n",
              "      <td>2368</td>\n",
              "      <td>578</td>\n",
              "      <td>131</td>\n",
              "      <td>134</td>\n",
              "      <td>4602</td>\n",
              "      <td>2191</td>\n",
              "      <td>154</td>\n",
              "      <td>-169</td>\n",
              "      <td>108</td>\n",
              "      <td>93</td>\n",
              "      <td>2284</td>\n",
              "      <td>483</td>\n",
              "      <td>1801</td>\n",
              "    </tr>\n",
              "    <tr>\n",
              "      <th>5</th>\n",
              "      <td>5</td>\n",
              "      <td>8700</td>\n",
              "      <td>2050</td>\n",
              "      <td>10750</td>\n",
              "      <td>3249</td>\n",
              "      <td>746</td>\n",
              "      <td>3995</td>\n",
              "      <td>6755</td>\n",
              "      <td>1431</td>\n",
              "      <td>2402</td>\n",
              "      <td>458</td>\n",
              "      <td>113</td>\n",
              "      <td>134</td>\n",
              "      <td>4538</td>\n",
              "      <td>2217</td>\n",
              "      <td>160</td>\n",
              "      <td>-166</td>\n",
              "      <td>80</td>\n",
              "      <td>74</td>\n",
              "      <td>2291</td>\n",
              "      <td>495</td>\n",
              "      <td>1796</td>\n",
              "    </tr>\n",
              "  </tbody>\n",
              "</table>\n",
              "</div>"
            ],
            "text/plain": [
              "   Qtr NETSales_Product  ... PROVISION_for_Income_Taxes NET_INCOME\n",
              "1    1             7200  ...                        452       1653\n",
              "2    2             7976  ...                        502       1719\n",
              "3    3             8436  ...                        211       2058\n",
              "4    4             8808  ...                        483       1801\n",
              "5    5             8700  ...                        495       1796\n",
              "\n",
              "[5 rows x 22 columns]"
            ]
          },
          "metadata": {
            "tags": []
          },
          "execution_count": 40
        },
        {
          "output_type": "execute_result",
          "data": {
            "text/html": [
              "<div>\n",
              "<style scoped>\n",
              "    .dataframe tbody tr th:only-of-type {\n",
              "        vertical-align: middle;\n",
              "    }\n",
              "\n",
              "    .dataframe tbody tr th {\n",
              "        vertical-align: top;\n",
              "    }\n",
              "\n",
              "    .dataframe thead th {\n",
              "        text-align: right;\n",
              "    }\n",
              "</style>\n",
              "<table border=\"1\" class=\"dataframe\">\n",
              "  <thead>\n",
              "    <tr style=\"text-align: right;\">\n",
              "      <th></th>\n",
              "      <th>Qtr</th>\n",
              "      <th>NETSales_Product</th>\n",
              "      <th>NETSales_Service</th>\n",
              "      <th>Total_NETSales</th>\n",
              "      <th>COSTSales_Product</th>\n",
              "      <th>COSTSales_Service</th>\n",
              "      <th>Total_COSTSales</th>\n",
              "      <th>GROSS_MARGIN</th>\n",
              "      <th>OPEX_R_D</th>\n",
              "      <th>OPEX_Sales_Marketing</th>\n",
              "      <th>OPEX_General_Administrative</th>\n",
              "      <th>OPEX_Intag_Assets</th>\n",
              "      <th>OPEX_Restruct_OtherCharges</th>\n",
              "      <th>Total_OPEX</th>\n",
              "      <th>OPIN</th>\n",
              "      <th>Interest_Income</th>\n",
              "      <th>Interest_Expense</th>\n",
              "      <th>Other_Income</th>\n",
              "      <th>NetInterest_OtherIncome</th>\n",
              "      <th>INCOME_BeforeTax</th>\n",
              "      <th>PROVISION_for_Income_Taxes</th>\n",
              "      <th>NET_INCOME</th>\n",
              "    </tr>\n",
              "  </thead>\n",
              "  <tbody>\n",
              "    <tr>\n",
              "      <th>22</th>\n",
              "      <td>22</td>\n",
              "      <td>9078</td>\n",
              "      <td>2858</td>\n",
              "      <td>11936</td>\n",
              "      <td>3806</td>\n",
              "      <td>1040</td>\n",
              "      <td>4846</td>\n",
              "      <td>7090</td>\n",
              "      <td>1529</td>\n",
              "      <td>2308</td>\n",
              "      <td>490</td>\n",
              "      <td>72</td>\n",
              "      <td>69</td>\n",
              "      <td>4468</td>\n",
              "      <td>2622</td>\n",
              "      <td>189</td>\n",
              "      <td>-139</td>\n",
              "      <td>201</td>\n",
              "      <td>251</td>\n",
              "      <td>2873</td>\n",
              "      <td>476</td>\n",
              "      <td>2397</td>\n",
              "    </tr>\n",
              "    <tr>\n",
              "      <th>23</th>\n",
              "      <td>23</td>\n",
              "      <td>9326</td>\n",
              "      <td>2811</td>\n",
              "      <td>12137</td>\n",
              "      <td>3584</td>\n",
              "      <td>1028</td>\n",
              "      <td>4612</td>\n",
              "      <td>7525</td>\n",
              "      <td>1547</td>\n",
              "      <td>2449</td>\n",
              "      <td>510</td>\n",
              "      <td>70</td>\n",
              "      <td>24</td>\n",
              "      <td>4600</td>\n",
              "      <td>2925</td>\n",
              "      <td>190</td>\n",
              "      <td>-139</td>\n",
              "      <td>59</td>\n",
              "      <td>110</td>\n",
              "      <td>3035</td>\n",
              "      <td>598</td>\n",
              "      <td>2437</td>\n",
              "    </tr>\n",
              "    <tr>\n",
              "      <th>24</th>\n",
              "      <td>24</td>\n",
              "      <td>9911</td>\n",
              "      <td>2932</td>\n",
              "      <td>12843</td>\n",
              "      <td>4068</td>\n",
              "      <td>1042</td>\n",
              "      <td>5110</td>\n",
              "      <td>7733</td>\n",
              "      <td>1548</td>\n",
              "      <td>2549</td>\n",
              "      <td>536</td>\n",
              "      <td>146</td>\n",
              "      <td>73</td>\n",
              "      <td>4852</td>\n",
              "      <td>2881</td>\n",
              "      <td>211</td>\n",
              "      <td>-149</td>\n",
              "      <td>-10</td>\n",
              "      <td>52</td>\n",
              "      <td>2933</td>\n",
              "      <td>614</td>\n",
              "      <td>2319</td>\n",
              "    </tr>\n",
              "    <tr>\n",
              "      <th>25</th>\n",
              "      <td>25</td>\n",
              "      <td>9844</td>\n",
              "      <td>2838</td>\n",
              "      <td>12682</td>\n",
              "      <td>3853</td>\n",
              "      <td>997</td>\n",
              "      <td>4850</td>\n",
              "      <td>7832</td>\n",
              "      <td>1560</td>\n",
              "      <td>2443</td>\n",
              "      <td>539</td>\n",
              "      <td>69</td>\n",
              "      <td>142</td>\n",
              "      <td>4753</td>\n",
              "      <td>3079</td>\n",
              "      <td>225</td>\n",
              "      <td>-159</td>\n",
              "      <td>-8</td>\n",
              "      <td>58</td>\n",
              "      <td>3137</td>\n",
              "      <td>707</td>\n",
              "      <td>2430</td>\n",
              "    </tr>\n",
              "    <tr>\n",
              "      <th>26</th>\n",
              "      <td>26</td>\n",
              "      <td>8983</td>\n",
              "      <td>2944</td>\n",
              "      <td>11927</td>\n",
              "      <td>3480</td>\n",
              "      <td>1015</td>\n",
              "      <td>4495</td>\n",
              "      <td>7432</td>\n",
              "      <td>1509</td>\n",
              "      <td>2286</td>\n",
              "      <td>176</td>\n",
              "      <td>71</td>\n",
              "      <td>96</td>\n",
              "      <td>4138</td>\n",
              "      <td>3294</td>\n",
              "      <td>237</td>\n",
              "      <td>-162</td>\n",
              "      <td>-63</td>\n",
              "      <td>12</td>\n",
              "      <td>3306</td>\n",
              "      <td>159</td>\n",
              "      <td>3147</td>\n",
              "    </tr>\n",
              "  </tbody>\n",
              "</table>\n",
              "</div>"
            ],
            "text/plain": [
              "    Qtr NETSales_Product  ... PROVISION_for_Income_Taxes NET_INCOME\n",
              "22   22             9078  ...                        476       2397\n",
              "23   23             9326  ...                        598       2437\n",
              "24   24             9911  ...                        614       2319\n",
              "25   25             9844  ...                        707       2430\n",
              "26   26             8983  ...                        159       3147\n",
              "\n",
              "[5 rows x 22 columns]"
            ]
          },
          "metadata": {
            "tags": []
          },
          "execution_count": 40
        }
      ]
    },
    {
      "cell_type": "code",
      "metadata": {
        "id": "z2XZgeb0LBpo",
        "colab_type": "code",
        "outputId": "8f242686-413d-439f-bbd2-88380bffcdd6",
        "colab": {
          "base_uri": "https://localhost:8080/",
          "height": 621
        }
      },
      "source": [
        "df.columns\n",
        "df.info()"
      ],
      "execution_count": 41,
      "outputs": [
        {
          "output_type": "execute_result",
          "data": {
            "text/plain": [
              "Index(['Qtr', 'NETSales_Product', 'NETSales_Service', 'Total_NETSales',\n",
              "       'COSTSales_Product', 'COSTSales_Service', 'Total_COSTSales',\n",
              "       'GROSS_MARGIN', 'OPEX_R_D', 'OPEX_Sales_Marketing',\n",
              "       'OPEX_General_Administrative', 'OPEX_Intag_Assets',\n",
              "       'OPEX_Restruct_OtherCharges', 'Total_OPEX', 'OPIN', 'Interest_Income',\n",
              "       'Interest_Expense', 'Other_Income', 'NetInterest_OtherIncome',\n",
              "       'INCOME_BeforeTax', 'PROVISION_for_Income_Taxes', 'NET_INCOME'],\n",
              "      dtype='object')"
            ]
          },
          "metadata": {
            "tags": []
          },
          "execution_count": 41
        },
        {
          "output_type": "stream",
          "text": [
            "<class 'pandas.core.frame.DataFrame'>\n",
            "Int64Index: 26 entries, 1 to 26\n",
            "Data columns (total 22 columns):\n",
            "Qtr                            26 non-null int64\n",
            "NETSales_Product               26 non-null object\n",
            "NETSales_Service               26 non-null object\n",
            "Total_NETSales                 26 non-null object\n",
            "COSTSales_Product              26 non-null object\n",
            "COSTSales_Service              26 non-null object\n",
            "Total_COSTSales                26 non-null object\n",
            "GROSS_MARGIN                   26 non-null object\n",
            "OPEX_R_D                       26 non-null object\n",
            "OPEX_Sales_Marketing           26 non-null object\n",
            "OPEX_General_Administrative    26 non-null object\n",
            "OPEX_Intag_Assets              26 non-null object\n",
            "OPEX_Restruct_OtherCharges     26 non-null object\n",
            "Total_OPEX                     26 non-null object\n",
            "OPIN                           26 non-null object\n",
            "Interest_Income                26 non-null object\n",
            "Interest_Expense               26 non-null object\n",
            "Other_Income                   26 non-null object\n",
            "NetInterest_OtherIncome        26 non-null object\n",
            "INCOME_BeforeTax               26 non-null object\n",
            "PROVISION_for_Income_Taxes     26 non-null object\n",
            "NET_INCOME                     26 non-null object\n",
            "dtypes: int64(1), object(21)\n",
            "memory usage: 4.7+ KB\n"
          ],
          "name": "stdout"
        }
      ]
    },
    {
      "cell_type": "code",
      "metadata": {
        "id": "P1857VyNF9bh",
        "colab_type": "code",
        "outputId": "95c53e89-412f-4485-cf18-97558758e2a2",
        "colab": {
          "base_uri": "https://localhost:8080/",
          "height": 767
        }
      },
      "source": [
        "df.describe()\n",
        "df.info()"
      ],
      "execution_count": 42,
      "outputs": [
        {
          "output_type": "execute_result",
          "data": {
            "text/html": [
              "<div>\n",
              "<style scoped>\n",
              "    .dataframe tbody tr th:only-of-type {\n",
              "        vertical-align: middle;\n",
              "    }\n",
              "\n",
              "    .dataframe tbody tr th {\n",
              "        vertical-align: top;\n",
              "    }\n",
              "\n",
              "    .dataframe thead th {\n",
              "        text-align: right;\n",
              "    }\n",
              "</style>\n",
              "<table border=\"1\" class=\"dataframe\">\n",
              "  <thead>\n",
              "    <tr style=\"text-align: right;\">\n",
              "      <th></th>\n",
              "      <th>Qtr</th>\n",
              "    </tr>\n",
              "  </thead>\n",
              "  <tbody>\n",
              "    <tr>\n",
              "      <th>count</th>\n",
              "      <td>26.000000</td>\n",
              "    </tr>\n",
              "    <tr>\n",
              "      <th>mean</th>\n",
              "      <td>13.500000</td>\n",
              "    </tr>\n",
              "    <tr>\n",
              "      <th>std</th>\n",
              "      <td>7.648529</td>\n",
              "    </tr>\n",
              "    <tr>\n",
              "      <th>min</th>\n",
              "      <td>1.000000</td>\n",
              "    </tr>\n",
              "    <tr>\n",
              "      <th>25%</th>\n",
              "      <td>7.250000</td>\n",
              "    </tr>\n",
              "    <tr>\n",
              "      <th>50%</th>\n",
              "      <td>13.500000</td>\n",
              "    </tr>\n",
              "    <tr>\n",
              "      <th>75%</th>\n",
              "      <td>19.750000</td>\n",
              "    </tr>\n",
              "    <tr>\n",
              "      <th>max</th>\n",
              "      <td>26.000000</td>\n",
              "    </tr>\n",
              "  </tbody>\n",
              "</table>\n",
              "</div>"
            ],
            "text/plain": [
              "             Qtr\n",
              "count  26.000000\n",
              "mean   13.500000\n",
              "std     7.648529\n",
              "min     1.000000\n",
              "25%     7.250000\n",
              "50%    13.500000\n",
              "75%    19.750000\n",
              "max    26.000000"
            ]
          },
          "metadata": {
            "tags": []
          },
          "execution_count": 42
        },
        {
          "output_type": "stream",
          "text": [
            "<class 'pandas.core.frame.DataFrame'>\n",
            "Int64Index: 26 entries, 1 to 26\n",
            "Data columns (total 22 columns):\n",
            "Qtr                            26 non-null int64\n",
            "NETSales_Product               26 non-null object\n",
            "NETSales_Service               26 non-null object\n",
            "Total_NETSales                 26 non-null object\n",
            "COSTSales_Product              26 non-null object\n",
            "COSTSales_Service              26 non-null object\n",
            "Total_COSTSales                26 non-null object\n",
            "GROSS_MARGIN                   26 non-null object\n",
            "OPEX_R_D                       26 non-null object\n",
            "OPEX_Sales_Marketing           26 non-null object\n",
            "OPEX_General_Administrative    26 non-null object\n",
            "OPEX_Intag_Assets              26 non-null object\n",
            "OPEX_Restruct_OtherCharges     26 non-null object\n",
            "Total_OPEX                     26 non-null object\n",
            "OPIN                           26 non-null object\n",
            "Interest_Income                26 non-null object\n",
            "Interest_Expense               26 non-null object\n",
            "Other_Income                   26 non-null object\n",
            "NetInterest_OtherIncome        26 non-null object\n",
            "INCOME_BeforeTax               26 non-null object\n",
            "PROVISION_for_Income_Taxes     26 non-null object\n",
            "NET_INCOME                     26 non-null object\n",
            "dtypes: int64(1), object(21)\n",
            "memory usage: 4.7+ KB\n"
          ],
          "name": "stdout"
        }
      ]
    },
    {
      "cell_type": "code",
      "metadata": {
        "id": "25kyWWZPIo9o",
        "colab_type": "code",
        "colab": {}
      },
      "source": [
        "eda_report = pandas_profiling.ProfileReport(df)\n",
        "eda_report.to_file('Customer.html')"
      ],
      "execution_count": 0,
      "outputs": []
    },
    {
      "cell_type": "markdown",
      "metadata": {
        "id": "AIAQZf8rKah3",
        "colab_type": "text"
      },
      "source": [
        "# Splitting the data into 3 sub data sets\n",
        "Dataset 1 - Individual Items (Without Totals),\n",
        "Dataset 2 - Item Sub Totals,\n",
        "Dataset 3 - Net Income"
      ]
    },
    {
      "cell_type": "markdown",
      "metadata": {
        "id": "q4hLdRAhLUQd",
        "colab_type": "text"
      },
      "source": [
        "# dataset 1"
      ]
    },
    {
      "cell_type": "code",
      "metadata": {
        "id": "NAAzKlhhKHh2",
        "colab_type": "code",
        "outputId": "7db4ac14-911d-4568-8597-af18574eb947",
        "colab": {
          "base_uri": "https://localhost:8080/",
          "height": 235
        }
      },
      "source": [
        "df_items = df.loc[:,('Qtr','NETSales_Product', 'NETSales_Service', 'COSTSales_Product', 'COSTSales_Service', \n",
        "                     'OPEX_R_D', 'OPEX_Sales_Marketing', 'OPEX_General_Administrative', 'OPEX_Intag_Assets', 'OPEX_Restruct_OtherCharges',\n",
        "                    'Interest_Income','Interest_Expense','Other_Income','PROVISION_for_Income_Taxes','NET_INCOME')]\n",
        "df_items.head()\n",
        "df_items.shape"
      ],
      "execution_count": 44,
      "outputs": [
        {
          "output_type": "execute_result",
          "data": {
            "text/html": [
              "<div>\n",
              "<style scoped>\n",
              "    .dataframe tbody tr th:only-of-type {\n",
              "        vertical-align: middle;\n",
              "    }\n",
              "\n",
              "    .dataframe tbody tr th {\n",
              "        vertical-align: top;\n",
              "    }\n",
              "\n",
              "    .dataframe thead th {\n",
              "        text-align: right;\n",
              "    }\n",
              "</style>\n",
              "<table border=\"1\" class=\"dataframe\">\n",
              "  <thead>\n",
              "    <tr style=\"text-align: right;\">\n",
              "      <th></th>\n",
              "      <th>Qtr</th>\n",
              "      <th>NETSales_Product</th>\n",
              "      <th>NETSales_Service</th>\n",
              "      <th>COSTSales_Product</th>\n",
              "      <th>COSTSales_Service</th>\n",
              "      <th>OPEX_R_D</th>\n",
              "      <th>OPEX_Sales_Marketing</th>\n",
              "      <th>OPEX_General_Administrative</th>\n",
              "      <th>OPEX_Intag_Assets</th>\n",
              "      <th>OPEX_Restruct_OtherCharges</th>\n",
              "      <th>Interest_Income</th>\n",
              "      <th>Interest_Expense</th>\n",
              "      <th>Other_Income</th>\n",
              "      <th>PROVISION_for_Income_Taxes</th>\n",
              "      <th>NET_INCOME</th>\n",
              "    </tr>\n",
              "  </thead>\n",
              "  <tbody>\n",
              "    <tr>\n",
              "      <th>1</th>\n",
              "      <td>1</td>\n",
              "      <td>7200</td>\n",
              "      <td>1821</td>\n",
              "      <td>2486</td>\n",
              "      <td>647</td>\n",
              "      <td>1224</td>\n",
              "      <td>2010</td>\n",
              "      <td>425</td>\n",
              "      <td>105</td>\n",
              "      <td>134</td>\n",
              "      <td>168</td>\n",
              "      <td>-114</td>\n",
              "      <td>61</td>\n",
              "      <td>452</td>\n",
              "      <td>1653</td>\n",
              "    </tr>\n",
              "    <tr>\n",
              "      <th>2</th>\n",
              "      <td>2</td>\n",
              "      <td>7976</td>\n",
              "      <td>1839</td>\n",
              "      <td>2815</td>\n",
              "      <td>668</td>\n",
              "      <td>1247</td>\n",
              "      <td>2126</td>\n",
              "      <td>451</td>\n",
              "      <td>138</td>\n",
              "      <td>134</td>\n",
              "      <td>155</td>\n",
              "      <td>-158</td>\n",
              "      <td>-12</td>\n",
              "      <td>502</td>\n",
              "      <td>1719</td>\n",
              "    </tr>\n",
              "    <tr>\n",
              "      <th>3</th>\n",
              "      <td>3</td>\n",
              "      <td>8436</td>\n",
              "      <td>1932</td>\n",
              "      <td>3010</td>\n",
              "      <td>728</td>\n",
              "      <td>1411</td>\n",
              "      <td>2278</td>\n",
              "      <td>479</td>\n",
              "      <td>117</td>\n",
              "      <td>134</td>\n",
              "      <td>158</td>\n",
              "      <td>-182</td>\n",
              "      <td>82</td>\n",
              "      <td>211</td>\n",
              "      <td>2058</td>\n",
              "    </tr>\n",
              "    <tr>\n",
              "      <th>4</th>\n",
              "      <td>4</td>\n",
              "      <td>8808</td>\n",
              "      <td>2028</td>\n",
              "      <td>3309</td>\n",
              "      <td>734</td>\n",
              "      <td>1391</td>\n",
              "      <td>2368</td>\n",
              "      <td>578</td>\n",
              "      <td>131</td>\n",
              "      <td>134</td>\n",
              "      <td>154</td>\n",
              "      <td>-169</td>\n",
              "      <td>108</td>\n",
              "      <td>483</td>\n",
              "      <td>1801</td>\n",
              "    </tr>\n",
              "    <tr>\n",
              "      <th>5</th>\n",
              "      <td>5</td>\n",
              "      <td>8700</td>\n",
              "      <td>2050</td>\n",
              "      <td>3249</td>\n",
              "      <td>746</td>\n",
              "      <td>1431</td>\n",
              "      <td>2402</td>\n",
              "      <td>458</td>\n",
              "      <td>113</td>\n",
              "      <td>134</td>\n",
              "      <td>160</td>\n",
              "      <td>-166</td>\n",
              "      <td>80</td>\n",
              "      <td>495</td>\n",
              "      <td>1796</td>\n",
              "    </tr>\n",
              "  </tbody>\n",
              "</table>\n",
              "</div>"
            ],
            "text/plain": [
              "   Qtr NETSales_Product  ... PROVISION_for_Income_Taxes NET_INCOME\n",
              "1    1             7200  ...                        452       1653\n",
              "2    2             7976  ...                        502       1719\n",
              "3    3             8436  ...                        211       2058\n",
              "4    4             8808  ...                        483       1801\n",
              "5    5             8700  ...                        495       1796\n",
              "\n",
              "[5 rows x 15 columns]"
            ]
          },
          "metadata": {
            "tags": []
          },
          "execution_count": 44
        },
        {
          "output_type": "execute_result",
          "data": {
            "text/plain": [
              "(26, 15)"
            ]
          },
          "metadata": {
            "tags": []
          },
          "execution_count": 44
        }
      ]
    },
    {
      "cell_type": "markdown",
      "metadata": {
        "id": "_td915WoLXHP",
        "colab_type": "text"
      },
      "source": [
        "# dataset2"
      ]
    },
    {
      "cell_type": "code",
      "metadata": {
        "id": "OVAssl8WLRll",
        "colab_type": "code",
        "outputId": "ceee250e-1d94-48cc-c183-8d7fa7273dfd",
        "colab": {
          "base_uri": "https://localhost:8080/",
          "height": 235
        }
      },
      "source": [
        "df_item_totals = df.loc[:,('Qtr','Total_NETSales', 'Total_COSTSales', 'GROSS_MARGIN','Total_OPEX', 'OPIN', 'NetInterest_OtherIncome','INCOME_BeforeTax','PROVISION_for_Income_Taxes', 'NET_INCOME')]\n",
        "df_item_totals.head()\n",
        "df_item_totals.shape"
      ],
      "execution_count": 45,
      "outputs": [
        {
          "output_type": "execute_result",
          "data": {
            "text/html": [
              "<div>\n",
              "<style scoped>\n",
              "    .dataframe tbody tr th:only-of-type {\n",
              "        vertical-align: middle;\n",
              "    }\n",
              "\n",
              "    .dataframe tbody tr th {\n",
              "        vertical-align: top;\n",
              "    }\n",
              "\n",
              "    .dataframe thead th {\n",
              "        text-align: right;\n",
              "    }\n",
              "</style>\n",
              "<table border=\"1\" class=\"dataframe\">\n",
              "  <thead>\n",
              "    <tr style=\"text-align: right;\">\n",
              "      <th></th>\n",
              "      <th>Qtr</th>\n",
              "      <th>Total_NETSales</th>\n",
              "      <th>Total_COSTSales</th>\n",
              "      <th>GROSS_MARGIN</th>\n",
              "      <th>Total_OPEX</th>\n",
              "      <th>OPIN</th>\n",
              "      <th>NetInterest_OtherIncome</th>\n",
              "      <th>INCOME_BeforeTax</th>\n",
              "      <th>PROVISION_for_Income_Taxes</th>\n",
              "      <th>NET_INCOME</th>\n",
              "    </tr>\n",
              "  </thead>\n",
              "  <tbody>\n",
              "    <tr>\n",
              "      <th>1</th>\n",
              "      <td>1</td>\n",
              "      <td>9021</td>\n",
              "      <td>3133</td>\n",
              "      <td>5888</td>\n",
              "      <td>3898</td>\n",
              "      <td>1990</td>\n",
              "      <td>115</td>\n",
              "      <td>2105</td>\n",
              "      <td>452</td>\n",
              "      <td>1653</td>\n",
              "    </tr>\n",
              "    <tr>\n",
              "      <th>2</th>\n",
              "      <td>2</td>\n",
              "      <td>9815</td>\n",
              "      <td>3483</td>\n",
              "      <td>6332</td>\n",
              "      <td>4096</td>\n",
              "      <td>2236</td>\n",
              "      <td>-15</td>\n",
              "      <td>2221</td>\n",
              "      <td>502</td>\n",
              "      <td>1719</td>\n",
              "    </tr>\n",
              "    <tr>\n",
              "      <th>3</th>\n",
              "      <td>3</td>\n",
              "      <td>10368</td>\n",
              "      <td>3738</td>\n",
              "      <td>6630</td>\n",
              "      <td>4419</td>\n",
              "      <td>2211</td>\n",
              "      <td>58</td>\n",
              "      <td>2269</td>\n",
              "      <td>211</td>\n",
              "      <td>2058</td>\n",
              "    </tr>\n",
              "    <tr>\n",
              "      <th>4</th>\n",
              "      <td>4</td>\n",
              "      <td>10836</td>\n",
              "      <td>4043</td>\n",
              "      <td>6793</td>\n",
              "      <td>4602</td>\n",
              "      <td>2191</td>\n",
              "      <td>93</td>\n",
              "      <td>2284</td>\n",
              "      <td>483</td>\n",
              "      <td>1801</td>\n",
              "    </tr>\n",
              "    <tr>\n",
              "      <th>5</th>\n",
              "      <td>5</td>\n",
              "      <td>10750</td>\n",
              "      <td>3995</td>\n",
              "      <td>6755</td>\n",
              "      <td>4538</td>\n",
              "      <td>2217</td>\n",
              "      <td>74</td>\n",
              "      <td>2291</td>\n",
              "      <td>495</td>\n",
              "      <td>1796</td>\n",
              "    </tr>\n",
              "  </tbody>\n",
              "</table>\n",
              "</div>"
            ],
            "text/plain": [
              "   Qtr Total_NETSales  ... PROVISION_for_Income_Taxes NET_INCOME\n",
              "1    1           9021  ...                        452       1653\n",
              "2    2           9815  ...                        502       1719\n",
              "3    3          10368  ...                        211       2058\n",
              "4    4          10836  ...                        483       1801\n",
              "5    5          10750  ...                        495       1796\n",
              "\n",
              "[5 rows x 10 columns]"
            ]
          },
          "metadata": {
            "tags": []
          },
          "execution_count": 45
        },
        {
          "output_type": "execute_result",
          "data": {
            "text/plain": [
              "(26, 10)"
            ]
          },
          "metadata": {
            "tags": []
          },
          "execution_count": 45
        }
      ]
    },
    {
      "cell_type": "markdown",
      "metadata": {
        "id": "RhLtl_FVLdl1",
        "colab_type": "text"
      },
      "source": [
        "# dataset 3"
      ]
    },
    {
      "cell_type": "code",
      "metadata": {
        "id": "mPhrf-SKLaFp",
        "colab_type": "code",
        "outputId": "b8126164-3dec-49df-c07a-366e7590cb9e",
        "colab": {
          "base_uri": "https://localhost:8080/",
          "height": 215
        }
      },
      "source": [
        "df_NetIncome = pd.DataFrame(df,columns=['Qtr','NET_INCOME'])\n",
        "df_NetIncome.head()\n",
        "df_NetIncome.shape"
      ],
      "execution_count": 46,
      "outputs": [
        {
          "output_type": "execute_result",
          "data": {
            "text/html": [
              "<div>\n",
              "<style scoped>\n",
              "    .dataframe tbody tr th:only-of-type {\n",
              "        vertical-align: middle;\n",
              "    }\n",
              "\n",
              "    .dataframe tbody tr th {\n",
              "        vertical-align: top;\n",
              "    }\n",
              "\n",
              "    .dataframe thead th {\n",
              "        text-align: right;\n",
              "    }\n",
              "</style>\n",
              "<table border=\"1\" class=\"dataframe\">\n",
              "  <thead>\n",
              "    <tr style=\"text-align: right;\">\n",
              "      <th></th>\n",
              "      <th>Qtr</th>\n",
              "      <th>NET_INCOME</th>\n",
              "    </tr>\n",
              "  </thead>\n",
              "  <tbody>\n",
              "    <tr>\n",
              "      <th>1</th>\n",
              "      <td>1</td>\n",
              "      <td>1653</td>\n",
              "    </tr>\n",
              "    <tr>\n",
              "      <th>2</th>\n",
              "      <td>2</td>\n",
              "      <td>1719</td>\n",
              "    </tr>\n",
              "    <tr>\n",
              "      <th>3</th>\n",
              "      <td>3</td>\n",
              "      <td>2058</td>\n",
              "    </tr>\n",
              "    <tr>\n",
              "      <th>4</th>\n",
              "      <td>4</td>\n",
              "      <td>1801</td>\n",
              "    </tr>\n",
              "    <tr>\n",
              "      <th>5</th>\n",
              "      <td>5</td>\n",
              "      <td>1796</td>\n",
              "    </tr>\n",
              "  </tbody>\n",
              "</table>\n",
              "</div>"
            ],
            "text/plain": [
              "   Qtr NET_INCOME\n",
              "1    1       1653\n",
              "2    2       1719\n",
              "3    3       2058\n",
              "4    4       1801\n",
              "5    5       1796"
            ]
          },
          "metadata": {
            "tags": []
          },
          "execution_count": 46
        },
        {
          "output_type": "execute_result",
          "data": {
            "text/plain": [
              "(26, 2)"
            ]
          },
          "metadata": {
            "tags": []
          },
          "execution_count": 46
        }
      ]
    },
    {
      "cell_type": "markdown",
      "metadata": {
        "id": "xU14z3g9Li1E",
        "colab_type": "text"
      },
      "source": [
        "# visualize the net income trend"
      ]
    },
    {
      "cell_type": "code",
      "metadata": {
        "id": "Tc2R8svXLgMQ",
        "colab_type": "code",
        "outputId": "af34c20e-19ff-4162-eed1-26b68754a02f",
        "colab": {
          "base_uri": "https://localhost:8080/",
          "height": 544
        }
      },
      "source": [
        "#plot\n",
        "plt.figure(figsize=(10,6))\n",
        "plt.plot(df_NetIncome['NET_INCOME'], label='NET_INCOME')"
      ],
      "execution_count": 47,
      "outputs": [
        {
          "output_type": "execute_result",
          "data": {
            "text/plain": [
              "<Figure size 1000x600 with 0 Axes>"
            ]
          },
          "metadata": {
            "tags": []
          },
          "execution_count": 47
        },
        {
          "output_type": "execute_result",
          "data": {
            "text/plain": [
              "[<matplotlib.lines.Line2D at 0x7f2c2bdd69b0>]"
            ]
          },
          "metadata": {
            "tags": []
          },
          "execution_count": 47
        },
        {
          "output_type": "display_data",
          "data": {
            "image/png": "[encoded data removed]",
            "text/plain": [
              "<Figure size 1000x600 with 1 Axes>"
            ]
          },
          "metadata": {
            "tags": []
          }
        }
      ]
    },
    {
      "cell_type": "markdown",
      "metadata": {
        "id": "w8Ay3RH8PK19",
        "colab_type": "text"
      },
      "source": [
        "# using scikit learn"
      ]
    },
    {
      "cell_type": "code",
      "metadata": {
        "id": "BFtF__SUO98w",
        "colab_type": "code",
        "colab": {}
      },
      "source": [
        "#implement linear regression\n",
        "from sklearn.linear_model import LinearRegression\n",
        "from sklearn.model_selection import train_test_split\n",
        "from sklearn.metrics import mean_squared_error\n",
        "from sklearn.metrics import r2_score"
      ],
      "execution_count": 0,
      "outputs": []
    },
    {
      "cell_type": "code",
      "metadata": {
        "id": "cd4_B2z8PNrS",
        "colab_type": "code",
        "outputId": "d75550b6-09e5-4acd-b249-2f2d37084f32",
        "colab": {
          "base_uri": "https://localhost:8080/",
          "height": 217
        }
      },
      "source": [
        "df_items.head()"
      ],
      "execution_count": 55,
      "outputs": [
        {
          "output_type": "execute_result",
          "data": {
            "text/html": [
              "<div>\n",
              "<style scoped>\n",
              "    .dataframe tbody tr th:only-of-type {\n",
              "        vertical-align: middle;\n",
              "    }\n",
              "\n",
              "    .dataframe tbody tr th {\n",
              "        vertical-align: top;\n",
              "    }\n",
              "\n",
              "    .dataframe thead th {\n",
              "        text-align: right;\n",
              "    }\n",
              "</style>\n",
              "<table border=\"1\" class=\"dataframe\">\n",
              "  <thead>\n",
              "    <tr style=\"text-align: right;\">\n",
              "      <th></th>\n",
              "      <th>Qtr</th>\n",
              "      <th>NETSales_Product</th>\n",
              "      <th>NETSales_Service</th>\n",
              "      <th>COSTSales_Product</th>\n",
              "      <th>COSTSales_Service</th>\n",
              "      <th>OPEX_R_D</th>\n",
              "      <th>OPEX_Sales_Marketing</th>\n",
              "      <th>OPEX_General_Administrative</th>\n",
              "      <th>OPEX_Intag_Assets</th>\n",
              "      <th>OPEX_Restruct_OtherCharges</th>\n",
              "      <th>Interest_Income</th>\n",
              "      <th>Interest_Expense</th>\n",
              "      <th>Other_Income</th>\n",
              "      <th>PROVISION_for_Income_Taxes</th>\n",
              "      <th>NET_INCOME</th>\n",
              "    </tr>\n",
              "  </thead>\n",
              "  <tbody>\n",
              "    <tr>\n",
              "      <th>1</th>\n",
              "      <td>1</td>\n",
              "      <td>7200</td>\n",
              "      <td>1821</td>\n",
              "      <td>2486</td>\n",
              "      <td>647</td>\n",
              "      <td>1224</td>\n",
              "      <td>2010</td>\n",
              "      <td>425</td>\n",
              "      <td>105</td>\n",
              "      <td>134</td>\n",
              "      <td>168</td>\n",
              "      <td>-114</td>\n",
              "      <td>61</td>\n",
              "      <td>452</td>\n",
              "      <td>1653</td>\n",
              "    </tr>\n",
              "    <tr>\n",
              "      <th>2</th>\n",
              "      <td>2</td>\n",
              "      <td>7976</td>\n",
              "      <td>1839</td>\n",
              "      <td>2815</td>\n",
              "      <td>668</td>\n",
              "      <td>1247</td>\n",
              "      <td>2126</td>\n",
              "      <td>451</td>\n",
              "      <td>138</td>\n",
              "      <td>134</td>\n",
              "      <td>155</td>\n",
              "      <td>-158</td>\n",
              "      <td>-12</td>\n",
              "      <td>502</td>\n",
              "      <td>1719</td>\n",
              "    </tr>\n",
              "    <tr>\n",
              "      <th>3</th>\n",
              "      <td>3</td>\n",
              "      <td>8436</td>\n",
              "      <td>1932</td>\n",
              "      <td>3010</td>\n",
              "      <td>728</td>\n",
              "      <td>1411</td>\n",
              "      <td>2278</td>\n",
              "      <td>479</td>\n",
              "      <td>117</td>\n",
              "      <td>134</td>\n",
              "      <td>158</td>\n",
              "      <td>-182</td>\n",
              "      <td>82</td>\n",
              "      <td>211</td>\n",
              "      <td>2058</td>\n",
              "    </tr>\n",
              "    <tr>\n",
              "      <th>4</th>\n",
              "      <td>4</td>\n",
              "      <td>8808</td>\n",
              "      <td>2028</td>\n",
              "      <td>3309</td>\n",
              "      <td>734</td>\n",
              "      <td>1391</td>\n",
              "      <td>2368</td>\n",
              "      <td>578</td>\n",
              "      <td>131</td>\n",
              "      <td>134</td>\n",
              "      <td>154</td>\n",
              "      <td>-169</td>\n",
              "      <td>108</td>\n",
              "      <td>483</td>\n",
              "      <td>1801</td>\n",
              "    </tr>\n",
              "    <tr>\n",
              "      <th>5</th>\n",
              "      <td>5</td>\n",
              "      <td>8700</td>\n",
              "      <td>2050</td>\n",
              "      <td>3249</td>\n",
              "      <td>746</td>\n",
              "      <td>1431</td>\n",
              "      <td>2402</td>\n",
              "      <td>458</td>\n",
              "      <td>113</td>\n",
              "      <td>134</td>\n",
              "      <td>160</td>\n",
              "      <td>-166</td>\n",
              "      <td>80</td>\n",
              "      <td>495</td>\n",
              "      <td>1796</td>\n",
              "    </tr>\n",
              "  </tbody>\n",
              "</table>\n",
              "</div>"
            ],
            "text/plain": [
              "   Qtr NETSales_Product  ... PROVISION_for_Income_Taxes NET_INCOME\n",
              "1    1             7200  ...                        452       1653\n",
              "2    2             7976  ...                        502       1719\n",
              "3    3             8436  ...                        211       2058\n",
              "4    4             8808  ...                        483       1801\n",
              "5    5             8700  ...                        495       1796\n",
              "\n",
              "[5 rows x 15 columns]"
            ]
          },
          "metadata": {
            "tags": []
          },
          "execution_count": 55
        }
      ]
    },
    {
      "cell_type": "code",
      "metadata": {
        "id": "ESIz11N0PP3J",
        "colab_type": "code",
        "colab": {}
      },
      "source": [
        "X =  df_items.iloc[:,1:14]\n",
        "Y =  df_items.iloc[:,14:]"
      ],
      "execution_count": 0,
      "outputs": []
    },
    {
      "cell_type": "code",
      "metadata": {
        "id": "N9dVcr9RP01Q",
        "colab_type": "code",
        "colab": {}
      },
      "source": [
        "X_train, X_test, y_train, y_test = train_test_split(X,Y,test_size=0.3,  random_state=None, shuffle=False)"
      ],
      "execution_count": 0,
      "outputs": []
    },
    {
      "cell_type": "code",
      "metadata": {
        "id": "NBafTX5jP26t",
        "colab_type": "code",
        "outputId": "bb67c4da-262e-42f3-ed47-a93728170eb9",
        "colab": {
          "base_uri": "https://localhost:8080/",
          "height": 52
        }
      },
      "source": [
        "slr = LinearRegression()\n",
        "slr.fit(X_train,y_train)\n",
        "\n",
        "#make predictions and find the rmse\n",
        "\n",
        "y_pred = slr.predict(X_test)\n",
        "\n",
        "# Model Evaluation\n",
        "rmse = np.sqrt(mean_squared_error(y_test, y_pred))\n",
        "r2 = r2_score(y_test, y_pred)\n",
        "\n",
        "print(\"RMSE Value :\", rmse)\n",
        "print(\"R-Squared Value :\", r2)"
      ],
      "execution_count": 58,
      "outputs": [
        {
          "output_type": "execute_result",
          "data": {
            "text/plain": [
              "LinearRegression(copy_X=True, fit_intercept=True, n_jobs=None, normalize=False)"
            ]
          },
          "metadata": {
            "tags": []
          },
          "execution_count": 58
        },
        {
          "output_type": "stream",
          "text": [
            "RMSE Value : 1.3853943536280373e-12\n",
            "R-Squared Value : 1.0\n"
          ],
          "name": "stdout"
        }
      ]
    },
    {
      "cell_type": "code",
      "metadata": {
        "id": "058h2wkoQAfg",
        "colab_type": "code",
        "outputId": "7000382f-9e96-476a-e45e-af592f60a29a",
        "colab": {
          "base_uri": "https://localhost:8080/",
          "height": 667
        }
      },
      "source": [
        "#plot\n",
        "y_test['Predictions'] = 0\n",
        "y_test['Predictions'] = y_pred\n",
        "\n",
        "plt.plot(df_items['NET_INCOME'])\n",
        "plt.plot(y_test[['NET_INCOME', 'Predictions']])\n",
        "plt.legend()"
      ],
      "execution_count": 59,
      "outputs": [
        {
          "output_type": "execute_result",
          "data": {
            "text/plain": [
              "[<matplotlib.lines.Line2D at 0x7f2c2bcfe160>]"
            ]
          },
          "metadata": {
            "tags": []
          },
          "execution_count": 59
        },
        {
          "output_type": "execute_result",
          "data": {
            "text/plain": [
              "[<matplotlib.lines.Line2D at 0x7f2c2bcfe5f8>,\n",
              " <matplotlib.lines.Line2D at 0x7f2c2bcfe748>]"
            ]
          },
          "metadata": {
            "tags": []
          },
          "execution_count": 59
        },
        {
          "output_type": "stream",
          "text": [
            "No handles with labels found to put in legend.\n"
          ],
          "name": "stderr"
        },
        {
          "output_type": "execute_result",
          "data": {
            "text/plain": [
              "<matplotlib.legend.Legend at 0x7f2c2bd40a58>"
            ]
          },
          "metadata": {
            "tags": []
          },
          "execution_count": 59
        },
        {
          "output_type": "display_data",
          "data": {
            "image/png": "[encoded data removed]",
            "text/plain": [
              "<Figure size 1440x720 with 1 Axes>"
            ]
          },
          "metadata": {
            "tags": []
          }
        }
      ]
    },
    {
      "cell_type": "code",
      "metadata": {
        "id": "HxtGsTI_TE7g",
        "colab_type": "code",
        "colab": {}
      },
      "source": [
        ""
      ],
      "execution_count": 0,
      "outputs": []
    }
  ]
}