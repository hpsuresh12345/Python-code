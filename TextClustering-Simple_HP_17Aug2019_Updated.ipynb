{
 "cells": [
  {
   "cell_type": "code",
   "execution_count": 1,
   "metadata": {},
   "outputs": [],
   "source": [
    "#Text clustering with K-means\n",
    "from sklearn.feature_extraction.text import TfidfVectorizer\n",
    "from sklearn.cluster import KMeans\n",
    "from sklearn.metrics import adjusted_rand_score\n",
    "import pandas as pd\n",
    "import numpy as np"
   ]
  },
  {
   "cell_type": "code",
   "execution_count": 2,
   "metadata": {},
   "outputs": [
    {
     "data": {
      "text/html": [
       "<div>\n",
       "<style scoped>\n",
       "    .dataframe tbody tr th:only-of-type {\n",
       "        vertical-align: middle;\n",
       "    }\n",
       "\n",
       "    .dataframe tbody tr th {\n",
       "        vertical-align: top;\n",
       "    }\n",
       "\n",
       "    .dataframe thead th {\n",
       "        text-align: right;\n",
       "    }\n",
       "</style>\n",
       "<table border=\"1\" class=\"dataframe\">\n",
       "  <thead>\n",
       "    <tr style=\"text-align: right;\">\n",
       "      <th></th>\n",
       "      <th>Message</th>\n",
       "      <th>Class_Label</th>\n",
       "      <th>Unnamed: 2</th>\n",
       "      <th>Unnamed: 3</th>\n",
       "      <th>Unnamed: 4</th>\n",
       "      <th>Unnamed: 5</th>\n",
       "      <th>Unnamed: 6</th>\n",
       "      <th>Unnamed: 7</th>\n",
       "      <th>Unnamed: 8</th>\n",
       "      <th>Unnamed: 9</th>\n",
       "      <th>Unnamed: 10</th>\n",
       "    </tr>\n",
       "  </thead>\n",
       "  <tbody>\n",
       "    <tr>\n",
       "      <th>0</th>\n",
       "      <td>'Go until jurong point</td>\n",
       "      <td>ham</td>\n",
       "      <td>NaN</td>\n",
       "      <td>NaN</td>\n",
       "      <td>NaN</td>\n",
       "      <td>NaN</td>\n",
       "      <td>NaN</td>\n",
       "      <td>NaN</td>\n",
       "      <td>NaN</td>\n",
       "      <td>NaN</td>\n",
       "      <td>NaN</td>\n",
       "    </tr>\n",
       "    <tr>\n",
       "      <th>1</th>\n",
       "      <td>'Ok lar... Joking wif u oni...'</td>\n",
       "      <td>ham</td>\n",
       "      <td>NaN</td>\n",
       "      <td>NaN</td>\n",
       "      <td>NaN</td>\n",
       "      <td>NaN</td>\n",
       "      <td>NaN</td>\n",
       "      <td>NaN</td>\n",
       "      <td>NaN</td>\n",
       "      <td>NaN</td>\n",
       "      <td>NaN</td>\n",
       "    </tr>\n",
       "    <tr>\n",
       "      <th>2</th>\n",
       "      <td>'Free entry in 2 a wkly comp to win FA Cup fin...</td>\n",
       "      <td>spam</td>\n",
       "      <td>NaN</td>\n",
       "      <td>NaN</td>\n",
       "      <td>NaN</td>\n",
       "      <td>NaN</td>\n",
       "      <td>NaN</td>\n",
       "      <td>NaN</td>\n",
       "      <td>NaN</td>\n",
       "      <td>NaN</td>\n",
       "      <td>NaN</td>\n",
       "    </tr>\n",
       "    <tr>\n",
       "      <th>3</th>\n",
       "      <td>'U dun say so early hor... U c already then sa...</td>\n",
       "      <td>ham</td>\n",
       "      <td>NaN</td>\n",
       "      <td>NaN</td>\n",
       "      <td>NaN</td>\n",
       "      <td>NaN</td>\n",
       "      <td>NaN</td>\n",
       "      <td>NaN</td>\n",
       "      <td>NaN</td>\n",
       "      <td>NaN</td>\n",
       "      <td>NaN</td>\n",
       "    </tr>\n",
       "    <tr>\n",
       "      <th>4</th>\n",
       "      <td>'Nah I don\\'t think he goes to usf</td>\n",
       "      <td>ham</td>\n",
       "      <td>NaN</td>\n",
       "      <td>NaN</td>\n",
       "      <td>NaN</td>\n",
       "      <td>NaN</td>\n",
       "      <td>NaN</td>\n",
       "      <td>NaN</td>\n",
       "      <td>NaN</td>\n",
       "      <td>NaN</td>\n",
       "      <td>NaN</td>\n",
       "    </tr>\n",
       "  </tbody>\n",
       "</table>\n",
       "</div>"
      ],
      "text/plain": [
       "                                             Message Class_Label Unnamed: 2  \\\n",
       "0                             'Go until jurong point         ham        NaN   \n",
       "1                    'Ok lar... Joking wif u oni...'         ham        NaN   \n",
       "2  'Free entry in 2 a wkly comp to win FA Cup fin...        spam        NaN   \n",
       "3  'U dun say so early hor... U c already then sa...         ham        NaN   \n",
       "4                 'Nah I don\\'t think he goes to usf         ham        NaN   \n",
       "\n",
       "  Unnamed: 3 Unnamed: 4 Unnamed: 5 Unnamed: 6 Unnamed: 7 Unnamed: 8  \\\n",
       "0        NaN        NaN        NaN        NaN        NaN        NaN   \n",
       "1        NaN        NaN        NaN        NaN        NaN        NaN   \n",
       "2        NaN        NaN        NaN        NaN        NaN        NaN   \n",
       "3        NaN        NaN        NaN        NaN        NaN        NaN   \n",
       "4        NaN        NaN        NaN        NaN        NaN        NaN   \n",
       "\n",
       "  Unnamed: 9 Unnamed: 10  \n",
       "0        NaN         NaN  \n",
       "1        NaN         NaN  \n",
       "2        NaN         NaN  \n",
       "3        NaN         NaN  \n",
       "4        NaN         NaN  "
      ]
     },
     "execution_count": 2,
     "metadata": {},
     "output_type": "execute_result"
    }
   ],
   "source": [
    "#Create document list\n",
    "df = pd.read_csv(\"SMS.csv\")\n",
    "df.head(5)"
   ]
  },
  {
   "cell_type": "code",
   "execution_count": 3,
   "metadata": {},
   "outputs": [
    {
     "name": "stdout",
     "output_type": "stream",
     "text": [
      "[\"'Go until jurong point\", \"'Ok lar... Joking wif u oni...'\", \"'Free entry in 2 a wkly comp to win FA Cup final tkts 21st May 2005. Text FA to 87121 to receive entry question(std txt rate)T&C\\\\'s apply 08452810075over18\\\\'s'\", \"'U dun say so early hor... U c already then say...'\", \"'Nah I don\\\\'t think he goes to usf\", \"'FreeMsg Hey there darling it\\\\'s been 3 week\\\\'s now and no word back! I\\\\'d like some fun you up for it still? Tb ok! XxX std chgs to send\", \"'Even my brother is not like to speak with me. They treat me like aids patent.'\", \"'As per your request \\\\'Melle Melle (Oru Minnaminunginte Nurungu Vettam)\\\\' has been set as your callertune for all Callers. Press *9 to copy your friends Callertune'\", \"'WINNER!! As a valued network customer you have been selected to receivea £900 prize reward! To claim call 09061701461. Claim code KL341. Valid 12 hours only.'\", \"'Had your mobile 11 months or more? U R entitled to Update to the latest colour mobiles with camera for Free! Call The Mobile Update Co FREE on 08002986030'\", \"'I\\\\'m gonna be home soon and i don\\\\'t want to talk about this stuff anymore tonight\", \"'SIX chances to win CASH! From 100 to 20\", \"'URGENT! You have won a 1 week FREE membership in our £100\", \"'I\\\\'ve been searching for the right words to thank you for this breather. I promise i wont take your help for granted and will fulfil my promise. You have been wonderful and a blessing at all times.'\", \"'I HAVE A DATE ON SUNDAY WITH WILL!!'\", \"'XXXMobileMovieClub: To use your credit\", \"'Oh k...i\\\\'m watching here:)'\", \"'Eh u remember how 2 spell his name... Yes i did. He v naughty make until i v wet.'\", \"'Fine if that\\\\'s the way u feel. That\\\\'s the way its gota b'\", \"'England v Macedonia - dont miss the goals/team news. Txt ur national team to 87077 eg ENGLAND to 87077 Try:WALES\", \"'Is that seriously how you spell his name?'\", \"'I\\\\'m going to try for 2 months ha ha only joking'\", \"'So ü pay first lar... Then when is da stock comin...'\", \"'Aft i finish my lunch then i go str down lor. Ard 3 smth lor. U finish ur lunch already?'\", \"'Ffffffffff. Alright no way I can meet up with you sooner?'\", \"'Just forced myself to eat a slice. I\\\\'m really not hungry tho. This sucks. Mark is getting worried. He knows I\\\\'m sick when I turn down pizza. Lol'\", \"'Lol your always so convincing.'\", \"'Did you catch the bus ? Are you frying an egg ? Did you make a tea? Are you eating your mom\\\\'s left over dinner ? Do you feel my Love ?'\", \"'I\\\\'m back &amp; we\\\\'re packing the car now\", \"'Ahhh. Work. I vaguely remember that! What does it feel like? Lol'\", \"'Wait that\\\\'s still not all that clear\", \"'Yeah he got in at 2 and was v apologetic. n had fallen out and she was actin like spoilt child and he got caught up in that. Till 2! But we won\\\\'t go there! Not doing too badly cheers. You? ‘\", \"'K tell me anything about you.'\", \"'For fear of fainting with the of all that housework you just did? Quick have a cuppa'\", \"'Thanks for your subscription to Ringtone UK your mobile will be charged £5/month Please confirm by replying YES or NO. If you reply NO you will not be charged'\", \"'Yup... Ok i go home look at the timings then i msg ü again... Xuhui going to learn on 2nd may too but her lesson is at 8am'\", \"'Oops\", \"'I see the letter B on my car'\", \"'Anything lor... U decide...'\", \"'Hello! How\\\\'s you and how did saturday go? I was just texting to see if you\\\\'d decided to do anything tomo. Not that i\\\\'m trying to invite myself or anything!'\", \"'Pls go ahead with watts. I just wanted to be sure. Do have a great weekend. Abiola'\", \"'Did I forget to tell you ? I want you \", \"'07732584351 - Rodger Burns - MSG = We tried to call you re your reply to our sms for a free nokia mobile + free camcorder. Please call now 08000930705 for delivery tomorrow'\", \"'WHO ARE YOU SEEING?'\", \"'Great! I hope you like your man well endowed. I am  &lt;#&gt;  inches...'\", \"'No calls..messages..missed calls'\", \"'Didn\\\\'t you get hep b immunisation in nigeria.'\", \"'Fair enough\", \"'Yeah hopefully\", \"'U don\\\\'t know how stubborn I am. I didn\\\\'t even want to go to the hospital. I kept telling Mark I\\\\'m not a weak sucker. Hospitals are for weak suckers.'\", \"'What you thinked about me. First time you saw me in class.'\", \"'A gram usually runs like  &lt;#&gt; \", \"'K fyi x has a ride early tomorrow morning but he\\\\'s crashing at our place tonight'\", \"'Wow. I never realized that you were so embarassed by your accomodations. I thought you liked it\", \"'SMS. ac Sptv: The New Jersey Devils and the Detroit Red Wings play Ice Hockey. Correct or Incorrect? End? Reply END SPTV'\", \"'Do you know what Mallika Sherawat did yesterday? Find out now @  &lt;URL&gt;'\", \"'Congrats! 1 year special cinema pass for 2 is yours. call 09061209465 now! C Suprman V\", \"'Sorry\", \"'Tell where you reached'\", \"'Yes..gauti and sehwag out of odi series.'\", \"'Your gonna have to pick up a $1 burger for yourself on your way home. I can\\\\'t even move. Pain is killing me.'\", \"'Ha ha ha good joke. Girls are situation seekers.'\", \"'Its a part of checking IQ'\", \"'Sorry my roommates took forever\", \"'Ok lar i double check wif da hair dresser already he said wun cut v short. He said will cut until i look nice.'\", \"'As a valued customer\", '\\'Today is \"song dedicated day..\" Which song will u dedicate for me? Send this to all ur valuable frnds but first rply me...\\'', \"'Urgent UR awarded a complimentary trip to EuroDisinc Trav\", '\\'Did you hear about the new \"Divorce Barbie\"? It comes with all of Ken\\\\\\'s stuff!\\'', \"'I plane to give on this month end.'\", \"'Wah lucky man... Then can save money... Hee...'\", \"'Finished class where are you.'\", \"'HI BABE IM AT HOME NOW WANNA DO SOMETHING? XX'\", \"'K..k:)where are you?how did you performed?'\", \"'U can call me now...'\", \"'I am waiting machan. Call me once you free.'\", \"'Thats cool. i am a gentleman and will treat you with dignity and respect.'\", \"'I like you peoples very much:) but am very shy pa.'\", \"'Does not operate after  &lt;#&gt;  or what'\", \"'Its not the same here. Still looking for a job. How much do Ta\\\\'s earn there.'\", \"'Sorry\", \"'K. Did you call me just now ah? ‘\", \"'Ok i am on the way to home hi hi'\", \"'You will be in the place of that man'\", \"'Yup next stop.'\", \"'I call you later\", \"'For real when u getting on yo? I only need 2 more tickets and one more jacket and I\\\\'m done. I already used all my multis.'\", \"'Yes I started to send requests to make it but pain came back so I\\\\'m back in bed. Double coins at the factory too. I gotta cash in all my nitros.'\", \"'I\\\\'m really not up to it still tonight babe'\", \"'Ela kano.\", \"'Yeah do! Don\\\\'t stand to close tho- you\\\\'ll catch something!'\", \"'Sorry to be a pain. Is it ok if we meet another night? I spent late afternoon in casualty and that means i haven\\\\'t done any of y stuff42moro and that includes all my time sheets and that. Sorry. ‘\", \"'Smile in Pleasure Smile in Pain Smile when trouble pours like Rain Smile when sum1 Hurts U Smile becoz SOMEONE still Loves to see u Smiling!!'\", \"'Please call our customer service representative on 0800 169 6031 between 10am-9pm as you have WON a guaranteed £1000 cash or £5000 prize!'\", \"'Havent planning to buy later. I check already lido only got 530 show in e afternoon. U finish work already?'\", '\\'Your free ringtone is waiting to be collected. Simply text the password \"MIX\" to 85069 to verify. Get Usher and Britney. FML', \"'Watching telugu movie..wat abt u?'\", \"'i see. When we finish we have loads of loans to pay'\", '\\'Hi. Wk been ok - on hols now! Yes on for a bit of a run. Forgot that i have hairdressers appointment at four so need to get home n shower beforehand. Does that cause prob for u?\"‘', \"'I see a cup of coffee animation'\", \"'Please don\\\\'t text me anymore. I have nothing else to say.'\", \"'Okay name ur price as long as its legal! Wen can I pick them up? Y u ave x ams xx'\", \"'I\\\\'m still looking for a car to buy. And have not gone 4the driving test yet.'\", \"'As per your request \\\\'Melle Melle (Oru Minnaminunginte Nurungu Vettam)\\\\' has been set as your callertune for all Callers. Press *9 to copy your friends Callertune'\", \"'wow. You\\\\'re right! I didn\\\\'t mean to do that. I guess once i gave up on boston men and changed my search location to nyc\", \"'Umma my life and vava umma love you lot dear'\", \"'Thanks a lot for your wishes on my birthday. Thanks you for making my birthday truly memorable.'\", \"'Aight\", \"'How would my ip address test that considering my computer isn\\\\'t a minecraft server'\", \"'I know! Grumpy old people. My mom was like you better not be lying. Then again I am always the one to play jokes...'\", \"'Dont worry. I guess he\\\\'s busy.'\", \"'What is the plural of the noun research?'\", \"'Going for dinner.msg you after.'\", \"'I\\\\'m ok wif it cos i like 2 try new things. But i scared u dun like mah. Cos u said not too loud.'\", \"'GENT! We are trying to contact you. Last weekends draw shows that you won a £1000 prize GUARANTEED. Call 09064012160. Claim Code K52. Valid 12hrs only. 150ppm'\", \"'Wa\", \"'As I entered my cabin my PA said\", \"'You are a winner U have been specially selected 2 receive £1000 or a 4* holiday (flights inc) speak to a live operator 2 claim 0871277810910p/min (18+) ‘\", \"'Goodo! Yes we must speak friday - egg-potato ratio for tortilla needed! ‘\", \"'Hmm...my uncle just informed me that he\\\\'s paying the school directly. So pls buy food.'\", \"'PRIVATE! Your 2004 Account Statement for 07742676969 shows 786 unredeemed Bonus Points. To claim call 08719180248 Identifier Code: 45239 Expires'\", \"'URGENT! Your Mobile No. was awarded £2000 Bonus Caller Prize on 5/9/03 This is our final try to contact U! Call from Landline 09064019788 BOX42WR29C\", \"'here is my new address -apples&pairs&all that malarky'\", \"'Todays Voda numbers ending 7548 are selected to receive a $350 award. If you have a match please call 08712300220 quoting claim code 4041 standard rates app'\", \"'I am going to sao mu today. Will be done only at 12 ‘\", \"'Ü predict wat time ü\\\\'ll finish buying?'\", \"'Good stuff\", \"'Just so that you know\", \"'Are you there in room.'\", \"'HEY GIRL. HOW R U? HOPE U R WELL ME AN DEL R BAK! AGAIN LONG TIME NO C! GIVE ME A CALL SUM TIME FROM LUCYxx'\", \"'K..k:)how much does it cost?'\", \"'I\\\\'m home.'\", \"'Dear\", \"'First answer my question.'\", \"'Sunshine Quiz Wkly Q! Win a top Sony DVD player if u know which country the Algarve is in? Txt ansr to 82277. £1.50 SP:Tyrone'\", \"'Want 2 get laid tonight? Want real Dogging locations sent direct 2 ur mob? Join the UK\\\\'s largest Dogging Network bt Txting GRAVEL to 69888! Nt. ec2a. 31p.msg@150p'\", \"'I only haf msn. It\\\\'s yijue@hotmail.com'\", \"'He is there. You call and meet him'\", \"'No no. I will check all rooms befor activities'\", \"'You\\\\'ll not rcv any more msgs from the chat svc. For FREE Hardcore services text GO to: 69988 If u get nothing u must Age Verify with yr network & try again'\", \"'Got c... I lazy to type... I forgot ü in lect... I saw a pouch but like not v nice...'\", \"'K\", \"'Sir\", '\\'A swt thought: \"Nver get tired of doing little things 4 lovable persons..\" Coz..somtimes those little things occupy d biggest part in their Hearts.. Gud ni8\\'', \"'I know you are. Can you pls open the back?'\", \"'Yes see ya not on the dot'\", \"'Whats the staff name who is taking class for us?'\", \"'FreeMsg Why haven\\\\'t you replied to my text? I\\\\'m Randy\", \"'Ummma.will call after check in.our life will begin from qatar so pls pray very hard.'\", \"'K..i deleted my contact that why?'\", \"'Sindu got job in birla soft ..'\", \"'The wine is flowing and i\\\\'m i have nevering..'\", \"'Yup i thk cine is better cos no need 2 go down 2 plaza mah.'\", \"'Ok... Ur typical reply...'\", \"'As per your request \\\\'Melle Melle (Oru Minnaminunginte Nurungu Vettam)\\\\' has been set as your callertune for all Callers. Press *9 to copy your friends Callertune'\", \"'You are everywhere dirt\", \"'Aaooooright are you at work?'\", \"'I\\\\'m leaving my house now...'\", \"'Hello\", \"'Customer service annoncement. You have a New Years delivery waiting for you. Please call 07046744435 now to arrange delivery'\", \"'You are a winner U have been specially selected 2 receive £1000 cash or a 4* holiday (flights inc) speak to a live operator 2 claim 0871277810810'\", \"'Keep yourself safe for me because I need you and I miss you already and I envy everyone that see\\\\'s you in real life'\", \"'New car and house for my parents.:)i have only new job in hand:)'\", \"'I\\\\'m so in love with you. I\\\\'m excited each day i spend with you. You make me so happy.'\", \"'-PLS STOP bootydelious (32/F) is inviting you to be her friend. Reply YES-434 or NO-434 See her: www.SMS.ac/u/bootydelious STOP? Send STOP FRND to 62468'\", \"'BangBabes Ur order is on the way. U SHOULD receive a Service Msg 2 download UR content. If U do not\", \"'I place all ur points on e cultures module already.'\", \"'URGENT! We are trying to contact you. Last weekends draw shows that you have won a £900 prize GUARANTEED. Call 09061701939. Claim code S89. Valid 12hrs only'\", \"'Hi frnd\", \"'Great escape. I fancy the bridge but needs her lager. See you tomo ‘\", \"'Yes :)it completely in out of form:)clark also utter waste.'\", \"'Sir\", \"'Hmmm.. Thk sure got time to hop ard... Ya\", \"'What time you coming down later? ‘\", \"'Bloody hell\", \"'Well\", \"'Let me know when you\\\\'ve got the money so carlos can make the call'\", \"'U still going to the mall?'\", \"'Turns out my friends are staying for the whole show and won\\\\'t be back til ~ &lt;#&gt; \", \"'Text her. If she doesnt reply let me know so i can have her log in'\", \"'Hi! You just spoke to MANEESHA V. We\\\\'d like to know if you were satisfied with the experience. Reply Toll Free with Yes or No.'\", \"'You lifted my hopes with the offer of money. I am in need. Especially when the end of the month approaches and it hurts my studying. Anyways have a gr8 weekend'\", \"'Lol no. U can trust me.'\", \"'ok. I am a gentleman and will treat you with dignity and respect.'\", \"'He will\", \"'Going on nothing great.bye'\", \"'Hello handsome ! Are you finding that job ? Not being lazy ? Working towards getting back that net for mummy ? Where\\\\'s my boytoy now ? Does he miss me ?'\", \"'Haha awesome\", \"'Please call our customer service representative on FREEPHONE 0808 145 4742 between 9am-11pm as you have WON a guaranteed £1000 cash or £5000 prize!'\", \"'Have you got Xmas radio times. If not i will get it now'\", \"'I jus reached home. I go bathe first. But my sis using net tell u when she finishes k...'\", \"'Are you unique enough? Find out from 30th August. www.areyouunique.co.uk'\", \"'I\\\\'m sorry. I\\\\'ve joined the league of people that dont keep in touch. You mean a great deal to me. You have been a friend at all times even at great personal cost. Do have a great week.|'\", \"'Hi :)finally i completed the course:)'\", \"'It will stop on itself. I however suggest she stays with someone that will be able to give ors for every stool.'\", \"'How are you doing? Hope you\\\\'ve settled in for the new school year. Just wishin you a gr8 day'\", \"'Gud mrng dear hav a nice day'\", \"'Did u got that persons story'\", \"'is your hamster dead? Hey so tmr i meet you at 1pm orchard mrt? ‘\", \"'Hi its Kate how is your evening? I hope i can see you tomorrow for a bit but i have to bloody babyjontet! Txt back if u can. :) xxx'\"]\n"
     ]
    }
   ],
   "source": [
    "df_cluster=df.iloc[:,0]\n",
    "df_cluster.count()\n",
    "docs = []\n",
    "for rec in df_cluster:\n",
    "    docs.append(rec)\n",
    "print(docs)"
   ]
  },
  {
   "cell_type": "code",
   "execution_count": 4,
   "metadata": {},
   "outputs": [
    {
     "name": "stdout",
     "output_type": "stream",
     "text": [
      "  (0, 395)\t0.7071067811865475\n",
      "  (0, 562)\t0.7071067811865475\n",
      "  (1, 524)\t0.35333466961781596\n",
      "  (1, 410)\t0.44485737972889927\n",
      "  (1, 394)\t0.4708848799191407\n",
      "  (1, 805)\t0.44485737972889927\n",
      "  (1, 527)\t0.5075685810913448\n",
      "  (2, 293)\t0.15079624737748787\n",
      "  (2, 259)\t0.4120673071945241\n",
      "  (2, 813)\t0.19114290333898476\n",
      "  (2, 180)\t0.20603365359726206\n",
      "  (2, 806)\t0.18057774789404243\n",
      "  (2, 268)\t0.4120673071945241\n",
      "  (2, 202)\t0.19114290333898476\n",
      "  (2, 277)\t0.19114290333898476\n",
      "  (2, 732)\t0.20603365359726206\n",
      "  (2, 35)\t0.20603365359726206\n",
      "  (2, 34)\t0.20603365359726206\n",
      "  (2, 714)\t0.16002579712911386\n",
      "  (2, 58)\t0.20603365359726206\n",
      "  (2, 591)\t0.1656869976357652\n",
      "  (2, 576)\t0.19114290333898476\n",
      "  (2, 681)\t0.19114290333898476\n",
      "  (2, 754)\t0.17238277666737264\n",
      "  (2, 583)\t0.20603365359726206\n",
      "  :\t:\n",
      "  (196, 330)\t0.4109243280215999\n",
      "  (196, 489)\t0.4429368769403965\n",
      "  (196, 343)\t0.4429368769403965\n",
      "  (197, 222)\t0.41013162058878794\n",
      "  (197, 319)\t0.431205312011961\n",
      "  (197, 550)\t0.5465774958367011\n",
      "  (197, 685)\t0.589157936151897\n",
      "  (198, 353)\t0.3207145118581678\n",
      "  (198, 467)\t0.30615986031718556\n",
      "  (198, 337)\t0.36592538898299526\n",
      "  (198, 210)\t0.36592538898299526\n",
      "  (198, 733)\t0.36592538898299526\n",
      "  (198, 30)\t0.36592538898299526\n",
      "  (198, 532)\t0.36592538898299526\n",
      "  (198, 490)\t0.36592538898299526\n",
      "  (199, 754)\t0.29011495572772433\n",
      "  (199, 829)\t0.3216876767617009\n",
      "  (199, 738)\t0.30390684236848103\n",
      "  (199, 362)\t0.29011495572772433\n",
      "  (199, 354)\t0.2610653294350344\n",
      "  (199, 120)\t0.3216876767617009\n",
      "  (199, 122)\t0.3216876767617009\n",
      "  (199, 400)\t0.3467483553019276\n",
      "  (199, 264)\t0.3467483553019276\n",
      "  (199, 106)\t0.3467483553019276\n"
     ]
    }
   ],
   "source": [
    "#Transform the data\n",
    "vectorizer = TfidfVectorizer(stop_words='english')\n",
    "X = vectorizer.fit_transform(docs)\n",
    "print(X)"
   ]
  },
  {
   "cell_type": "code",
   "execution_count": 5,
   "metadata": {},
   "outputs": [
    {
     "data": {
      "text/plain": [
       "KMeans(algorithm='auto', copy_x=True, init='k-means++', max_iter=100,\n",
       "    n_clusters=3, n_init=1, n_jobs=None, precompute_distances='auto',\n",
       "    random_state=None, tol=0.0001, verbose=0)"
      ]
     },
     "execution_count": 5,
     "metadata": {},
     "output_type": "execute_result"
    }
   ],
   "source": [
    "#Build the clusters\n",
    "true_k = 3\n",
    "model = KMeans(n_clusters=true_k, init='k-means++', max_iter=100, n_init=1)\n",
    "model.fit(X)"
   ]
  },
  {
   "cell_type": "code",
   "execution_count": 6,
   "metadata": {},
   "outputs": [
    {
     "name": "stdout",
     "output_type": "stream",
     "text": [
      "Top terms per cluster:\n",
      "Cluster 0:\n",
      " did\n",
      " like\n",
      " sorry\n",
      " know\n",
      " just\n",
      " hi\n",
      " home\n",
      " tell\n",
      " ok\n",
      " yes\n",
      "Cluster 1:\n",
      " won\n",
      " customer\n",
      " cash\n",
      " prize\n",
      " claim\n",
      " 1000\n",
      " service\n",
      " valued\n",
      " guaranteed\n",
      " 100\n",
      "Cluster 2:\n",
      " going\n",
      " msg\n",
      " mall\n",
      " ha\n",
      " bye\n",
      " dinner\n",
      " great\n",
      " sao\n",
      " mu\n",
      " today\n"
     ]
    }
   ],
   "source": [
    "#Profile the clusters\n",
    "print(\"Top terms per cluster:\")\n",
    "order_centroids = model.cluster_centers_.argsort()[:, ::-1]\n",
    "terms = vectorizer.get_feature_names()\n",
    "for i in range(true_k):\n",
    "    print(\"Cluster %d:\" % i),\n",
    "    for ind in order_centroids[i, :10]:\n",
    "        print(' %s' % terms[ind]),\n",
    "    print"
   ]
  },
  {
   "cell_type": "code",
   "execution_count": 7,
   "metadata": {},
   "outputs": [
    {
     "name": "stdout",
     "output_type": "stream",
     "text": [
      "\n",
      "\n",
      "Prediction\n",
      "[0]\n"
     ]
    }
   ],
   "source": [
    "#Use model for prediction\n",
    "print(\"\\n\")\n",
    "print(\"Prediction\")\n",
    " \n",
    "Y = vectorizer.transform([\"I hope i can see you tomorrow for a bit but i have to bloody babyjontet\"])\n",
    "prediction = model.predict(Y)\n",
    "print(prediction)"
   ]
  },
  {
   "cell_type": "code",
   "execution_count": 8,
   "metadata": {},
   "outputs": [
    {
     "name": "stdout",
     "output_type": "stream",
     "text": [
      "Top terms per cluster:\n",
      "Cluster 0:\n",
      " did\n",
      " like\n",
      " sorry\n",
      " know\n",
      " just\n",
      " hi\n",
      " home\n",
      " tell\n",
      " ok\n",
      " yes\n",
      "Cluster 1:\n",
      " won\n",
      " customer\n",
      " cash\n",
      " prize\n",
      " claim\n",
      " 1000\n",
      " service\n",
      " valued\n",
      " guaranteed\n",
      " 100\n",
      "Cluster 2:\n",
      " going\n",
      " msg\n",
      " mall\n",
      " ha\n",
      " bye\n",
      " dinner\n",
      " great\n",
      " sao\n",
      " mu\n",
      " today\n"
     ]
    }
   ],
   "source": [
    "#Profile the clusters\n",
    "print(\"Top terms per cluster:\")\n",
    "order_centroids = model.cluster_centers_.argsort()[:, ::-1]\n",
    "terms = vectorizer.get_feature_names()\n",
    "for i in range(true_k):\n",
    "    print(\"Cluster %d:\" % i),\n",
    "    for ind in order_centroids[i, :10]:\n",
    "        print(' %s' % terms[ind]),\n",
    "    print"
   ]
  },
  {
   "cell_type": "code",
   "execution_count": 9,
   "metadata": {},
   "outputs": [
    {
     "name": "stdout",
     "output_type": "stream",
     "text": [
      "[0]\n"
     ]
    }
   ],
   "source": [
    "Y = vectorizer.transform([\"reply\"])\n",
    "prediction = model.predict(Y)\n",
    "print(prediction)"
   ]
  },
  {
   "cell_type": "code",
   "execution_count": 10,
   "metadata": {},
   "outputs": [
    {
     "name": "stdout",
     "output_type": "stream",
     "text": [
      "[0]\n"
     ]
    }
   ],
   "source": [
    "Y = vectorizer.transform([\"spam\"])\n",
    "prediction = model.predict(Y)\n",
    "print(prediction)"
   ]
  },
  {
   "cell_type": "code",
   "execution_count": 11,
   "metadata": {},
   "outputs": [
    {
     "name": "stdout",
     "output_type": "stream",
     "text": [
      "[0]\n"
     ]
    }
   ],
   "source": [
    "Y = vectorizer.transform([\"We tried to call you re your reply to our sms for a free nokia mobile\"])\n",
    "prediction = model.predict(Y)\n",
    "print(prediction)"
   ]
  },
  {
   "cell_type": "code",
   "execution_count": 12,
   "metadata": {},
   "outputs": [
    {
     "ename": "NameError",
     "evalue": "name 'vectorize' is not defined",
     "output_type": "error",
     "traceback": [
      "\u001b[1;31m---------------------------------------------------------------------------\u001b[0m",
      "\u001b[1;31mNameError\u001b[0m                                 Traceback (most recent call last)",
      "\u001b[1;32m<ipython-input-12-cbd65f68a765>\u001b[0m in \u001b[0;36m<module>\u001b[1;34m\u001b[0m\n\u001b[0;32m      1\u001b[0m \u001b[1;32mfor\u001b[0m \u001b[0mrec\u001b[0m \u001b[1;32min\u001b[0m \u001b[0mdocs\u001b[0m\u001b[1;33m:\u001b[0m\u001b[1;33m\u001b[0m\u001b[1;33m\u001b[0m\u001b[0m\n\u001b[1;32m----> 2\u001b[1;33m     \u001b[0mY\u001b[0m\u001b[1;33m=\u001b[0m\u001b[0mvectorize\u001b[0m\u001b[1;33m.\u001b[0m\u001b[0mtransform\u001b[0m\u001b[1;33m(\u001b[0m\u001b[0mrec\u001b[0m\u001b[1;33m)\u001b[0m\u001b[1;33m\u001b[0m\u001b[1;33m\u001b[0m\u001b[0m\n\u001b[0m\u001b[0;32m      3\u001b[0m     \u001b[0mprediction\u001b[0m \u001b[1;33m=\u001b[0m \u001b[0mmodel\u001b[0m\u001b[1;33m.\u001b[0m\u001b[0mpredict\u001b[0m\u001b[1;33m(\u001b[0m\u001b[0mY\u001b[0m\u001b[1;33m)\u001b[0m\u001b[1;33m\u001b[0m\u001b[1;33m\u001b[0m\u001b[0m\n\u001b[0;32m      4\u001b[0m \u001b[0mprint\u001b[0m\u001b[1;33m(\u001b[0m\u001b[0mprediction\u001b[0m\u001b[1;33m)\u001b[0m\u001b[1;33m\u001b[0m\u001b[1;33m\u001b[0m\u001b[0m\n",
      "\u001b[1;31mNameError\u001b[0m: name 'vectorize' is not defined"
     ]
    }
   ],
   "source": [
    "for rec in docs:\n",
    "    Y=vectorize.transform(rec)\n",
    "    prediction = model.predict(Y)\n",
    "print(prediction)    \n"
   ]
  },
  {
   "cell_type": "code",
   "execution_count": null,
   "metadata": {},
   "outputs": [],
   "source": []
  }
 ],
 "metadata": {
  "kernelspec": {
   "display_name": "Python 3",
   "language": "python",
   "name": "python3"
  },
  "language_info": {
   "codemirror_mode": {
    "name": "ipython",
    "version": 3
   },
   "file_extension": ".py",
   "mimetype": "text/x-python",
   "name": "python",
   "nbconvert_exporter": "python",
   "pygments_lexer": "ipython3",
   "version": "3.7.3"
  }
 },
 "nbformat": 4,
 "nbformat_minor": 2
}
