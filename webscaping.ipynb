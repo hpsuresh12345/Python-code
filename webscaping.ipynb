{
  "nbformat": 4,
  "nbformat_minor": 0,
  "metadata": {
    "colab": {
      "name": "webscaping.ipynb",
      "provenance": [],
      "collapsed_sections": [],
      "authorship_tag": "ABX9TyPPdlGKFUxBsCg82YF5CFgq",
      "include_colab_link": true
    },
    "kernelspec": {
      "name": "python3",
      "display_name": "Python 3"
    }
  },
  "cells": [
    {
      "cell_type": "markdown",
      "metadata": {
        "id": "view-in-github",
        "colab_type": "text"
      },
      "source": [
        "<a href=\"https://colab.research.google.com/github/hpsuresh12345/Python-code/blob/master/webscaping.ipynb\" target=\"_parent\"><img src=\"https://colab.research.google.com/assets/colab-badge.svg\" alt=\"Open In Colab\"/></a>"
      ]
    },
    {
      "cell_type": "code",
      "metadata": {
        "id": "c7hSEjSHgYqy",
        "colab_type": "code",
        "colab": {}
      },
      "source": [
        "#Packages\n",
        "#--Web scraping packages\n",
        "from bs4 import BeautifulSoup\n",
        "import requests\n",
        "\n",
        "#Pandas/numpy for data manipulation\n",
        "import pandas as pd\n",
        "import numpy as np"
      ],
      "execution_count": 0,
      "outputs": []
    },
    {
      "cell_type": "code",
      "metadata": {
        "id": "D9nIljaMghnx",
        "colab_type": "code",
        "colab": {}
      },
      "source": [
        "#load URLs we want to scrape into an array\n",
        "BASE_URL = [\n",
        "    'https://www.reuters.com/companies/GOOGL.OQ/people',\n",
        "    'https://www.reuters.com/companies/AMZN.OQ/people',\n",
        "    'https://www.reuters.com/companies/AAPL.OQ/people'\n",
        "]"
      ],
      "execution_count": 0,
      "outputs": []
    },
    {
      "cell_type": "code",
      "metadata": {
        "id": "ZIiHqHc4g-ho",
        "colab_type": "code",
        "colab": {
          "base_uri": "https://localhost:8080/",
          "height": 54
        },
        "outputId": "076fed74-81c1-4d20-c20b-f06e525058c7"
      },
      "source": [
        "#loading empty array for board members\n",
        "board_members = []\n",
        "#Loop through our URLs we loaded above\n",
        "for b in BASE_URL:\n",
        "    html = requests.get(b).text\n",
        "    soup = BeautifulSoup(html, \"html.parser\")\n",
        "    #identify table we want to scrape\n",
        "    officer_table = soup.find('table', {\"class\" : \"MarketsTable-officers-1Yb5u\"})\n",
        "    \n",
        "    #try clause to skip any companies with missing/empty board member tables\n",
        "   \n",
        "    try:\n",
        "        #loop through table, grab each of the 4 columns shown (try one of the links yourself to see the layout)\n",
        "        for row in officer_table.find_all('tr'):\n",
        "            cols = row.find_all('td')\n",
        "            if len(cols) == 4:\n",
        "               board_members.append((b, cols[0].text.strip(), cols[1].text.strip(), cols[2].text.strip(), cols[3].text.strip()))\n",
        "    except: pass  \n",
        "print(board_members)"
      ],
      "execution_count": 3,
      "outputs": [
        {
          "output_type": "stream",
          "text": [
            "[('https://www.reuters.com/companies/GOOGL.OQ/people', 'John L. HennessyIndependent Chairman of the Board', '66', 'Independent Chairman of the Board', '2018'), ('https://www.reuters.com/companies/GOOGL.OQ/people', 'Sundar PichaiChief Executive Officer, Director', '47', 'Chief Executive Officer, Director', '2019'), ('https://www.reuters.com/companies/GOOGL.OQ/people', 'Sergey BrinCo-Founder, Director', '46', 'Co-Founder, Director', '2019'), ('https://www.reuters.com/companies/GOOGL.OQ/people', 'Lawrence E. PageCo-Founder, Director', '46', 'Co-Founder, Director', '2019'), ('https://www.reuters.com/companies/GOOGL.OQ/people', 'Ruth M. PoratChief Financial Officer, Senior Vice President', '61', 'Chief Financial Officer, Senior Vice President', '2015'), ('https://www.reuters.com/companies/GOOGL.OQ/people', 'David C. DrummondSenior Vice President - Corporate Development, Chief Legal Officer, Secretary', '56', 'Senior Vice President - Corporate Development, Chief Legal Officer, Secretary', '2015'), ('https://www.reuters.com/companies/GOOGL.OQ/people', 'Frances ArnoldDirector', '62', 'Director', '2019'), ('https://www.reuters.com/companies/GOOGL.OQ/people', 'L. John DoerrIndependent Director', '67', 'Independent Director', '2016'), ('https://www.reuters.com/companies/GOOGL.OQ/people', 'Roger W. FergusonIndependent Director', '67', 'Independent Director', '2016'), ('https://www.reuters.com/companies/GOOGL.OQ/people', 'Ann MatherIndependent Director', '58', 'Independent Director', '2005'), ('https://www.reuters.com/companies/GOOGL.OQ/people', 'Alan R. MulallyIndependent Director', '73', 'Independent Director', '2014'), ('https://www.reuters.com/companies/GOOGL.OQ/people', 'Kavitark Ram ShriramIndependent Director', '62', 'Independent Director', '1998'), ('https://www.reuters.com/companies/GOOGL.OQ/people', 'Robin L. WashingtonIndependent Director', '56', 'Independent Director', '2019'), ('https://www.reuters.com/companies/AMZN.OQ/people', 'Jeffrey P. BezosChairman of the Board, President, Chief Executive Officer', '55', 'Chairman of the Board, President, Chief Executive Officer', '2000'), ('https://www.reuters.com/companies/AMZN.OQ/people', 'Brian T. OlsavskyChief Financial Officer, Senior Vice President', '55', 'Chief Financial Officer, Senior Vice President', '2015'), ('https://www.reuters.com/companies/AMZN.OQ/people', 'Andrew R. JassyChief Executive Officer of Amazon Web Services', '51', 'Chief Executive Officer of Amazon Web Services', '2016'), ('https://www.reuters.com/companies/AMZN.OQ/people', 'Jeffrey A. WilkeChief Executive Officer - Worldwide Consumer', '52', 'Chief Executive Officer - Worldwide Consumer', '2016'), ('https://www.reuters.com/companies/AMZN.OQ/people', 'David A. ZapolskySenior Vice President, General Counsel, Secretary', '55', 'Senior Vice President, General Counsel, Secretary', '2014'), ('https://www.reuters.com/companies/AMZN.OQ/people', 'Jeffrey M. BlackburnSenior Vice President - Business Development', '49', 'Senior Vice President - Business Development', '2006'), ('https://www.reuters.com/companies/AMZN.OQ/people', 'Shelley L. ReynoldsVice President, Worldwide Controller, Principal Accounting Officer', '54', 'Vice President, Worldwide Controller, Principal Accounting Officer', '2007'), ('https://www.reuters.com/companies/AMZN.OQ/people', 'Rosalind G. BrewerIndependent Director', '56', 'Independent Director', '2019'), ('https://www.reuters.com/companies/AMZN.OQ/people', 'Jamie S. GorelickIndependent Director', '68', 'Independent Director', '2012'), ('https://www.reuters.com/companies/AMZN.OQ/people', 'Daniel P. HuttenlocherIndependent Director', '60', 'Independent Director', '2016'), ('https://www.reuters.com/companies/AMZN.OQ/people', 'Judith A. McGrathIndependent Director', '66', 'Independent Director', '2014'), ('https://www.reuters.com/companies/AMZN.OQ/people', 'Indra K. NooyiIndependent Director', '63', 'Independent Director', '2019'), ('https://www.reuters.com/companies/AMZN.OQ/people', 'Jonathan J. RubinsteinIndependent Director', '62', 'Independent Director', '2010'), ('https://www.reuters.com/companies/AMZN.OQ/people', 'Thomas O. RyderIndependent Director', '74', 'Independent Director', '2011'), ('https://www.reuters.com/companies/AMZN.OQ/people', 'Patricia Q. StonesiferIndependent Director', '62', 'Independent Director', '2017'), ('https://www.reuters.com/companies/AMZN.OQ/people', 'Wendell P. WeeksIndependent Director', '59', 'Independent Director', '2016'), ('https://www.reuters.com/companies/AAPL.OQ/people', 'Arthur D. LevinsonIndependent Chairman of the Board', '68', 'Independent Chairman of the Board', '2011'), ('https://www.reuters.com/companies/AAPL.OQ/people', 'Timothy D. CookChief Executive Officer, Director', '58', 'Chief Executive Officer, Director', '2011'), ('https://www.reuters.com/companies/AAPL.OQ/people', 'Luca MaestriChief Financial Officer, Senior Vice President', '55', 'Chief Financial Officer, Senior Vice President', '2014'), ('https://www.reuters.com/companies/AAPL.OQ/people', 'Jeffrey E. WilliamsChief Operating Officer', '55', 'Chief Operating Officer', '2018'), ('https://www.reuters.com/companies/AAPL.OQ/people', 'Katherine L. AdamsSenior Vice President, General Counsel, Secretary', '53', 'Senior Vice President, General Counsel, Secretary', '2017'), ('https://www.reuters.com/companies/AAPL.OQ/people', 'Philip W. SchillerSenior Vice President - Worldwide Marketing', '58', 'Senior Vice President - Worldwide Marketing', '2002'), ('https://www.reuters.com/companies/AAPL.OQ/people', 'Eddy CueSenior Vice President - Internet Software and Services', '55', 'Senior Vice President - Internet Software and Services', '2011'), ('https://www.reuters.com/companies/AAPL.OQ/people', 'Craig FederighiSenior Vice President - Software Engineering', '48', 'Senior Vice President - Software Engineering', '2012'), ('https://www.reuters.com/companies/AAPL.OQ/people', 'John GiannandreaSenior Vice President - Machine Learning and AI Strategy', '--', 'Senior Vice President - Machine Learning and AI Strategy', '2018'), ('https://www.reuters.com/companies/AAPL.OQ/people', \"Deirdre O'BrienSenior Vice President - Retail + People\", '--', 'Senior Vice President - Retail + People', '2019'), ('https://www.reuters.com/companies/AAPL.OQ/people', 'Daniel J. RiccioSenior Vice President - Hardware Engineering', '55', 'Senior Vice President - Hardware Engineering', '2012'), ('https://www.reuters.com/companies/AAPL.OQ/people', 'Johny SroujiSenior Vice President - Hardware Technologies', '53', 'Senior Vice President - Hardware Technologies', '2015'), ('https://www.reuters.com/companies/AAPL.OQ/people', 'Jonathan P. IveChief Design Officer', '--', 'Chief Design Officer', '--'), ('https://www.reuters.com/companies/AAPL.OQ/people', 'James A. BellIndependent Director', '70', 'Independent Director', '2015'), ('https://www.reuters.com/companies/AAPL.OQ/people', 'Albert A. GoreIndependent Director', '70', 'Independent Director', '2003'), ('https://www.reuters.com/companies/AAPL.OQ/people', 'Andrea JungIndependent Director', '59', 'Independent Director', '2008'), ('https://www.reuters.com/companies/AAPL.OQ/people', 'Ronald D. SugarIndependent Director', '70', 'Independent Director', '2010'), ('https://www.reuters.com/companies/AAPL.OQ/people', 'Sue WagnerIndependent Director', '57', 'Independent Director', '2014')]\n"
          ],
          "name": "stdout"
        }
      ]
    },
    {
      "cell_type": "code",
      "metadata": {
        "id": "iqLbb30Ihjl4",
        "colab_type": "code",
        "colab": {
          "base_uri": "https://localhost:8080/",
          "height": 54
        },
        "outputId": "e6b43f8c-d955-496a-8a1c-e13f1a2f1bc3"
      },
      "source": [
        "officer_table"
      ],
      "execution_count": 4,
      "outputs": [
        {
          "output_type": "execute_result",
          "data": {
            "text/plain": [
              "<table class=\"table-container MarketsTable-officers-1Yb5u\"><thead><tr class=\"MarketsTable-header-2NLA1\"><th cellpadding=\"1\" cellspacing=\"1\" class=\"MarketsTable-officer_name-AAQuH\" scope=\"column\"><span class=\"TextLabel__text-label___3oCVw TextLabel__gray___1V4fk TextLabel__medium___t9PWg\">Name</span></th><th cellpadding=\"1\" cellspacing=\"1\" class=\"MarketsTable-officer_age-yjWsZ\" scope=\"column\"><span class=\"TextLabel__text-label___3oCVw TextLabel__gray___1V4fk TextLabel__medium___t9PWg\">Age</span></th><th cellpadding=\"1\" cellspacing=\"1\" class=\"MarketsTable-officer_title-1Vc6L\" scope=\"column\"><span class=\"TextLabel__text-label___3oCVw TextLabel__gray___1V4fk TextLabel__medium___t9PWg\">Position</span></th><th cellpadding=\"1\" cellspacing=\"1\" class=\"MarketsTable-officer_since-31qfq\" scope=\"column\"><span class=\"TextLabel__text-label___3oCVw TextLabel__gray___1V4fk TextLabel__medium___t9PWg\">Appointed</span></th></tr></thead><tbody><tr class=\"data\"><td cellpadding=\"1\" cellspacing=\"1\" class=\"MarketsTable-officer_name-AAQuH\"><span class=\"TextLabel__text-label___3oCVw TextLabel__black___2FN-Z TextLabel__regular___2X0ym MarketsTable-name-1U4vs\">Arthur D. Levinson</span><div class=\"TextLabel__text-label___3oCVw TextLabel__gray___1V4fk TextLabel__regular___2X0ym MarketsTable-subcell-l_NnB\">Independent Chairman of the Board</div></td><td cellpadding=\"1\" cellspacing=\"1\" class=\"MarketsTable-officer_age-yjWsZ\"><span class=\"TextLabel__text-label___3oCVw TextLabel__black___2FN-Z TextLabel__regular___2X0ym MarketsTable-name-1U4vs\">68</span></td><td cellpadding=\"1\" cellspacing=\"1\" class=\"MarketsTable-officer_title-1Vc6L\"><span class=\"TextLabel__text-label___3oCVw TextLabel__black___2FN-Z TextLabel__regular___2X0ym MarketsTable-name-1U4vs\">Independent Chairman of the Board</span></td><td cellpadding=\"1\" cellspacing=\"1\" class=\"MarketsTable-officer_since-31qfq\"><span class=\"TextLabel__text-label___3oCVw TextLabel__black___2FN-Z TextLabel__regular___2X0ym MarketsTable-name-1U4vs\">2011</span></td></tr><tr class=\"data\"><td cellpadding=\"1\" cellspacing=\"1\" class=\"MarketsTable-officer_name-AAQuH\"><span class=\"TextLabel__text-label___3oCVw TextLabel__black___2FN-Z TextLabel__regular___2X0ym MarketsTable-name-1U4vs\">Timothy D. Cook</span><div class=\"TextLabel__text-label___3oCVw TextLabel__gray___1V4fk TextLabel__regular___2X0ym MarketsTable-subcell-l_NnB\">Chief Executive Officer, Director</div></td><td cellpadding=\"1\" cellspacing=\"1\" class=\"MarketsTable-officer_age-yjWsZ\"><span class=\"TextLabel__text-label___3oCVw TextLabel__black___2FN-Z TextLabel__regular___2X0ym MarketsTable-name-1U4vs\">58</span></td><td cellpadding=\"1\" cellspacing=\"1\" class=\"MarketsTable-officer_title-1Vc6L\"><span class=\"TextLabel__text-label___3oCVw TextLabel__black___2FN-Z TextLabel__regular___2X0ym MarketsTable-name-1U4vs\">Chief Executive Officer, Director</span></td><td cellpadding=\"1\" cellspacing=\"1\" class=\"MarketsTable-officer_since-31qfq\"><span class=\"TextLabel__text-label___3oCVw TextLabel__black___2FN-Z TextLabel__regular___2X0ym MarketsTable-name-1U4vs\">2011</span></td></tr><tr class=\"data\"><td cellpadding=\"1\" cellspacing=\"1\" class=\"MarketsTable-officer_name-AAQuH\"><span class=\"TextLabel__text-label___3oCVw TextLabel__black___2FN-Z TextLabel__regular___2X0ym MarketsTable-name-1U4vs\">Luca Maestri</span><div class=\"TextLabel__text-label___3oCVw TextLabel__gray___1V4fk TextLabel__regular___2X0ym MarketsTable-subcell-l_NnB\">Chief Financial Officer, Senior Vice President</div></td><td cellpadding=\"1\" cellspacing=\"1\" class=\"MarketsTable-officer_age-yjWsZ\"><span class=\"TextLabel__text-label___3oCVw TextLabel__black___2FN-Z TextLabel__regular___2X0ym MarketsTable-name-1U4vs\">55</span></td><td cellpadding=\"1\" cellspacing=\"1\" class=\"MarketsTable-officer_title-1Vc6L\"><span class=\"TextLabel__text-label___3oCVw TextLabel__black___2FN-Z TextLabel__regular___2X0ym MarketsTable-name-1U4vs\">Chief Financial Officer, Senior Vice President</span></td><td cellpadding=\"1\" cellspacing=\"1\" class=\"MarketsTable-officer_since-31qfq\"><span class=\"TextLabel__text-label___3oCVw TextLabel__black___2FN-Z TextLabel__regular___2X0ym MarketsTable-name-1U4vs\">2014</span></td></tr><tr class=\"data\"><td cellpadding=\"1\" cellspacing=\"1\" class=\"MarketsTable-officer_name-AAQuH\"><span class=\"TextLabel__text-label___3oCVw TextLabel__black___2FN-Z TextLabel__regular___2X0ym MarketsTable-name-1U4vs\">Jeffrey E. Williams</span><div class=\"TextLabel__text-label___3oCVw TextLabel__gray___1V4fk TextLabel__regular___2X0ym MarketsTable-subcell-l_NnB\">Chief Operating Officer</div></td><td cellpadding=\"1\" cellspacing=\"1\" class=\"MarketsTable-officer_age-yjWsZ\"><span class=\"TextLabel__text-label___3oCVw TextLabel__black___2FN-Z TextLabel__regular___2X0ym MarketsTable-name-1U4vs\">55</span></td><td cellpadding=\"1\" cellspacing=\"1\" class=\"MarketsTable-officer_title-1Vc6L\"><span class=\"TextLabel__text-label___3oCVw TextLabel__black___2FN-Z TextLabel__regular___2X0ym MarketsTable-name-1U4vs\">Chief Operating Officer</span></td><td cellpadding=\"1\" cellspacing=\"1\" class=\"MarketsTable-officer_since-31qfq\"><span class=\"TextLabel__text-label___3oCVw TextLabel__black___2FN-Z TextLabel__regular___2X0ym MarketsTable-name-1U4vs\">2018</span></td></tr><tr class=\"data\"><td cellpadding=\"1\" cellspacing=\"1\" class=\"MarketsTable-officer_name-AAQuH\"><span class=\"TextLabel__text-label___3oCVw TextLabel__black___2FN-Z TextLabel__regular___2X0ym MarketsTable-name-1U4vs\">Katherine L. Adams</span><div class=\"TextLabel__text-label___3oCVw TextLabel__gray___1V4fk TextLabel__regular___2X0ym MarketsTable-subcell-l_NnB\">Senior Vice President, General Counsel, Secretary</div></td><td cellpadding=\"1\" cellspacing=\"1\" class=\"MarketsTable-officer_age-yjWsZ\"><span class=\"TextLabel__text-label___3oCVw TextLabel__black___2FN-Z TextLabel__regular___2X0ym MarketsTable-name-1U4vs\">53</span></td><td cellpadding=\"1\" cellspacing=\"1\" class=\"MarketsTable-officer_title-1Vc6L\"><span class=\"TextLabel__text-label___3oCVw TextLabel__black___2FN-Z TextLabel__regular___2X0ym MarketsTable-name-1U4vs\">Senior Vice President, General Counsel, Secretary</span></td><td cellpadding=\"1\" cellspacing=\"1\" class=\"MarketsTable-officer_since-31qfq\"><span class=\"TextLabel__text-label___3oCVw TextLabel__black___2FN-Z TextLabel__regular___2X0ym MarketsTable-name-1U4vs\">2017</span></td></tr><tr class=\"data\"><td cellpadding=\"1\" cellspacing=\"1\" class=\"MarketsTable-officer_name-AAQuH\"><span class=\"TextLabel__text-label___3oCVw TextLabel__black___2FN-Z TextLabel__regular___2X0ym MarketsTable-name-1U4vs\">Philip W. Schiller</span><div class=\"TextLabel__text-label___3oCVw TextLabel__gray___1V4fk TextLabel__regular___2X0ym MarketsTable-subcell-l_NnB\">Senior Vice President - Worldwide Marketing</div></td><td cellpadding=\"1\" cellspacing=\"1\" class=\"MarketsTable-officer_age-yjWsZ\"><span class=\"TextLabel__text-label___3oCVw TextLabel__black___2FN-Z TextLabel__regular___2X0ym MarketsTable-name-1U4vs\">58</span></td><td cellpadding=\"1\" cellspacing=\"1\" class=\"MarketsTable-officer_title-1Vc6L\"><span class=\"TextLabel__text-label___3oCVw TextLabel__black___2FN-Z TextLabel__regular___2X0ym MarketsTable-name-1U4vs\">Senior Vice President - Worldwide Marketing</span></td><td cellpadding=\"1\" cellspacing=\"1\" class=\"MarketsTable-officer_since-31qfq\"><span class=\"TextLabel__text-label___3oCVw TextLabel__black___2FN-Z TextLabel__regular___2X0ym MarketsTable-name-1U4vs\">2002</span></td></tr><tr class=\"data\"><td cellpadding=\"1\" cellspacing=\"1\" class=\"MarketsTable-officer_name-AAQuH\"><span class=\"TextLabel__text-label___3oCVw TextLabel__black___2FN-Z TextLabel__regular___2X0ym MarketsTable-name-1U4vs\">Eddy Cue</span><div class=\"TextLabel__text-label___3oCVw TextLabel__gray___1V4fk TextLabel__regular___2X0ym MarketsTable-subcell-l_NnB\">Senior Vice President - Internet Software and Services</div></td><td cellpadding=\"1\" cellspacing=\"1\" class=\"MarketsTable-officer_age-yjWsZ\"><span class=\"TextLabel__text-label___3oCVw TextLabel__black___2FN-Z TextLabel__regular___2X0ym MarketsTable-name-1U4vs\">55</span></td><td cellpadding=\"1\" cellspacing=\"1\" class=\"MarketsTable-officer_title-1Vc6L\"><span class=\"TextLabel__text-label___3oCVw TextLabel__black___2FN-Z TextLabel__regular___2X0ym MarketsTable-name-1U4vs\">Senior Vice President - Internet Software and Services</span></td><td cellpadding=\"1\" cellspacing=\"1\" class=\"MarketsTable-officer_since-31qfq\"><span class=\"TextLabel__text-label___3oCVw TextLabel__black___2FN-Z TextLabel__regular___2X0ym MarketsTable-name-1U4vs\">2011</span></td></tr><tr class=\"data\"><td cellpadding=\"1\" cellspacing=\"1\" class=\"MarketsTable-officer_name-AAQuH\"><span class=\"TextLabel__text-label___3oCVw TextLabel__black___2FN-Z TextLabel__regular___2X0ym MarketsTable-name-1U4vs\">Craig Federighi</span><div class=\"TextLabel__text-label___3oCVw TextLabel__gray___1V4fk TextLabel__regular___2X0ym MarketsTable-subcell-l_NnB\">Senior Vice President - Software Engineering</div></td><td cellpadding=\"1\" cellspacing=\"1\" class=\"MarketsTable-officer_age-yjWsZ\"><span class=\"TextLabel__text-label___3oCVw TextLabel__black___2FN-Z TextLabel__regular___2X0ym MarketsTable-name-1U4vs\">48</span></td><td cellpadding=\"1\" cellspacing=\"1\" class=\"MarketsTable-officer_title-1Vc6L\"><span class=\"TextLabel__text-label___3oCVw TextLabel__black___2FN-Z TextLabel__regular___2X0ym MarketsTable-name-1U4vs\">Senior Vice President - Software Engineering</span></td><td cellpadding=\"1\" cellspacing=\"1\" class=\"MarketsTable-officer_since-31qfq\"><span class=\"TextLabel__text-label___3oCVw TextLabel__black___2FN-Z TextLabel__regular___2X0ym MarketsTable-name-1U4vs\">2012</span></td></tr><tr class=\"data\"><td cellpadding=\"1\" cellspacing=\"1\" class=\"MarketsTable-officer_name-AAQuH\"><span class=\"TextLabel__text-label___3oCVw TextLabel__black___2FN-Z TextLabel__regular___2X0ym MarketsTable-name-1U4vs\">John Giannandrea</span><div class=\"TextLabel__text-label___3oCVw TextLabel__gray___1V4fk TextLabel__regular___2X0ym MarketsTable-subcell-l_NnB\">Senior Vice President - Machine Learning and AI Strategy</div></td><td cellpadding=\"1\" cellspacing=\"1\" class=\"MarketsTable-officer_age-yjWsZ\"><span class=\"TextLabel__text-label___3oCVw TextLabel__black___2FN-Z TextLabel__regular___2X0ym MarketsTable-name-1U4vs\">--</span></td><td cellpadding=\"1\" cellspacing=\"1\" class=\"MarketsTable-officer_title-1Vc6L\"><span class=\"TextLabel__text-label___3oCVw TextLabel__black___2FN-Z TextLabel__regular___2X0ym MarketsTable-name-1U4vs\">Senior Vice President - Machine Learning and AI Strategy</span></td><td cellpadding=\"1\" cellspacing=\"1\" class=\"MarketsTable-officer_since-31qfq\"><span class=\"TextLabel__text-label___3oCVw TextLabel__black___2FN-Z TextLabel__regular___2X0ym MarketsTable-name-1U4vs\">2018</span></td></tr><tr class=\"data\"><td cellpadding=\"1\" cellspacing=\"1\" class=\"MarketsTable-officer_name-AAQuH\"><span class=\"TextLabel__text-label___3oCVw TextLabel__black___2FN-Z TextLabel__regular___2X0ym MarketsTable-name-1U4vs\">Deirdre O'Brien</span><div class=\"TextLabel__text-label___3oCVw TextLabel__gray___1V4fk TextLabel__regular___2X0ym MarketsTable-subcell-l_NnB\">Senior Vice President - Retail + People</div></td><td cellpadding=\"1\" cellspacing=\"1\" class=\"MarketsTable-officer_age-yjWsZ\"><span class=\"TextLabel__text-label___3oCVw TextLabel__black___2FN-Z TextLabel__regular___2X0ym MarketsTable-name-1U4vs\">--</span></td><td cellpadding=\"1\" cellspacing=\"1\" class=\"MarketsTable-officer_title-1Vc6L\"><span class=\"TextLabel__text-label___3oCVw TextLabel__black___2FN-Z TextLabel__regular___2X0ym MarketsTable-name-1U4vs\">Senior Vice President - Retail + People</span></td><td cellpadding=\"1\" cellspacing=\"1\" class=\"MarketsTable-officer_since-31qfq\"><span class=\"TextLabel__text-label___3oCVw TextLabel__black___2FN-Z TextLabel__regular___2X0ym MarketsTable-name-1U4vs\">2019</span></td></tr><tr class=\"data\"><td cellpadding=\"1\" cellspacing=\"1\" class=\"MarketsTable-officer_name-AAQuH\"><span class=\"TextLabel__text-label___3oCVw TextLabel__black___2FN-Z TextLabel__regular___2X0ym MarketsTable-name-1U4vs\">Daniel J. Riccio</span><div class=\"TextLabel__text-label___3oCVw TextLabel__gray___1V4fk TextLabel__regular___2X0ym MarketsTable-subcell-l_NnB\">Senior Vice President - Hardware Engineering</div></td><td cellpadding=\"1\" cellspacing=\"1\" class=\"MarketsTable-officer_age-yjWsZ\"><span class=\"TextLabel__text-label___3oCVw TextLabel__black___2FN-Z TextLabel__regular___2X0ym MarketsTable-name-1U4vs\">55</span></td><td cellpadding=\"1\" cellspacing=\"1\" class=\"MarketsTable-officer_title-1Vc6L\"><span class=\"TextLabel__text-label___3oCVw TextLabel__black___2FN-Z TextLabel__regular___2X0ym MarketsTable-name-1U4vs\">Senior Vice President - Hardware Engineering</span></td><td cellpadding=\"1\" cellspacing=\"1\" class=\"MarketsTable-officer_since-31qfq\"><span class=\"TextLabel__text-label___3oCVw TextLabel__black___2FN-Z TextLabel__regular___2X0ym MarketsTable-name-1U4vs\">2012</span></td></tr><tr class=\"data\"><td cellpadding=\"1\" cellspacing=\"1\" class=\"MarketsTable-officer_name-AAQuH\"><span class=\"TextLabel__text-label___3oCVw TextLabel__black___2FN-Z TextLabel__regular___2X0ym MarketsTable-name-1U4vs\">Johny Srouji</span><div class=\"TextLabel__text-label___3oCVw TextLabel__gray___1V4fk TextLabel__regular___2X0ym MarketsTable-subcell-l_NnB\">Senior Vice President - Hardware Technologies</div></td><td cellpadding=\"1\" cellspacing=\"1\" class=\"MarketsTable-officer_age-yjWsZ\"><span class=\"TextLabel__text-label___3oCVw TextLabel__black___2FN-Z TextLabel__regular___2X0ym MarketsTable-name-1U4vs\">53</span></td><td cellpadding=\"1\" cellspacing=\"1\" class=\"MarketsTable-officer_title-1Vc6L\"><span class=\"TextLabel__text-label___3oCVw TextLabel__black___2FN-Z TextLabel__regular___2X0ym MarketsTable-name-1U4vs\">Senior Vice President - Hardware Technologies</span></td><td cellpadding=\"1\" cellspacing=\"1\" class=\"MarketsTable-officer_since-31qfq\"><span class=\"TextLabel__text-label___3oCVw TextLabel__black___2FN-Z TextLabel__regular___2X0ym MarketsTable-name-1U4vs\">2015</span></td></tr><tr class=\"data\"><td cellpadding=\"1\" cellspacing=\"1\" class=\"MarketsTable-officer_name-AAQuH\"><span class=\"TextLabel__text-label___3oCVw TextLabel__black___2FN-Z TextLabel__regular___2X0ym MarketsTable-name-1U4vs\">Jonathan P. Ive</span><div class=\"TextLabel__text-label___3oCVw TextLabel__gray___1V4fk TextLabel__regular___2X0ym MarketsTable-subcell-l_NnB\">Chief Design Officer</div></td><td cellpadding=\"1\" cellspacing=\"1\" class=\"MarketsTable-officer_age-yjWsZ\"><span class=\"TextLabel__text-label___3oCVw TextLabel__black___2FN-Z TextLabel__regular___2X0ym MarketsTable-name-1U4vs\">--</span></td><td cellpadding=\"1\" cellspacing=\"1\" class=\"MarketsTable-officer_title-1Vc6L\"><span class=\"TextLabel__text-label___3oCVw TextLabel__black___2FN-Z TextLabel__regular___2X0ym MarketsTable-name-1U4vs\">Chief Design Officer</span></td><td cellpadding=\"1\" cellspacing=\"1\" class=\"MarketsTable-officer_since-31qfq\"><span class=\"TextLabel__text-label___3oCVw TextLabel__black___2FN-Z TextLabel__regular___2X0ym MarketsTable-name-1U4vs\">--</span></td></tr><tr class=\"data\"><td cellpadding=\"1\" cellspacing=\"1\" class=\"MarketsTable-officer_name-AAQuH\"><span class=\"TextLabel__text-label___3oCVw TextLabel__black___2FN-Z TextLabel__regular___2X0ym MarketsTable-name-1U4vs\">James A. Bell</span><div class=\"TextLabel__text-label___3oCVw TextLabel__gray___1V4fk TextLabel__regular___2X0ym MarketsTable-subcell-l_NnB\">Independent Director</div></td><td cellpadding=\"1\" cellspacing=\"1\" class=\"MarketsTable-officer_age-yjWsZ\"><span class=\"TextLabel__text-label___3oCVw TextLabel__black___2FN-Z TextLabel__regular___2X0ym MarketsTable-name-1U4vs\">70</span></td><td cellpadding=\"1\" cellspacing=\"1\" class=\"MarketsTable-officer_title-1Vc6L\"><span class=\"TextLabel__text-label___3oCVw TextLabel__black___2FN-Z TextLabel__regular___2X0ym MarketsTable-name-1U4vs\">Independent Director</span></td><td cellpadding=\"1\" cellspacing=\"1\" class=\"MarketsTable-officer_since-31qfq\"><span class=\"TextLabel__text-label___3oCVw TextLabel__black___2FN-Z TextLabel__regular___2X0ym MarketsTable-name-1U4vs\">2015</span></td></tr><tr class=\"data\"><td cellpadding=\"1\" cellspacing=\"1\" class=\"MarketsTable-officer_name-AAQuH\"><span class=\"TextLabel__text-label___3oCVw TextLabel__black___2FN-Z TextLabel__regular___2X0ym MarketsTable-name-1U4vs\">Albert A. Gore</span><div class=\"TextLabel__text-label___3oCVw TextLabel__gray___1V4fk TextLabel__regular___2X0ym MarketsTable-subcell-l_NnB\">Independent Director</div></td><td cellpadding=\"1\" cellspacing=\"1\" class=\"MarketsTable-officer_age-yjWsZ\"><span class=\"TextLabel__text-label___3oCVw TextLabel__black___2FN-Z TextLabel__regular___2X0ym MarketsTable-name-1U4vs\">70</span></td><td cellpadding=\"1\" cellspacing=\"1\" class=\"MarketsTable-officer_title-1Vc6L\"><span class=\"TextLabel__text-label___3oCVw TextLabel__black___2FN-Z TextLabel__regular___2X0ym MarketsTable-name-1U4vs\">Independent Director</span></td><td cellpadding=\"1\" cellspacing=\"1\" class=\"MarketsTable-officer_since-31qfq\"><span class=\"TextLabel__text-label___3oCVw TextLabel__black___2FN-Z TextLabel__regular___2X0ym MarketsTable-name-1U4vs\">2003</span></td></tr><tr class=\"data\"><td cellpadding=\"1\" cellspacing=\"1\" class=\"MarketsTable-officer_name-AAQuH\"><span class=\"TextLabel__text-label___3oCVw TextLabel__black___2FN-Z TextLabel__regular___2X0ym MarketsTable-name-1U4vs\">Andrea Jung</span><div class=\"TextLabel__text-label___3oCVw TextLabel__gray___1V4fk TextLabel__regular___2X0ym MarketsTable-subcell-l_NnB\">Independent Director</div></td><td cellpadding=\"1\" cellspacing=\"1\" class=\"MarketsTable-officer_age-yjWsZ\"><span class=\"TextLabel__text-label___3oCVw TextLabel__black___2FN-Z TextLabel__regular___2X0ym MarketsTable-name-1U4vs\">59</span></td><td cellpadding=\"1\" cellspacing=\"1\" class=\"MarketsTable-officer_title-1Vc6L\"><span class=\"TextLabel__text-label___3oCVw TextLabel__black___2FN-Z TextLabel__regular___2X0ym MarketsTable-name-1U4vs\">Independent Director</span></td><td cellpadding=\"1\" cellspacing=\"1\" class=\"MarketsTable-officer_since-31qfq\"><span class=\"TextLabel__text-label___3oCVw TextLabel__black___2FN-Z TextLabel__regular___2X0ym MarketsTable-name-1U4vs\">2008</span></td></tr><tr class=\"data\"><td cellpadding=\"1\" cellspacing=\"1\" class=\"MarketsTable-officer_name-AAQuH\"><span class=\"TextLabel__text-label___3oCVw TextLabel__black___2FN-Z TextLabel__regular___2X0ym MarketsTable-name-1U4vs\">Ronald D. Sugar</span><div class=\"TextLabel__text-label___3oCVw TextLabel__gray___1V4fk TextLabel__regular___2X0ym MarketsTable-subcell-l_NnB\">Independent Director</div></td><td cellpadding=\"1\" cellspacing=\"1\" class=\"MarketsTable-officer_age-yjWsZ\"><span class=\"TextLabel__text-label___3oCVw TextLabel__black___2FN-Z TextLabel__regular___2X0ym MarketsTable-name-1U4vs\">70</span></td><td cellpadding=\"1\" cellspacing=\"1\" class=\"MarketsTable-officer_title-1Vc6L\"><span class=\"TextLabel__text-label___3oCVw TextLabel__black___2FN-Z TextLabel__regular___2X0ym MarketsTable-name-1U4vs\">Independent Director</span></td><td cellpadding=\"1\" cellspacing=\"1\" class=\"MarketsTable-officer_since-31qfq\"><span class=\"TextLabel__text-label___3oCVw TextLabel__black___2FN-Z TextLabel__regular___2X0ym MarketsTable-name-1U4vs\">2010</span></td></tr><tr class=\"data\"><td cellpadding=\"1\" cellspacing=\"1\" class=\"MarketsTable-officer_name-AAQuH\"><span class=\"TextLabel__text-label___3oCVw TextLabel__black___2FN-Z TextLabel__regular___2X0ym MarketsTable-name-1U4vs\">Sue Wagner</span><div class=\"TextLabel__text-label___3oCVw TextLabel__gray___1V4fk TextLabel__regular___2X0ym MarketsTable-subcell-l_NnB\">Independent Director</div></td><td cellpadding=\"1\" cellspacing=\"1\" class=\"MarketsTable-officer_age-yjWsZ\"><span class=\"TextLabel__text-label___3oCVw TextLabel__black___2FN-Z TextLabel__regular___2X0ym MarketsTable-name-1U4vs\">57</span></td><td cellpadding=\"1\" cellspacing=\"1\" class=\"MarketsTable-officer_title-1Vc6L\"><span class=\"TextLabel__text-label___3oCVw TextLabel__black___2FN-Z TextLabel__regular___2X0ym MarketsTable-name-1U4vs\">Independent Director</span></td><td cellpadding=\"1\" cellspacing=\"1\" class=\"MarketsTable-officer_since-31qfq\"><span class=\"TextLabel__text-label___3oCVw TextLabel__black___2FN-Z TextLabel__regular___2X0ym MarketsTable-name-1U4vs\">2014</span></td></tr></tbody></table>"
            ]
          },
          "metadata": {
            "tags": []
          },
          "execution_count": 4
        }
      ]
    },
    {
      "cell_type": "code",
      "metadata": {
        "id": "44Q7KFbLhneC",
        "colab_type": "code",
        "colab": {
          "base_uri": "https://localhost:8080/",
          "height": 34
        },
        "outputId": "5a05e0a9-4f1a-4f51-b9d2-8511a41a60a1"
      },
      "source": [
        "#convert output to new array, check length\n",
        "board_array = np.asarray(board_members)\n",
        "len(board_array)"
      ],
      "execution_count": 5,
      "outputs": [
        {
          "output_type": "execute_result",
          "data": {
            "text/plain": [
              "47"
            ]
          },
          "metadata": {
            "tags": []
          },
          "execution_count": 5
        }
      ]
    },
    {
      "cell_type": "code",
      "metadata": {
        "id": "Gj03R6zOhrIE",
        "colab_type": "code",
        "colab": {}
      },
      "source": [
        "#convert new array to dataframe\n",
        "df = pd.DataFrame(board_array)"
      ],
      "execution_count": 0,
      "outputs": []
    },
    {
      "cell_type": "code",
      "metadata": {
        "id": "jfDo0qIrhtYe",
        "colab_type": "code",
        "colab": {
          "base_uri": "https://localhost:8080/",
          "height": 204
        },
        "outputId": "190b50b1-3e5b-4db2-aacf-f1c49d135692"
      },
      "source": [
        "df.head()"
      ],
      "execution_count": 7,
      "outputs": [
        {
          "output_type": "execute_result",
          "data": {
            "text/html": [
              "<div>\n",
              "<style scoped>\n",
              "    .dataframe tbody tr th:only-of-type {\n",
              "        vertical-align: middle;\n",
              "    }\n",
              "\n",
              "    .dataframe tbody tr th {\n",
              "        vertical-align: top;\n",
              "    }\n",
              "\n",
              "    .dataframe thead th {\n",
              "        text-align: right;\n",
              "    }\n",
              "</style>\n",
              "<table border=\"1\" class=\"dataframe\">\n",
              "  <thead>\n",
              "    <tr style=\"text-align: right;\">\n",
              "      <th></th>\n",
              "      <th>0</th>\n",
              "      <th>1</th>\n",
              "      <th>2</th>\n",
              "      <th>3</th>\n",
              "      <th>4</th>\n",
              "    </tr>\n",
              "  </thead>\n",
              "  <tbody>\n",
              "    <tr>\n",
              "      <th>0</th>\n",
              "      <td>https://www.reuters.com/companies/GOOGL.OQ/people</td>\n",
              "      <td>John L. HennessyIndependent Chairman of the Board</td>\n",
              "      <td>66</td>\n",
              "      <td>Independent Chairman of the Board</td>\n",
              "      <td>2018</td>\n",
              "    </tr>\n",
              "    <tr>\n",
              "      <th>1</th>\n",
              "      <td>https://www.reuters.com/companies/GOOGL.OQ/people</td>\n",
              "      <td>Sundar PichaiChief Executive Officer, Director</td>\n",
              "      <td>47</td>\n",
              "      <td>Chief Executive Officer, Director</td>\n",
              "      <td>2019</td>\n",
              "    </tr>\n",
              "    <tr>\n",
              "      <th>2</th>\n",
              "      <td>https://www.reuters.com/companies/GOOGL.OQ/people</td>\n",
              "      <td>Sergey BrinCo-Founder, Director</td>\n",
              "      <td>46</td>\n",
              "      <td>Co-Founder, Director</td>\n",
              "      <td>2019</td>\n",
              "    </tr>\n",
              "    <tr>\n",
              "      <th>3</th>\n",
              "      <td>https://www.reuters.com/companies/GOOGL.OQ/people</td>\n",
              "      <td>Lawrence E. PageCo-Founder, Director</td>\n",
              "      <td>46</td>\n",
              "      <td>Co-Founder, Director</td>\n",
              "      <td>2019</td>\n",
              "    </tr>\n",
              "    <tr>\n",
              "      <th>4</th>\n",
              "      <td>https://www.reuters.com/companies/GOOGL.OQ/people</td>\n",
              "      <td>Ruth M. PoratChief Financial Officer, Senior V...</td>\n",
              "      <td>61</td>\n",
              "      <td>Chief Financial Officer, Senior Vice President</td>\n",
              "      <td>2015</td>\n",
              "    </tr>\n",
              "  </tbody>\n",
              "</table>\n",
              "</div>"
            ],
            "text/plain": [
              "                                                   0  ...     4\n",
              "0  https://www.reuters.com/companies/GOOGL.OQ/people  ...  2018\n",
              "1  https://www.reuters.com/companies/GOOGL.OQ/people  ...  2019\n",
              "2  https://www.reuters.com/companies/GOOGL.OQ/people  ...  2019\n",
              "3  https://www.reuters.com/companies/GOOGL.OQ/people  ...  2019\n",
              "4  https://www.reuters.com/companies/GOOGL.OQ/people  ...  2015\n",
              "\n",
              "[5 rows x 5 columns]"
            ]
          },
          "metadata": {
            "tags": []
          },
          "execution_count": 7
        }
      ]
    },
    {
      "cell_type": "code",
      "metadata": {
        "id": "DEdXht2XhvbY",
        "colab_type": "code",
        "colab": {
          "base_uri": "https://localhost:8080/",
          "height": 979
        },
        "outputId": "919a0de8-5cf2-420b-fe52-d62273e5bbaa"
      },
      "source": [
        "#rename columns, check output\n",
        "df.columns = ['URL', 'Name', 'Age','Year_Joined', 'Title']\n",
        "df.head(30)\n"
      ],
      "execution_count": 9,
      "outputs": [
        {
          "output_type": "execute_result",
          "data": {
            "text/html": [
              "<div>\n",
              "<style scoped>\n",
              "    .dataframe tbody tr th:only-of-type {\n",
              "        vertical-align: middle;\n",
              "    }\n",
              "\n",
              "    .dataframe tbody tr th {\n",
              "        vertical-align: top;\n",
              "    }\n",
              "\n",
              "    .dataframe thead th {\n",
              "        text-align: right;\n",
              "    }\n",
              "</style>\n",
              "<table border=\"1\" class=\"dataframe\">\n",
              "  <thead>\n",
              "    <tr style=\"text-align: right;\">\n",
              "      <th></th>\n",
              "      <th>URL</th>\n",
              "      <th>Name</th>\n",
              "      <th>Age</th>\n",
              "      <th>Year_Joined</th>\n",
              "      <th>Title</th>\n",
              "    </tr>\n",
              "  </thead>\n",
              "  <tbody>\n",
              "    <tr>\n",
              "      <th>0</th>\n",
              "      <td>https://www.reuters.com/companies/GOOGL.OQ/people</td>\n",
              "      <td>John L. HennessyIndependent Chairman of the Board</td>\n",
              "      <td>66</td>\n",
              "      <td>Independent Chairman of the Board</td>\n",
              "      <td>2018</td>\n",
              "    </tr>\n",
              "    <tr>\n",
              "      <th>1</th>\n",
              "      <td>https://www.reuters.com/companies/GOOGL.OQ/people</td>\n",
              "      <td>Sundar PichaiChief Executive Officer, Director</td>\n",
              "      <td>47</td>\n",
              "      <td>Chief Executive Officer, Director</td>\n",
              "      <td>2019</td>\n",
              "    </tr>\n",
              "    <tr>\n",
              "      <th>2</th>\n",
              "      <td>https://www.reuters.com/companies/GOOGL.OQ/people</td>\n",
              "      <td>Sergey BrinCo-Founder, Director</td>\n",
              "      <td>46</td>\n",
              "      <td>Co-Founder, Director</td>\n",
              "      <td>2019</td>\n",
              "    </tr>\n",
              "    <tr>\n",
              "      <th>3</th>\n",
              "      <td>https://www.reuters.com/companies/GOOGL.OQ/people</td>\n",
              "      <td>Lawrence E. PageCo-Founder, Director</td>\n",
              "      <td>46</td>\n",
              "      <td>Co-Founder, Director</td>\n",
              "      <td>2019</td>\n",
              "    </tr>\n",
              "    <tr>\n",
              "      <th>4</th>\n",
              "      <td>https://www.reuters.com/companies/GOOGL.OQ/people</td>\n",
              "      <td>Ruth M. PoratChief Financial Officer, Senior V...</td>\n",
              "      <td>61</td>\n",
              "      <td>Chief Financial Officer, Senior Vice President</td>\n",
              "      <td>2015</td>\n",
              "    </tr>\n",
              "    <tr>\n",
              "      <th>5</th>\n",
              "      <td>https://www.reuters.com/companies/GOOGL.OQ/people</td>\n",
              "      <td>David C. DrummondSenior Vice President - Corpo...</td>\n",
              "      <td>56</td>\n",
              "      <td>Senior Vice President - Corporate Development,...</td>\n",
              "      <td>2015</td>\n",
              "    </tr>\n",
              "    <tr>\n",
              "      <th>6</th>\n",
              "      <td>https://www.reuters.com/companies/GOOGL.OQ/people</td>\n",
              "      <td>Frances ArnoldDirector</td>\n",
              "      <td>62</td>\n",
              "      <td>Director</td>\n",
              "      <td>2019</td>\n",
              "    </tr>\n",
              "    <tr>\n",
              "      <th>7</th>\n",
              "      <td>https://www.reuters.com/companies/GOOGL.OQ/people</td>\n",
              "      <td>L. John DoerrIndependent Director</td>\n",
              "      <td>67</td>\n",
              "      <td>Independent Director</td>\n",
              "      <td>2016</td>\n",
              "    </tr>\n",
              "    <tr>\n",
              "      <th>8</th>\n",
              "      <td>https://www.reuters.com/companies/GOOGL.OQ/people</td>\n",
              "      <td>Roger W. FergusonIndependent Director</td>\n",
              "      <td>67</td>\n",
              "      <td>Independent Director</td>\n",
              "      <td>2016</td>\n",
              "    </tr>\n",
              "    <tr>\n",
              "      <th>9</th>\n",
              "      <td>https://www.reuters.com/companies/GOOGL.OQ/people</td>\n",
              "      <td>Ann MatherIndependent Director</td>\n",
              "      <td>58</td>\n",
              "      <td>Independent Director</td>\n",
              "      <td>2005</td>\n",
              "    </tr>\n",
              "    <tr>\n",
              "      <th>10</th>\n",
              "      <td>https://www.reuters.com/companies/GOOGL.OQ/people</td>\n",
              "      <td>Alan R. MulallyIndependent Director</td>\n",
              "      <td>73</td>\n",
              "      <td>Independent Director</td>\n",
              "      <td>2014</td>\n",
              "    </tr>\n",
              "    <tr>\n",
              "      <th>11</th>\n",
              "      <td>https://www.reuters.com/companies/GOOGL.OQ/people</td>\n",
              "      <td>Kavitark Ram ShriramIndependent Director</td>\n",
              "      <td>62</td>\n",
              "      <td>Independent Director</td>\n",
              "      <td>1998</td>\n",
              "    </tr>\n",
              "    <tr>\n",
              "      <th>12</th>\n",
              "      <td>https://www.reuters.com/companies/GOOGL.OQ/people</td>\n",
              "      <td>Robin L. WashingtonIndependent Director</td>\n",
              "      <td>56</td>\n",
              "      <td>Independent Director</td>\n",
              "      <td>2019</td>\n",
              "    </tr>\n",
              "    <tr>\n",
              "      <th>13</th>\n",
              "      <td>https://www.reuters.com/companies/AMZN.OQ/people</td>\n",
              "      <td>Jeffrey P. BezosChairman of the Board, Preside...</td>\n",
              "      <td>55</td>\n",
              "      <td>Chairman of the Board, President, Chief Execut...</td>\n",
              "      <td>2000</td>\n",
              "    </tr>\n",
              "    <tr>\n",
              "      <th>14</th>\n",
              "      <td>https://www.reuters.com/companies/AMZN.OQ/people</td>\n",
              "      <td>Brian T. OlsavskyChief Financial Officer, Seni...</td>\n",
              "      <td>55</td>\n",
              "      <td>Chief Financial Officer, Senior Vice President</td>\n",
              "      <td>2015</td>\n",
              "    </tr>\n",
              "    <tr>\n",
              "      <th>15</th>\n",
              "      <td>https://www.reuters.com/companies/AMZN.OQ/people</td>\n",
              "      <td>Andrew R. JassyChief Executive Officer of Amaz...</td>\n",
              "      <td>51</td>\n",
              "      <td>Chief Executive Officer of Amazon Web Services</td>\n",
              "      <td>2016</td>\n",
              "    </tr>\n",
              "    <tr>\n",
              "      <th>16</th>\n",
              "      <td>https://www.reuters.com/companies/AMZN.OQ/people</td>\n",
              "      <td>Jeffrey A. WilkeChief Executive Officer - Worl...</td>\n",
              "      <td>52</td>\n",
              "      <td>Chief Executive Officer - Worldwide Consumer</td>\n",
              "      <td>2016</td>\n",
              "    </tr>\n",
              "    <tr>\n",
              "      <th>17</th>\n",
              "      <td>https://www.reuters.com/companies/AMZN.OQ/people</td>\n",
              "      <td>David A. ZapolskySenior Vice President, Genera...</td>\n",
              "      <td>55</td>\n",
              "      <td>Senior Vice President, General Counsel, Secretary</td>\n",
              "      <td>2014</td>\n",
              "    </tr>\n",
              "    <tr>\n",
              "      <th>18</th>\n",
              "      <td>https://www.reuters.com/companies/AMZN.OQ/people</td>\n",
              "      <td>Jeffrey M. BlackburnSenior Vice President - Bu...</td>\n",
              "      <td>49</td>\n",
              "      <td>Senior Vice President - Business Development</td>\n",
              "      <td>2006</td>\n",
              "    </tr>\n",
              "    <tr>\n",
              "      <th>19</th>\n",
              "      <td>https://www.reuters.com/companies/AMZN.OQ/people</td>\n",
              "      <td>Shelley L. ReynoldsVice President, Worldwide C...</td>\n",
              "      <td>54</td>\n",
              "      <td>Vice President, Worldwide Controller, Principa...</td>\n",
              "      <td>2007</td>\n",
              "    </tr>\n",
              "    <tr>\n",
              "      <th>20</th>\n",
              "      <td>https://www.reuters.com/companies/AMZN.OQ/people</td>\n",
              "      <td>Rosalind G. BrewerIndependent Director</td>\n",
              "      <td>56</td>\n",
              "      <td>Independent Director</td>\n",
              "      <td>2019</td>\n",
              "    </tr>\n",
              "    <tr>\n",
              "      <th>21</th>\n",
              "      <td>https://www.reuters.com/companies/AMZN.OQ/people</td>\n",
              "      <td>Jamie S. GorelickIndependent Director</td>\n",
              "      <td>68</td>\n",
              "      <td>Independent Director</td>\n",
              "      <td>2012</td>\n",
              "    </tr>\n",
              "    <tr>\n",
              "      <th>22</th>\n",
              "      <td>https://www.reuters.com/companies/AMZN.OQ/people</td>\n",
              "      <td>Daniel P. HuttenlocherIndependent Director</td>\n",
              "      <td>60</td>\n",
              "      <td>Independent Director</td>\n",
              "      <td>2016</td>\n",
              "    </tr>\n",
              "    <tr>\n",
              "      <th>23</th>\n",
              "      <td>https://www.reuters.com/companies/AMZN.OQ/people</td>\n",
              "      <td>Judith A. McGrathIndependent Director</td>\n",
              "      <td>66</td>\n",
              "      <td>Independent Director</td>\n",
              "      <td>2014</td>\n",
              "    </tr>\n",
              "    <tr>\n",
              "      <th>24</th>\n",
              "      <td>https://www.reuters.com/companies/AMZN.OQ/people</td>\n",
              "      <td>Indra K. NooyiIndependent Director</td>\n",
              "      <td>63</td>\n",
              "      <td>Independent Director</td>\n",
              "      <td>2019</td>\n",
              "    </tr>\n",
              "    <tr>\n",
              "      <th>25</th>\n",
              "      <td>https://www.reuters.com/companies/AMZN.OQ/people</td>\n",
              "      <td>Jonathan J. RubinsteinIndependent Director</td>\n",
              "      <td>62</td>\n",
              "      <td>Independent Director</td>\n",
              "      <td>2010</td>\n",
              "    </tr>\n",
              "    <tr>\n",
              "      <th>26</th>\n",
              "      <td>https://www.reuters.com/companies/AMZN.OQ/people</td>\n",
              "      <td>Thomas O. RyderIndependent Director</td>\n",
              "      <td>74</td>\n",
              "      <td>Independent Director</td>\n",
              "      <td>2011</td>\n",
              "    </tr>\n",
              "    <tr>\n",
              "      <th>27</th>\n",
              "      <td>https://www.reuters.com/companies/AMZN.OQ/people</td>\n",
              "      <td>Patricia Q. StonesiferIndependent Director</td>\n",
              "      <td>62</td>\n",
              "      <td>Independent Director</td>\n",
              "      <td>2017</td>\n",
              "    </tr>\n",
              "    <tr>\n",
              "      <th>28</th>\n",
              "      <td>https://www.reuters.com/companies/AMZN.OQ/people</td>\n",
              "      <td>Wendell P. WeeksIndependent Director</td>\n",
              "      <td>59</td>\n",
              "      <td>Independent Director</td>\n",
              "      <td>2016</td>\n",
              "    </tr>\n",
              "    <tr>\n",
              "      <th>29</th>\n",
              "      <td>https://www.reuters.com/companies/AAPL.OQ/people</td>\n",
              "      <td>Arthur D. LevinsonIndependent Chairman of the ...</td>\n",
              "      <td>68</td>\n",
              "      <td>Independent Chairman of the Board</td>\n",
              "      <td>2011</td>\n",
              "    </tr>\n",
              "  </tbody>\n",
              "</table>\n",
              "</div>"
            ],
            "text/plain": [
              "                                                  URL  ... Title\n",
              "0   https://www.reuters.com/companies/GOOGL.OQ/people  ...  2018\n",
              "1   https://www.reuters.com/companies/GOOGL.OQ/people  ...  2019\n",
              "2   https://www.reuters.com/companies/GOOGL.OQ/people  ...  2019\n",
              "3   https://www.reuters.com/companies/GOOGL.OQ/people  ...  2019\n",
              "4   https://www.reuters.com/companies/GOOGL.OQ/people  ...  2015\n",
              "5   https://www.reuters.com/companies/GOOGL.OQ/people  ...  2015\n",
              "6   https://www.reuters.com/companies/GOOGL.OQ/people  ...  2019\n",
              "7   https://www.reuters.com/companies/GOOGL.OQ/people  ...  2016\n",
              "8   https://www.reuters.com/companies/GOOGL.OQ/people  ...  2016\n",
              "9   https://www.reuters.com/companies/GOOGL.OQ/people  ...  2005\n",
              "10  https://www.reuters.com/companies/GOOGL.OQ/people  ...  2014\n",
              "11  https://www.reuters.com/companies/GOOGL.OQ/people  ...  1998\n",
              "12  https://www.reuters.com/companies/GOOGL.OQ/people  ...  2019\n",
              "13   https://www.reuters.com/companies/AMZN.OQ/people  ...  2000\n",
              "14   https://www.reuters.com/companies/AMZN.OQ/people  ...  2015\n",
              "15   https://www.reuters.com/companies/AMZN.OQ/people  ...  2016\n",
              "16   https://www.reuters.com/companies/AMZN.OQ/people  ...  2016\n",
              "17   https://www.reuters.com/companies/AMZN.OQ/people  ...  2014\n",
              "18   https://www.reuters.com/companies/AMZN.OQ/people  ...  2006\n",
              "19   https://www.reuters.com/companies/AMZN.OQ/people  ...  2007\n",
              "20   https://www.reuters.com/companies/AMZN.OQ/people  ...  2019\n",
              "21   https://www.reuters.com/companies/AMZN.OQ/people  ...  2012\n",
              "22   https://www.reuters.com/companies/AMZN.OQ/people  ...  2016\n",
              "23   https://www.reuters.com/companies/AMZN.OQ/people  ...  2014\n",
              "24   https://www.reuters.com/companies/AMZN.OQ/people  ...  2019\n",
              "25   https://www.reuters.com/companies/AMZN.OQ/people  ...  2010\n",
              "26   https://www.reuters.com/companies/AMZN.OQ/people  ...  2011\n",
              "27   https://www.reuters.com/companies/AMZN.OQ/people  ...  2017\n",
              "28   https://www.reuters.com/companies/AMZN.OQ/people  ...  2016\n",
              "29   https://www.reuters.com/companies/AAPL.OQ/people  ...  2011\n",
              "\n",
              "[30 rows x 5 columns]"
            ]
          },
          "metadata": {
            "tags": []
          },
          "execution_count": 9
        }
      ]
    },
    {
      "cell_type": "code",
      "metadata": {
        "id": "Ljw7ZXEehzCQ",
        "colab_type": "code",
        "colab": {}
      },
      "source": [
        ""
      ],
      "execution_count": 0,
      "outputs": []
    }
  ]
}