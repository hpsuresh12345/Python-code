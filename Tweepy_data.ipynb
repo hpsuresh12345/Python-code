{
  "nbformat": 4,
  "nbformat_minor": 0,
  "metadata": {
    "colab": {
      "name": "Tweepy_data.ipynb",
      "version": "0.3.2",
      "provenance": [],
      "collapsed_sections": [],
      "include_colab_link": true
    },
    "kernelspec": {
      "name": "python3",
      "display_name": "Python 3"
    }
  },
  "cells": [
    {
      "cell_type": "markdown",
      "metadata": {
        "id": "view-in-github",
        "colab_type": "text"
      },
      "source": [
        "<a href=\"https://colab.research.google.com/github/hpsuresh12345/Python-code/blob/master/Tweepy_data.ipynb\" target=\"_parent\"><img src=\"https://colab.research.google.com/assets/colab-badge.svg\" alt=\"Open In Colab\"/></a>"
      ]
    },
    {
      "cell_type": "code",
      "metadata": {
        "id": "rIb9aq81af7C",
        "colab_type": "code",
        "colab": {}
      },
      "source": [
        "import os\n",
        "import tweepy as tw\n",
        "import pandas as pd"
      ],
      "execution_count": 0,
      "outputs": []
    },
    {
      "cell_type": "code",
      "metadata": {
        "id": "6XtL5GVuajq_",
        "colab_type": "code",
        "colab": {}
      },
      "source": [
        "auth = tw.OAuthHandler('o7hGGdbxC9rCzh6gNF7w68xjR', 'HoIZzpSF603DRfNlRpkCjjbbuYR76sUGdsGyI2E8ksagU5GYdr')\n",
        "auth.set_access_token('238097127-iYCOGfLha78ZegDY4JQLENIiYgYK6FVNJF8MJoV3', 'rpwe42w7RcZyptReSTRJl79hGE5zXYSAULUkNKrPKqAcp')\n",
        "api = tw.API('@sureshhp1', wait_on_rate_limit=True)"
      ],
      "execution_count": 0,
      "outputs": []
    },
    {
      "cell_type": "code",
      "metadata": {
        "id": "Z4HRDRa4bl_0",
        "colab_type": "code",
        "colab": {}
      },
      "source": [
        "# Define the search term and the date_since date as variables\n",
        "search_words = \"#Automotivegadgets\"\n",
        "date_since = \"2018-11-16\""
      ],
      "execution_count": 0,
      "outputs": []
    },
    {
      "cell_type": "code",
      "metadata": {
        "id": "DDVDMiqJb9Zc",
        "colab_type": "code",
        "colab": {
          "base_uri": "https://localhost:8080/",
          "height": 34
        },
        "outputId": "ec61bad3-abad-4896-d997-cb3e07b144cb"
      },
      "source": [
        "# Collect tweets\n",
        "tweets = tw.Cursor(api.search,\n",
        "              q=search_words,\n",
        "              lang=\"en\",\n",
        "              since=date_since).items(5)\n",
        "tweets"
      ],
      "execution_count": 8,
      "outputs": [
        {
          "output_type": "execute_result",
          "data": {
            "text/plain": [
              "<tweepy.cursor.ItemIterator at 0x7fbe74cce0f0>"
            ]
          },
          "metadata": {
            "tags": []
          },
          "execution_count": 8
        }
      ]
    },
    {
      "cell_type": "code",
      "metadata": {
        "id": "b6sM8hkccoWp",
        "colab_type": "code",
        "colab": {}
      },
      "source": [
        ""
      ],
      "execution_count": 0,
      "outputs": []
    }
  ]
}