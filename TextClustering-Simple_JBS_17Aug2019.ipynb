{
 "cells": [
  {
   "cell_type": "code",
   "execution_count": 1,
   "metadata": {},
   "outputs": [],
   "source": [
    "#Text clustering with K-means\n",
    "from sklearn.feature_extraction.text import TfidfVectorizer\n",
    "from sklearn.cluster import KMeans\n",
    "from sklearn.metrics import adjusted_rand_score"
   ]
  },
  {
   "cell_type": "code",
   "execution_count": 2,
   "metadata": {},
   "outputs": [],
   "source": [
    "#Create document list\n",
    "documents = [\"google plus\",\n",
    "             \"google mail\",\n",
    "             \"Google Translate app\",\n",
    "             \"If you open 100 tab in google you get a smiley face.\",\n",
    "             \"Best cat photo\",\n",
    "             \"Climbing ninja cat.\",\n",
    "             \"Impressed with google map feedback.\",\n",
    "             \"Key promoter extension for Google Chrome.\"]"
   ]
  },
  {
   "cell_type": "code",
   "execution_count": 3,
   "metadata": {
    "scrolled": true
   },
   "outputs": [
    {
     "name": "stdout",
     "output_type": "stream",
     "text": [
      "  (0, 9)\t0.4470065989271116\n",
      "  (0, 17)\t0.8945306593491452\n",
      "  (1, 9)\t0.4470065989271116\n",
      "  (1, 12)\t0.8945306593491452\n",
      "  (2, 9)\t0.33316191751472424\n",
      "  (2, 21)\t0.666709508226001\n",
      "  (2, 1)\t0.666709508226001\n",
      "  (3, 9)\t0.21809766329314145\n",
      "  (3, 15)\t0.4364477996888222\n",
      "  (3, 0)\t0.4364477996888222\n",
      "  (3, 20)\t0.4364477996888222\n",
      "  (3, 19)\t0.4364477996888222\n",
      "  (3, 7)\t0.4364477996888222\n",
      "  (4, 2)\t0.6083131546128155\n",
      "  (4, 3)\t0.5098138992318764\n",
      "  (4, 16)\t0.6083131546128155\n",
      "  (5, 3)\t0.5098138992318764\n",
      "  (5, 5)\t0.6083131546128155\n",
      "  (5, 14)\t0.6083131546128155\n",
      "  (6, 9)\t0.2772019902858183\n",
      "  (6, 10)\t0.5547248737231761\n",
      "  (6, 13)\t0.5547248737231761\n",
      "  (6, 8)\t0.5547248737231761\n",
      "  (7, 9)\t0.24240357103271387\n",
      "  (7, 11)\t0.4850877520486855\n",
      "  (7, 18)\t0.4850877520486855\n",
      "  (7, 6)\t0.4850877520486855\n",
      "  (7, 4)\t0.4850877520486855\n"
     ]
    }
   ],
   "source": [
    "#Transform the data\n",
    "vectorizer = TfidfVectorizer(stop_words='english')\n",
    "X = vectorizer.fit_transform(documents)\n",
    "print(X)"
   ]
  },
  {
   "cell_type": "code",
   "execution_count": 4,
   "metadata": {},
   "outputs": [
    {
     "data": {
      "text/plain": [
       "KMeans(algorithm='auto', copy_x=True, init='k-means++', max_iter=100,\n",
       "    n_clusters=3, n_init=1, n_jobs=None, precompute_distances='auto',\n",
       "    random_state=None, tol=0.0001, verbose=0)"
      ]
     },
     "execution_count": 4,
     "metadata": {},
     "output_type": "execute_result"
    }
   ],
   "source": [
    "#Build the clusters\n",
    "true_k = 3\n",
    "model = KMeans(n_clusters=true_k, init='k-means++', max_iter=100, n_init=1)\n",
    "model.fit(X)"
   ]
  },
  {
   "cell_type": "code",
   "execution_count": 5,
   "metadata": {},
   "outputs": [
    {
     "name": "stdout",
     "output_type": "stream",
     "text": [
      "Top terms per cluster:\n",
      "Cluster 0:\n",
      " cat\n",
      " best\n",
      " photo\n",
      " ninja\n",
      " climbing\n",
      " translate\n",
      " google\n",
      " app\n",
      " chrome\n",
      " extension\n",
      "Cluster 1:\n",
      " google\n",
      " plus\n",
      " mail\n",
      " impressed\n",
      " feedback\n",
      " map\n",
      " chrome\n",
      " promoter\n",
      " extension\n",
      " key\n",
      "Cluster 2:\n",
      " translate\n",
      " app\n",
      " google\n",
      " tab\n",
      " best\n",
      " cat\n",
      " chrome\n",
      " climbing\n",
      " extension\n",
      " face\n"
     ]
    }
   ],
   "source": [
    "#Profile the clusters\n",
    "print(\"Top terms per cluster:\")\n",
    "order_centroids = model.cluster_centers_.argsort()[:, ::-1]\n",
    "terms = vectorizer.get_feature_names()\n",
    "for i in range(true_k):\n",
    "    print(\"Cluster %d:\" % i),\n",
    "    for ind in order_centroids[i, :10]:\n",
    "        print(' %s' % terms[ind]),\n",
    "    print"
   ]
  },
  {
   "cell_type": "code",
   "execution_count": 6,
   "metadata": {},
   "outputs": [
    {
     "name": "stdout",
     "output_type": "stream",
     "text": [
      "\n",
      "\n",
      "Prediction\n",
      "[1]\n"
     ]
    }
   ],
   "source": [
    "#Use model for prediction\n",
    "print(\"\\n\")\n",
    "print(\"Prediction\")\n",
    " \n",
    "Y = vectorizer.transform([\"google to open.\"])\n",
    "prediction = model.predict(Y)\n",
    "print(prediction)\n",
    " "
   ]
  },
  {
   "cell_type": "code",
   "execution_count": 7,
   "metadata": {},
   "outputs": [
    {
     "name": "stdout",
     "output_type": "stream",
     "text": [
      "[0]\n"
     ]
    }
   ],
   "source": [
    "Y = vectorizer.transform([\"My cat is hungry.\"])\n",
    "prediction = model.predict(Y)\n",
    "print(prediction)"
   ]
  },
  {
   "cell_type": "code",
   "execution_count": 8,
   "metadata": {},
   "outputs": [
    {
     "name": "stdout",
     "output_type": "stream",
     "text": [
      "[1]\n"
     ]
    }
   ],
   "source": [
    "Y = vectorizer.transform([\"google feedback\"])\n",
    "prediction = model.predict(Y)\n",
    "print(prediction)"
   ]
  },
  {
   "cell_type": "code",
   "execution_count": null,
   "metadata": {},
   "outputs": [],
   "source": []
  }
 ],
 "metadata": {
  "kernelspec": {
   "display_name": "Python 3",
   "language": "python",
   "name": "python3"
  },
  "language_info": {
   "codemirror_mode": {
    "name": "ipython",
    "version": 3
   },
   "file_extension": ".py",
   "mimetype": "text/x-python",
   "name": "python",
   "nbconvert_exporter": "python",
   "pygments_lexer": "ipython3",
   "version": "3.7.3"
  }
 },
 "nbformat": 4,
 "nbformat_minor": 2
}
