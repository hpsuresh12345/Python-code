{
  "nbformat": 4,
  "nbformat_minor": 0,
  "metadata": {
    "colab": {
      "name": "Tweepy_InfotainmentTweets.ipynb",
      "version": "0.3.2",
      "provenance": [],
      "collapsed_sections": [],
      "toc_visible": true,
      "include_colab_link": true
    },
    "kernelspec": {
      "name": "python3",
      "display_name": "Python 3"
    }
  },
  "cells": [
    {
      "cell_type": "markdown",
      "metadata": {
        "id": "view-in-github",
        "colab_type": "text"
      },
      "source": [
        "<a href=\"https://colab.research.google.com/github/hpsuresh12345/Python-code/blob/master/Tweepy_InfotainmentTweets.ipynb\" target=\"_parent\"><img src=\"https://colab.research.google.com/assets/colab-badge.svg\" alt=\"Open In Colab\"/></a>"
      ]
    },
    {
      "cell_type": "code",
      "metadata": {
        "id": "ZU8rkXQcLPN8",
        "colab_type": "code",
        "colab": {}
      },
      "source": [
        "import numpy as np\n",
        "import pandas as pd\n",
        "import tweepy as tw"
      ],
      "execution_count": 0,
      "outputs": []
    },
    {
      "cell_type": "code",
      "metadata": {
        "id": "LC7tlMh0LUlf",
        "colab_type": "code",
        "colab": {}
      },
      "source": [
        "consumer_key='o7hGGdbxC9rCzh6gNF7w68xjR'\n",
        "consumer_secret='HoIZzpSF603DRfNlRpkCjjbbuYR76sUGdsGyI2E8ksagU5GYdr'\n",
        "access_token='238097127-iYCOGfLha78ZegDY4JQLENIiYgYK6FVNJF8MJoV3'\n",
        "access_token_secret='rpwe42w7RcZyptReSTRJl79hGE5zXYSAULUkNKrPKqAcp'\n"
      ],
      "execution_count": 0,
      "outputs": []
    },
    {
      "cell_type": "code",
      "metadata": {
        "id": "SgTeoNiZL0vd",
        "colab_type": "code",
        "colab": {}
      },
      "source": [
        "auth=tw.OAuthHandler(consumer_key,consumer_secret)\n",
        "auth.set_access_token(access_token,access_token_secret)\n",
        "api=tw.API(auth,wait_on_rate_limit=True)"
      ],
      "execution_count": 0,
      "outputs": []
    },
    {
      "cell_type": "code",
      "metadata": {
        "id": "rsKuOycfMPuA",
        "colab_type": "code",
        "outputId": "50e69f39-1ce2-4019-91d2-add0a39838ab",
        "colab": {
          "base_uri": "https://localhost:8080/",
          "height": 654
        }
      },
      "source": [
        "public_tweets=api.home_timeline()\n",
        "for tweet in public_tweets:\n",
        "  print(tweet.text)"
      ],
      "execution_count": 0,
      "outputs": [
        {
          "output_type": "stream",
          "text": [
            "The Indian rupee is on a strong recovery path since the beginning of September as INR has gained nearly 147 paise a… https://t.co/zy20KcaWTI\n",
            "Petrol prices in New Delhi went by 9 paise to Rs 71.97 per litre, while people in the National Capital have to shel… https://t.co/Atn39VT6Q9\n",
            "RT @Gadgets360: Apple Counters Goldman Call on 'Negative Impact' of Apple TV+ Trial\n",
            "https://t.co/fVGxVAOFkx\n",
            "अभी मुठ्ठी नहीं खोली है मैंने आसमां सुन ले,\n",
            "\n",
            "तेरा बस वक़्त आया है मेरा तो दौर आएगा।\n",
            "\n",
            "#SaturdayThoughts\n",
            "Practical Apache Spark in 10 minutes. Part 4 - MLlib https://t.co/XLdq7o5Pm0\n",
            "Men attempt to set man on fire after he stopped them from molesting girl https://t.co/j1CoYj3ZUX https://t.co/gee8DdnZtV\n",
            "RT @timesnowsports: Bundesliga: Wolfsburg held to a 1-1 draw against Fortuna Duesseldorf, miss chance to go top\n",
            "\n",
            "https://t.co/DB04UFkhkM\n",
            "RT @timesnowsports: Manchester United boss Ole Gunnar Solskjaer confident of making David de Gea stay beyond this season\n",
            "\n",
            "https://t.co/4ae5…\n",
            "Supreme Court has been consistently reminding the Central Govt. of the directive in the Constitution for implementi… https://t.co/i8S1wLZ6gW\n",
            "#INDvSA \n",
            "\n",
            "I always had the outswinger: @Jaspritbumrah93 🏏\n",
            "\n",
            "Once rated as India's best bet in white-ball cricket,… https://t.co/s6x3jC3ntl\n",
            "Now we have Mr. Rajiv Ratan Chetwani, Director, Directorate of Information Systems and Management, ISRO Headquarter… https://t.co/g1Bpju5cQv\n",
            "#Breaking | On the occasion of Hindi Diwas, Union Home Minister @AmitShah said that Hindi is the language which can… https://t.co/d2riJuzUfq\n",
            "Woman allegedly raped by priests inside temple on pretext of 'divine intervention'.\n",
            "\n",
            "https://t.co/JIfOoX9huG\n",
            "RT @Gadgets360: Disney CEO Exits Apple Board as Firms Become Streaming Rivals\n",
            "https://t.co/NBCixogqhs\n",
            "We are extremely honoured to have Dr P. Shyama Raju, Chancellor, REVA University sharing his enormous experience wi… https://t.co/uXuUd7hfwx\n",
            "Shivaji descendant Udayan Raje Bhosale joins BJP in Amit Shah's presence https://t.co/3Xj2UnpZCF https://t.co/U5ZW0n0GsH\n",
            "3 injured after car hits divider in Delhi, liquor bottles found at spot https://t.co/IcYWEgkjwO https://t.co/05I2Ax3FmG\n",
            "Fire at Saudi Aramco facility amid tensions over attacks on tankers https://t.co/cEygkzfBxk https://t.co/vsqr84Vsea\n",
            "\"Tied up 2 women, ransacked house\": Domestic robs employers in Delhi https://t.co/hNJx36SLIg https://t.co/FsOtbaUgsT\n",
            "Full list of Assam citizens' list containing 3.30 crore applicants, including 19 lakh who didn't make it, published… https://t.co/KnZqHbD2ag\n"
          ],
          "name": "stdout"
        }
      ]
    },
    {
      "cell_type": "code",
      "metadata": {
        "id": "5EDZdbXLMlS0",
        "colab_type": "code",
        "outputId": "30d7e124-38d3-4c9b-a2e6-c28c5f63d458",
        "colab": {
          "base_uri": "https://localhost:8080/",
          "height": 86
        }
      },
      "source": [
        "user=api.get_user('@sureshhp1')\n",
        "print(\"User Screen Name\")\n",
        "print(user.screen_name)\n",
        "print(\"User Followers Count\")\n",
        "print(user.followers_count)"
      ],
      "execution_count": 0,
      "outputs": [
        {
          "output_type": "stream",
          "text": [
            "User Screen Name\n",
            "sureshhp1\n",
            "User Followers Count\n",
            "26\n"
          ],
          "name": "stdout"
        }
      ]
    },
    {
      "cell_type": "code",
      "metadata": {
        "colab_type": "code",
        "outputId": "e6310fb5-58d9-4cdc-d4a6-07aa2af0d689",
        "id": "K7kxLahVQAHx",
        "colab": {
          "base_uri": "https://localhost:8080/",
          "height": 86
        }
      },
      "source": [
        "user=api.get_user('@mutturajiu')\n",
        "print(\"User Screen Name\")\n",
        "print(user.screen_name)\n",
        "print(\"User Followers Count\")\n",
        "print(user.followers_count)"
      ],
      "execution_count": 0,
      "outputs": [
        {
          "output_type": "stream",
          "text": [
            "User Screen Name\n",
            "mutturajiu\n",
            "User Followers Count\n",
            "6\n"
          ],
          "name": "stdout"
        }
      ]
    },
    {
      "cell_type": "code",
      "metadata": {
        "id": "NKgxWKp1OeKo",
        "colab_type": "code",
        "outputId": "a880282f-f643-457b-d9eb-3998ddab3e34",
        "colab": {
          "base_uri": "https://localhost:8080/",
          "height": 188
        }
      },
      "source": [
        "for friend in user.friends():\n",
        "  print(friend.screen_name)"
      ],
      "execution_count": 0,
      "outputs": [
        {
          "output_type": "stream",
          "text": [
            "ratnakar_20\n",
            "itjegan\n",
            "KatariyaPran\n",
            "AmitShah\n",
            "smritiirani\n",
            "arunjaitley\n",
            "chetan_bhagat\n",
            "PMOIndia\n",
            "narendramodi\n",
            "KicchaSudeep\n"
          ],
          "name": "stdout"
        }
      ]
    },
    {
      "cell_type": "code",
      "metadata": {
        "id": "x9SpPW3dOr3P",
        "colab_type": "code",
        "outputId": "a6e7579f-7fef-440a-97d2-5c85b6f98b43",
        "colab": {
          "base_uri": "https://localhost:8080/",
          "height": 120
        }
      },
      "source": [
        "for followers in user.followers():\n",
        "  print(followers.screen_name)"
      ],
      "execution_count": 0,
      "outputs": [
        {
          "output_type": "stream",
          "text": [
            "HanumegowdaGn\n",
            "kudobala\n",
            "prashanth1247\n",
            "iccksouccours\n",
            "sureshpratti\n",
            "GNHanume\n"
          ],
          "name": "stdout"
        }
      ]
    },
    {
      "cell_type": "code",
      "metadata": {
        "id": "KXZ6_NfsPJE-",
        "colab_type": "code",
        "outputId": "fc4fac5d-d633-4d93-9c7c-6d17c8b0f6c5",
        "colab": {
          "base_uri": "https://localhost:8080/",
          "height": 54
        }
      },
      "source": [
        "api.update_status(\"Sample Tweet from #Python and #Tweepy\")"
      ],
      "execution_count": 0,
      "outputs": [
        {
          "output_type": "execute_result",
          "data": {
            "text/plain": [
              "Status(_api=<tweepy.api.API object at 0x7fb0d2ed5b00>, _json={'created_at': 'Sat Sep 14 05:33:37 +0000 2019', 'id': 1172745193935839233, 'id_str': '1172745193935839233', 'text': 'Sample Tweet from #Python and #Tweepy', 'truncated': False, 'entities': {'hashtags': [{'text': 'Python', 'indices': [18, 25]}, {'text': 'Tweepy', 'indices': [30, 37]}], 'symbols': [], 'user_mentions': [], 'urls': []}, 'source': '<a href=\"https://www.gadgetsnow.com/topic/in-car-infotainment-systems/reviews\" rel=\"nofollow\">Autotainment</a>', 'in_reply_to_status_id': None, 'in_reply_to_status_id_str': None, 'in_reply_to_user_id': None, 'in_reply_to_user_id_str': None, 'in_reply_to_screen_name': None, 'user': {'id': 238097127, 'id_str': '238097127', 'name': 'suresh hp1', 'screen_name': 'sureshhp1', 'location': 'Bangalore', 'description': '', 'url': None, 'entities': {'description': {'urls': []}}, 'protected': True, 'followers_count': 26, 'friends_count': 135, 'listed_count': 2, 'created_at': 'Fri Jan 14 10:41:09 +0000 2011', 'favourites_count': 11, 'utc_offset': None, 'time_zone': None, 'geo_enabled': False, 'verified': False, 'statuses_count': 27, 'lang': None, 'contributors_enabled': False, 'is_translator': False, 'is_translation_enabled': False, 'profile_background_color': '131516', 'profile_background_image_url': 'http://abs.twimg.com/images/themes/theme1/bg.png', 'profile_background_image_url_https': 'https://abs.twimg.com/images/themes/theme1/bg.png', 'profile_background_tile': True, 'profile_image_url': 'http://pbs.twimg.com/profile_images/903916556555395073/xITHpp94_normal.jpg', 'profile_image_url_https': 'https://pbs.twimg.com/profile_images/903916556555395073/xITHpp94_normal.jpg', 'profile_banner_url': 'https://pbs.twimg.com/profile_banners/238097127/1504345638', 'profile_link_color': '1AADAD', 'profile_sidebar_border_color': 'EEEEEE', 'profile_sidebar_fill_color': 'EFEFEF', 'profile_text_color': '333333', 'profile_use_background_image': True, 'has_extended_profile': True, 'default_profile': False, 'default_profile_image': False, 'following': False, 'follow_request_sent': False, 'notifications': False, 'translator_type': 'none'}, 'geo': None, 'coordinates': None, 'place': None, 'contributors': None, 'is_quote_status': False, 'retweet_count': 0, 'favorite_count': 0, 'favorited': False, 'retweeted': False, 'lang': 'en'}, created_at=datetime.datetime(2019, 9, 14, 5, 33, 37), id=1172745193935839233, id_str='1172745193935839233', text='Sample Tweet from #Python and #Tweepy', truncated=False, entities={'hashtags': [{'text': 'Python', 'indices': [18, 25]}, {'text': 'Tweepy', 'indices': [30, 37]}], 'symbols': [], 'user_mentions': [], 'urls': []}, source='Autotainment', source_url='https://www.gadgetsnow.com/topic/in-car-infotainment-systems/reviews', in_reply_to_status_id=None, in_reply_to_status_id_str=None, in_reply_to_user_id=None, in_reply_to_user_id_str=None, in_reply_to_screen_name=None, author=User(_api=<tweepy.api.API object at 0x7fb0d2ed5b00>, _json={'id': 238097127, 'id_str': '238097127', 'name': 'suresh hp1', 'screen_name': 'sureshhp1', 'location': 'Bangalore', 'description': '', 'url': None, 'entities': {'description': {'urls': []}}, 'protected': True, 'followers_count': 26, 'friends_count': 135, 'listed_count': 2, 'created_at': 'Fri Jan 14 10:41:09 +0000 2011', 'favourites_count': 11, 'utc_offset': None, 'time_zone': None, 'geo_enabled': False, 'verified': False, 'statuses_count': 27, 'lang': None, 'contributors_enabled': False, 'is_translator': False, 'is_translation_enabled': False, 'profile_background_color': '131516', 'profile_background_image_url': 'http://abs.twimg.com/images/themes/theme1/bg.png', 'profile_background_image_url_https': 'https://abs.twimg.com/images/themes/theme1/bg.png', 'profile_background_tile': True, 'profile_image_url': 'http://pbs.twimg.com/profile_images/903916556555395073/xITHpp94_normal.jpg', 'profile_image_url_https': 'https://pbs.twimg.com/profile_images/903916556555395073/xITHpp94_normal.jpg', 'profile_banner_url': 'https://pbs.twimg.com/profile_banners/238097127/1504345638', 'profile_link_color': '1AADAD', 'profile_sidebar_border_color': 'EEEEEE', 'profile_sidebar_fill_color': 'EFEFEF', 'profile_text_color': '333333', 'profile_use_background_image': True, 'has_extended_profile': True, 'default_profile': False, 'default_profile_image': False, 'following': False, 'follow_request_sent': False, 'notifications': False, 'translator_type': 'none'}, id=238097127, id_str='238097127', name='suresh hp1', screen_name='sureshhp1', location='Bangalore', description='', url=None, entities={'description': {'urls': []}}, protected=True, followers_count=26, friends_count=135, listed_count=2, created_at=datetime.datetime(2011, 1, 14, 10, 41, 9), favourites_count=11, utc_offset=None, time_zone=None, geo_enabled=False, verified=False, statuses_count=27, lang=None, contributors_enabled=False, is_translator=False, is_translation_enabled=False, profile_background_color='131516', profile_background_image_url='http://abs.twimg.com/images/themes/theme1/bg.png', profile_background_image_url_https='https://abs.twimg.com/images/themes/theme1/bg.png', profile_background_tile=True, profile_image_url='http://pbs.twimg.com/profile_images/903916556555395073/xITHpp94_normal.jpg', profile_image_url_https='https://pbs.twimg.com/profile_images/903916556555395073/xITHpp94_normal.jpg', profile_banner_url='https://pbs.twimg.com/profile_banners/238097127/1504345638', profile_link_color='1AADAD', profile_sidebar_border_color='EEEEEE', profile_sidebar_fill_color='EFEFEF', profile_text_color='333333', profile_use_background_image=True, has_extended_profile=True, default_profile=False, default_profile_image=False, following=False, follow_request_sent=False, notifications=False, translator_type='none'), user=User(_api=<tweepy.api.API object at 0x7fb0d2ed5b00>, _json={'id': 238097127, 'id_str': '238097127', 'name': 'suresh hp1', 'screen_name': 'sureshhp1', 'location': 'Bangalore', 'description': '', 'url': None, 'entities': {'description': {'urls': []}}, 'protected': True, 'followers_count': 26, 'friends_count': 135, 'listed_count': 2, 'created_at': 'Fri Jan 14 10:41:09 +0000 2011', 'favourites_count': 11, 'utc_offset': None, 'time_zone': None, 'geo_enabled': False, 'verified': False, 'statuses_count': 27, 'lang': None, 'contributors_enabled': False, 'is_translator': False, 'is_translation_enabled': False, 'profile_background_color': '131516', 'profile_background_image_url': 'http://abs.twimg.com/images/themes/theme1/bg.png', 'profile_background_image_url_https': 'https://abs.twimg.com/images/themes/theme1/bg.png', 'profile_background_tile': True, 'profile_image_url': 'http://pbs.twimg.com/profile_images/903916556555395073/xITHpp94_normal.jpg', 'profile_image_url_https': 'https://pbs.twimg.com/profile_images/903916556555395073/xITHpp94_normal.jpg', 'profile_banner_url': 'https://pbs.twimg.com/profile_banners/238097127/1504345638', 'profile_link_color': '1AADAD', 'profile_sidebar_border_color': 'EEEEEE', 'profile_sidebar_fill_color': 'EFEFEF', 'profile_text_color': '333333', 'profile_use_background_image': True, 'has_extended_profile': True, 'default_profile': False, 'default_profile_image': False, 'following': False, 'follow_request_sent': False, 'notifications': False, 'translator_type': 'none'}, id=238097127, id_str='238097127', name='suresh hp1', screen_name='sureshhp1', location='Bangalore', description='', url=None, entities={'description': {'urls': []}}, protected=True, followers_count=26, friends_count=135, listed_count=2, created_at=datetime.datetime(2011, 1, 14, 10, 41, 9), favourites_count=11, utc_offset=None, time_zone=None, geo_enabled=False, verified=False, statuses_count=27, lang=None, contributors_enabled=False, is_translator=False, is_translation_enabled=False, profile_background_color='131516', profile_background_image_url='http://abs.twimg.com/images/themes/theme1/bg.png', profile_background_image_url_https='https://abs.twimg.com/images/themes/theme1/bg.png', profile_background_tile=True, profile_image_url='http://pbs.twimg.com/profile_images/903916556555395073/xITHpp94_normal.jpg', profile_image_url_https='https://pbs.twimg.com/profile_images/903916556555395073/xITHpp94_normal.jpg', profile_banner_url='https://pbs.twimg.com/profile_banners/238097127/1504345638', profile_link_color='1AADAD', profile_sidebar_border_color='EEEEEE', profile_sidebar_fill_color='EFEFEF', profile_text_color='333333', profile_use_background_image=True, has_extended_profile=True, default_profile=False, default_profile_image=False, following=False, follow_request_sent=False, notifications=False, translator_type='none'), geo=None, coordinates=None, place=None, contributors=None, is_quote_status=False, retweet_count=0, favorite_count=0, favorited=False, retweeted=False, lang='en')"
            ]
          },
          "metadata": {
            "tags": []
          },
          "execution_count": 24
        }
      ]
    },
    {
      "cell_type": "markdown",
      "metadata": {
        "id": "ftnoLzJ4YjM6",
        "colab_type": "text"
      },
      "source": [
        "# Pull tweets by Keywords"
      ]
    },
    {
      "cell_type": "code",
      "metadata": {
        "id": "TSbtzW-BQdMs",
        "colab_type": "code",
        "colab": {}
      },
      "source": [
        "tweets=tw.Cursor(api.search, q='@isro-filter:retweets',lang='en',since='2019-01-01').items(10)"
      ],
      "execution_count": 0,
      "outputs": []
    },
    {
      "cell_type": "code",
      "metadata": {
        "id": "wjJslisMR67F",
        "colab_type": "code",
        "outputId": "7dd15470-2a8a-4c92-b786-8c11d486a234",
        "colab": {
          "base_uri": "https://localhost:8080/",
          "height": 208
        }
      },
      "source": [
        "tweets_text=[tweet.text for tweet in tweets]\n",
        "tweets_text"
      ],
      "execution_count": 0,
      "outputs": [
        {
          "output_type": "execute_result",
          "data": {
            "text/plain": [
              "['@NASA @esa @isro  out of imagination and curiosity I wrote something like this. What if big bang is rebirth of univ… https://t.co/cgMDxCt0uR',\n",
              " '@DhiraJThakrE12 @Hindusthaani1 @Astro_Neel @isro @chandrayan2 U r absolutely right and even indeed!!!..... But paki… https://t.co/arjfoWlcgm',\n",
              " '@Kishor_a @isro @GauravModiBhakt @nishants79 @Ramesh_BJP @AkshayBhade5 @AdvNileshSharma @VidarbhaPutra… https://t.co/SzIG1Dl01Y',\n",
              " '@isro Weldon  i am proud of isro',\n",
              " '@DrKumarVishwas @PMOIndia @isro @narendramodi Very nice sir',\n",
              " 'Special pics for people teaching science to @isro &amp; comparing them with NASA. \\n\\nHere is what NASA does before sendi… https://t.co/gEh6gXKN8j',\n",
              " 'Got my boarding pass for #Mars2020 from @NASA\\n\\nNASA will send my name to Mars.\\n@isro @NASA https://t.co/YAJX69IN6k',\n",
              " '@M19Sen @BlackBallBoy1 @holatombola @isro Sanskrit is foreign language , are you serious ?',\n",
              " '@isro make most of your efforts on today &amp; tomorrow, as highest chances of contact with #Vikram exist on these days… https://t.co/5661r7I6T6',\n",
              " '@isro @NASA @PMOIndia @narendramodi @AskAnshul @goldstone Now goldstone antena is trying to establish ntwrk wid cha… https://t.co/2X8Ui9njxw']"
            ]
          },
          "metadata": {
            "tags": []
          },
          "execution_count": 37
        }
      ]
    },
    {
      "cell_type": "code",
      "metadata": {
        "id": "1jCvRW6rSExB",
        "colab_type": "code",
        "outputId": "41784dd0-4429-48f4-96a0-3cad65495358",
        "colab": {
          "base_uri": "https://localhost:8080/",
          "height": 34
        }
      },
      "source": [
        "len(tweets_text)"
      ],
      "execution_count": 0,
      "outputs": [
        {
          "output_type": "execute_result",
          "data": {
            "text/plain": [
              "10"
            ]
          },
          "metadata": {
            "tags": []
          },
          "execution_count": 38
        }
      ]
    },
    {
      "cell_type": "code",
      "metadata": {
        "id": "44FHwD4_ZDw4",
        "colab_type": "code",
        "outputId": "b8c7ad83-c04b-42dd-9905-67bfa6f94da5",
        "colab": {
          "base_uri": "https://localhost:8080/",
          "height": 71
        }
      },
      "source": [
        "print(tweets_text[1])\n",
        "print(tweets_text[9])"
      ],
      "execution_count": 0,
      "outputs": [
        {
          "output_type": "stream",
          "text": [
            "@DhiraJThakrE12 @Hindusthaani1 @Astro_Neel @isro @chandrayan2 U r absolutely right and even indeed!!!..... But paki… https://t.co/arjfoWlcgm\n",
            "@isro @NASA @PMOIndia @narendramodi @AskAnshul @goldstone Now goldstone antena is trying to establish ntwrk wid cha… https://t.co/2X8Ui9njxw\n"
          ],
          "name": "stdout"
        }
      ]
    },
    {
      "cell_type": "markdown",
      "metadata": {
        "id": "P53yXJNZZeDm",
        "colab_type": "text"
      },
      "source": [
        "# Pull tweet by search words"
      ]
    },
    {
      "cell_type": "code",
      "metadata": {
        "id": "14ADpcflZXLl",
        "colab_type": "code",
        "outputId": "b7c1d632-da4b-42ec-aafc-f718dedfe411",
        "colab": {
          "base_uri": "https://localhost:8080/",
          "height": 119
        }
      },
      "source": [
        "tweets=tw.Cursor(api.search,q='axis card offers-filter:retweets',lang=\"en\",since='2019-01-01').items(10)\n",
        "tweets_text=[tweet.text for tweet in tweets]\n",
        "tweets_text"
      ],
      "execution_count": 0,
      "outputs": [
        {
          "output_type": "execute_result",
          "data": {
            "text/plain": [
              "['@Flipkart Why axis bank? How many people have axix card? At least hdfc or sbi or even icici debit card..y icici cre… https://t.co/ZyPrz1hDxT',\n",
              " 'Axis Bank Flipkart Offer\\nGet 10% Instant Discount with Axis Bank Debit Card &amp; Credit Cards during the BigBillionDay… https://t.co/AY85YhCH9c',\n",
              " 'TataCliq Axis Bank offer\\nFlat 15% instant discount on Lifestyle\\nFlat Rs. 500 instant discount on select Electronic… https://t.co/P5TIwDBOpN',\n",
              " '100% cashback on Freecharge (Mobile App/Mobile site/Website) on your first Recharge/Bill payment transaction using… https://t.co/Pc5AIRvAY0',\n",
              " '#deals #offers #india #freebies #coupon #shop #buy #savemoney #pricedrop\\n\\nFreecharge : Get 100% Cashback Upto Rs 10… https://t.co/D9f8lTwikX',\n",
              " 'CheapTicket Axis Bank Offer\\nDomestic Flights – Upto 650 off on min booking of Rs 5000. using Axis Bank Debit/Credit… https://t.co/nd1HDGXurN']"
            ]
          },
          "metadata": {
            "tags": []
          },
          "execution_count": 41
        }
      ]
    },
    {
      "cell_type": "markdown",
      "metadata": {
        "id": "cyU-XeYsaUnG",
        "colab_type": "text"
      },
      "source": [
        "# Pull tweets by hashtags"
      ]
    },
    {
      "cell_type": "code",
      "metadata": {
        "id": "3J6j81OOaMq5",
        "colab_type": "code",
        "outputId": "dde64a64-2f1d-4cb0-c02d-14358a5b21d9",
        "colab": {
          "base_uri": "https://localhost:8080/",
          "height": 187
        }
      },
      "source": [
        "tweets=tw.Cursor(api.search,q='#caraccessories-filter:retweets',lang=\"en\",since='2019-01-01').items(10)\n",
        "tweets_text=[tweet.text for tweet in tweets]\n",
        "tweets_text"
      ],
      "execution_count": 0,
      "outputs": [
        {
          "output_type": "execute_result",
          "data": {
            "text/plain": [
              "['Jacksonville Jaguars Sandstone Car Coasters, 2 Piece Coaster Set, Gift for Jaguar Fans, Dad, Boyfriend, Groomsmen,… https://t.co/6RSwNevxkZ',\n",
              " 'Secure your phone anywhere!  #CarAccessories  https://t.co/2pv3vLsLru https://t.co/epFpz467PE',\n",
              " 'Secure your phone anywhere!  #CarAccessories  https://t.co/2pv3vLsLru https://t.co/z7zGmGYDtC',\n",
              " 'Add some Funkyness to your car with these fabulous\\nBlack Fuzzy faux fur seatbelt pads \\n1 pair , so one pad for you… https://t.co/4Rl2PgbOLh',\n",
              " 'Secure your phone anywhere!  #CarAccessories  https://t.co/2pv3vLsLru https://t.co/KOtpop8FFf',\n",
              " 'Car Paint Supplies, Click 4 more Info! #caraccessories #CarTips #carrepair\\n\\nhttps://t.co/1A1o3y1l8X\\n\\nhttps://t.co/wQVpJwoJs1 via @giphy',\n",
              " 'If you enjoy taking your dog for a walk along the beach, be part of the Marine Conservation Society’s annual… https://t.co/gmTfl3NYy5',\n",
              " 'Snow Leopard print faux fur fuzzy steering wheel cover\\nHandmade from Snow Leopard print fluffy faux fur fabric\\nShow… https://t.co/abRnpGG3pe',\n",
              " 'Mini Trash Bin\\nhttps://t.co/BVLrX5aIud\\nKeep your car trash in one place.\\n#autocoolstuffs #car #auto #automotives… https://t.co/I7mfx2gCbE',\n",
              " 'Wanna go for a drive? 🖤\\n\\n#SafeAutoSystems #automotivesecurity #remotestart #autosystems #audio #video #navigation… https://t.co/zVVTfQktLG']"
            ]
          },
          "metadata": {
            "tags": []
          },
          "execution_count": 54
        }
      ]
    },
    {
      "cell_type": "markdown",
      "metadata": {
        "id": "96CAurgDgEdN",
        "colab_type": "text"
      },
      "source": [
        "# Uploading Image"
      ]
    },
    {
      "cell_type": "code",
      "metadata": {
        "id": "v6bUDWtXfO2O",
        "colab_type": "code",
        "outputId": "a69ed5e8-aea2-4031-a576-b9eba0f1445f",
        "colab": {
          "base_uri": "https://localhost:8080/",
          "height": 54
        }
      },
      "source": [
        "api.update_with_media('pic1.jpg',\n",
        "                      \"This is your tweet message\")"
      ],
      "execution_count": 61,
      "outputs": [
        {
          "output_type": "execute_result",
          "data": {
            "text/plain": [
              "Status(_api=<tweepy.api.API object at 0x7fb0d2ed5b00>, _json={'created_at': 'Sat Sep 14 06:40:09 +0000 2019', 'id': 1172761936141934592, 'id_str': '1172761936141934592', 'text': 'This is your tweet message https://t.co/urrM7csImh', 'truncated': False, 'entities': {'hashtags': [], 'symbols': [], 'user_mentions': [], 'urls': [], 'media': [{'id': 1172761935097540608, 'id_str': '1172761935097540608', 'indices': [27, 50], 'media_url': 'http://pbs.twimg.com/media/EEZ8xDOWsAAdte6.jpg', 'media_url_https': 'https://pbs.twimg.com/media/EEZ8xDOWsAAdte6.jpg', 'url': 'https://t.co/urrM7csImh', 'display_url': 'pic.twitter.com/urrM7csImh', 'expanded_url': 'https://twitter.com/sureshhp1/status/1172761936141934592/photo/1', 'type': 'photo', 'sizes': {'small': {'w': 500, 'h': 333, 'resize': 'fit'}, 'thumb': {'w': 150, 'h': 150, 'resize': 'crop'}, 'large': {'w': 500, 'h': 333, 'resize': 'fit'}, 'medium': {'w': 500, 'h': 333, 'resize': 'fit'}}}]}, 'extended_entities': {'media': [{'id': 1172761935097540608, 'id_str': '1172761935097540608', 'indices': [27, 50], 'media_url': 'http://pbs.twimg.com/media/EEZ8xDOWsAAdte6.jpg', 'media_url_https': 'https://pbs.twimg.com/media/EEZ8xDOWsAAdte6.jpg', 'url': 'https://t.co/urrM7csImh', 'display_url': 'pic.twitter.com/urrM7csImh', 'expanded_url': 'https://twitter.com/sureshhp1/status/1172761936141934592/photo/1', 'type': 'photo', 'sizes': {'small': {'w': 500, 'h': 333, 'resize': 'fit'}, 'thumb': {'w': 150, 'h': 150, 'resize': 'crop'}, 'large': {'w': 500, 'h': 333, 'resize': 'fit'}, 'medium': {'w': 500, 'h': 333, 'resize': 'fit'}}}]}, 'source': '<a href=\"https://www.gadgetsnow.com/topic/in-car-infotainment-systems/reviews\" rel=\"nofollow\">Autotainment</a>', 'in_reply_to_status_id': None, 'in_reply_to_status_id_str': None, 'in_reply_to_user_id': None, 'in_reply_to_user_id_str': None, 'in_reply_to_screen_name': None, 'user': {'id': 238097127, 'id_str': '238097127', 'name': 'suresh hp1', 'screen_name': 'sureshhp1', 'location': 'Bangalore', 'description': '', 'url': None, 'entities': {'description': {'urls': []}}, 'protected': True, 'followers_count': 26, 'friends_count': 135, 'listed_count': 2, 'created_at': 'Fri Jan 14 10:41:09 +0000 2011', 'favourites_count': 11, 'utc_offset': None, 'time_zone': None, 'geo_enabled': False, 'verified': False, 'statuses_count': 27, 'lang': None, 'contributors_enabled': False, 'is_translator': False, 'is_translation_enabled': False, 'profile_background_color': '131516', 'profile_background_image_url': 'http://abs.twimg.com/images/themes/theme1/bg.png', 'profile_background_image_url_https': 'https://abs.twimg.com/images/themes/theme1/bg.png', 'profile_background_tile': True, 'profile_image_url': 'http://pbs.twimg.com/profile_images/903916556555395073/xITHpp94_normal.jpg', 'profile_image_url_https': 'https://pbs.twimg.com/profile_images/903916556555395073/xITHpp94_normal.jpg', 'profile_banner_url': 'https://pbs.twimg.com/profile_banners/238097127/1504345638', 'profile_link_color': '1AADAD', 'profile_sidebar_border_color': 'EEEEEE', 'profile_sidebar_fill_color': 'EFEFEF', 'profile_text_color': '333333', 'profile_use_background_image': True, 'has_extended_profile': True, 'default_profile': False, 'default_profile_image': False, 'following': False, 'follow_request_sent': False, 'notifications': False, 'translator_type': 'none'}, 'geo': None, 'coordinates': None, 'place': None, 'contributors': None, 'is_quote_status': False, 'retweet_count': 0, 'favorite_count': 0, 'favorited': False, 'retweeted': False, 'possibly_sensitive': False, 'lang': 'en'}, created_at=datetime.datetime(2019, 9, 14, 6, 40, 9), id=1172761936141934592, id_str='1172761936141934592', text='This is your tweet message https://t.co/urrM7csImh', truncated=False, entities={'hashtags': [], 'symbols': [], 'user_mentions': [], 'urls': [], 'media': [{'id': 1172761935097540608, 'id_str': '1172761935097540608', 'indices': [27, 50], 'media_url': 'http://pbs.twimg.com/media/EEZ8xDOWsAAdte6.jpg', 'media_url_https': 'https://pbs.twimg.com/media/EEZ8xDOWsAAdte6.jpg', 'url': 'https://t.co/urrM7csImh', 'display_url': 'pic.twitter.com/urrM7csImh', 'expanded_url': 'https://twitter.com/sureshhp1/status/1172761936141934592/photo/1', 'type': 'photo', 'sizes': {'small': {'w': 500, 'h': 333, 'resize': 'fit'}, 'thumb': {'w': 150, 'h': 150, 'resize': 'crop'}, 'large': {'w': 500, 'h': 333, 'resize': 'fit'}, 'medium': {'w': 500, 'h': 333, 'resize': 'fit'}}}]}, extended_entities={'media': [{'id': 1172761935097540608, 'id_str': '1172761935097540608', 'indices': [27, 50], 'media_url': 'http://pbs.twimg.com/media/EEZ8xDOWsAAdte6.jpg', 'media_url_https': 'https://pbs.twimg.com/media/EEZ8xDOWsAAdte6.jpg', 'url': 'https://t.co/urrM7csImh', 'display_url': 'pic.twitter.com/urrM7csImh', 'expanded_url': 'https://twitter.com/sureshhp1/status/1172761936141934592/photo/1', 'type': 'photo', 'sizes': {'small': {'w': 500, 'h': 333, 'resize': 'fit'}, 'thumb': {'w': 150, 'h': 150, 'resize': 'crop'}, 'large': {'w': 500, 'h': 333, 'resize': 'fit'}, 'medium': {'w': 500, 'h': 333, 'resize': 'fit'}}}]}, source='Autotainment', source_url='https://www.gadgetsnow.com/topic/in-car-infotainment-systems/reviews', in_reply_to_status_id=None, in_reply_to_status_id_str=None, in_reply_to_user_id=None, in_reply_to_user_id_str=None, in_reply_to_screen_name=None, author=User(_api=<tweepy.api.API object at 0x7fb0d2ed5b00>, _json={'id': 238097127, 'id_str': '238097127', 'name': 'suresh hp1', 'screen_name': 'sureshhp1', 'location': 'Bangalore', 'description': '', 'url': None, 'entities': {'description': {'urls': []}}, 'protected': True, 'followers_count': 26, 'friends_count': 135, 'listed_count': 2, 'created_at': 'Fri Jan 14 10:41:09 +0000 2011', 'favourites_count': 11, 'utc_offset': None, 'time_zone': None, 'geo_enabled': False, 'verified': False, 'statuses_count': 27, 'lang': None, 'contributors_enabled': False, 'is_translator': False, 'is_translation_enabled': False, 'profile_background_color': '131516', 'profile_background_image_url': 'http://abs.twimg.com/images/themes/theme1/bg.png', 'profile_background_image_url_https': 'https://abs.twimg.com/images/themes/theme1/bg.png', 'profile_background_tile': True, 'profile_image_url': 'http://pbs.twimg.com/profile_images/903916556555395073/xITHpp94_normal.jpg', 'profile_image_url_https': 'https://pbs.twimg.com/profile_images/903916556555395073/xITHpp94_normal.jpg', 'profile_banner_url': 'https://pbs.twimg.com/profile_banners/238097127/1504345638', 'profile_link_color': '1AADAD', 'profile_sidebar_border_color': 'EEEEEE', 'profile_sidebar_fill_color': 'EFEFEF', 'profile_text_color': '333333', 'profile_use_background_image': True, 'has_extended_profile': True, 'default_profile': False, 'default_profile_image': False, 'following': False, 'follow_request_sent': False, 'notifications': False, 'translator_type': 'none'}, id=238097127, id_str='238097127', name='suresh hp1', screen_name='sureshhp1', location='Bangalore', description='', url=None, entities={'description': {'urls': []}}, protected=True, followers_count=26, friends_count=135, listed_count=2, created_at=datetime.datetime(2011, 1, 14, 10, 41, 9), favourites_count=11, utc_offset=None, time_zone=None, geo_enabled=False, verified=False, statuses_count=27, lang=None, contributors_enabled=False, is_translator=False, is_translation_enabled=False, profile_background_color='131516', profile_background_image_url='http://abs.twimg.com/images/themes/theme1/bg.png', profile_background_image_url_https='https://abs.twimg.com/images/themes/theme1/bg.png', profile_background_tile=True, profile_image_url='http://pbs.twimg.com/profile_images/903916556555395073/xITHpp94_normal.jpg', profile_image_url_https='https://pbs.twimg.com/profile_images/903916556555395073/xITHpp94_normal.jpg', profile_banner_url='https://pbs.twimg.com/profile_banners/238097127/1504345638', profile_link_color='1AADAD', profile_sidebar_border_color='EEEEEE', profile_sidebar_fill_color='EFEFEF', profile_text_color='333333', profile_use_background_image=True, has_extended_profile=True, default_profile=False, default_profile_image=False, following=False, follow_request_sent=False, notifications=False, translator_type='none'), user=User(_api=<tweepy.api.API object at 0x7fb0d2ed5b00>, _json={'id': 238097127, 'id_str': '238097127', 'name': 'suresh hp1', 'screen_name': 'sureshhp1', 'location': 'Bangalore', 'description': '', 'url': None, 'entities': {'description': {'urls': []}}, 'protected': True, 'followers_count': 26, 'friends_count': 135, 'listed_count': 2, 'created_at': 'Fri Jan 14 10:41:09 +0000 2011', 'favourites_count': 11, 'utc_offset': None, 'time_zone': None, 'geo_enabled': False, 'verified': False, 'statuses_count': 27, 'lang': None, 'contributors_enabled': False, 'is_translator': False, 'is_translation_enabled': False, 'profile_background_color': '131516', 'profile_background_image_url': 'http://abs.twimg.com/images/themes/theme1/bg.png', 'profile_background_image_url_https': 'https://abs.twimg.com/images/themes/theme1/bg.png', 'profile_background_tile': True, 'profile_image_url': 'http://pbs.twimg.com/profile_images/903916556555395073/xITHpp94_normal.jpg', 'profile_image_url_https': 'https://pbs.twimg.com/profile_images/903916556555395073/xITHpp94_normal.jpg', 'profile_banner_url': 'https://pbs.twimg.com/profile_banners/238097127/1504345638', 'profile_link_color': '1AADAD', 'profile_sidebar_border_color': 'EEEEEE', 'profile_sidebar_fill_color': 'EFEFEF', 'profile_text_color': '333333', 'profile_use_background_image': True, 'has_extended_profile': True, 'default_profile': False, 'default_profile_image': False, 'following': False, 'follow_request_sent': False, 'notifications': False, 'translator_type': 'none'}, id=238097127, id_str='238097127', name='suresh hp1', screen_name='sureshhp1', location='Bangalore', description='', url=None, entities={'description': {'urls': []}}, protected=True, followers_count=26, friends_count=135, listed_count=2, created_at=datetime.datetime(2011, 1, 14, 10, 41, 9), favourites_count=11, utc_offset=None, time_zone=None, geo_enabled=False, verified=False, statuses_count=27, lang=None, contributors_enabled=False, is_translator=False, is_translation_enabled=False, profile_background_color='131516', profile_background_image_url='http://abs.twimg.com/images/themes/theme1/bg.png', profile_background_image_url_https='https://abs.twimg.com/images/themes/theme1/bg.png', profile_background_tile=True, profile_image_url='http://pbs.twimg.com/profile_images/903916556555395073/xITHpp94_normal.jpg', profile_image_url_https='https://pbs.twimg.com/profile_images/903916556555395073/xITHpp94_normal.jpg', profile_banner_url='https://pbs.twimg.com/profile_banners/238097127/1504345638', profile_link_color='1AADAD', profile_sidebar_border_color='EEEEEE', profile_sidebar_fill_color='EFEFEF', profile_text_color='333333', profile_use_background_image=True, has_extended_profile=True, default_profile=False, default_profile_image=False, following=False, follow_request_sent=False, notifications=False, translator_type='none'), geo=None, coordinates=None, place=None, contributors=None, is_quote_status=False, retweet_count=0, favorite_count=0, favorited=False, retweeted=False, possibly_sensitive=False, lang='en')"
            ]
          },
          "metadata": {
            "tags": []
          },
          "execution_count": 61
        }
      ]
    },
    {
      "cell_type": "markdown",
      "metadata": {
        "id": "YK-QaWvohwzV",
        "colab_type": "text"
      },
      "source": [
        "# Uploading Video"
      ]
    },
    {
      "cell_type": "code",
      "metadata": {
        "id": "Q4paHUSuhjk9",
        "colab_type": "code",
        "colab": {
          "base_uri": "https://localhost:8080/",
          "height": 425
        },
        "outputId": "5d1f3d2b-c2b9-4650-b95e-7e87c54431d3"
      },
      "source": [
        "api.update_with_media('VID_20181020_161656.mp4',\n",
        "                      \"This is Video from Python\")"
      ],
      "execution_count": 70,
      "outputs": [
        {
          "output_type": "error",
          "ename": "TweepError",
          "evalue": "ignored",
          "traceback": [
            "\u001b[0;31m---------------------------------------------------------------------------\u001b[0m",
            "\u001b[0;31mFileNotFoundError\u001b[0m                         Traceback (most recent call last)",
            "\u001b[0;32m/usr/local/lib/python3.6/dist-packages/tweepy/api.py\u001b[0m in \u001b[0;36m_pack_image\u001b[0;34m(filename, max_size, form_field, f)\u001b[0m\n\u001b[1;32m   1299\u001b[0m             \u001b[0;32mtry\u001b[0m\u001b[0;34m:\u001b[0m\u001b[0;34m\u001b[0m\u001b[0;34m\u001b[0m\u001b[0m\n\u001b[0;32m-> 1300\u001b[0;31m                 \u001b[0;32mif\u001b[0m \u001b[0mos\u001b[0m\u001b[0;34m.\u001b[0m\u001b[0mpath\u001b[0m\u001b[0;34m.\u001b[0m\u001b[0mgetsize\u001b[0m\u001b[0;34m(\u001b[0m\u001b[0mfilename\u001b[0m\u001b[0;34m)\u001b[0m \u001b[0;34m>\u001b[0m \u001b[0;34m(\u001b[0m\u001b[0mmax_size\u001b[0m \u001b[0;34m*\u001b[0m \u001b[0;36m1024\u001b[0m\u001b[0;34m)\u001b[0m\u001b[0;34m:\u001b[0m\u001b[0;34m\u001b[0m\u001b[0;34m\u001b[0m\u001b[0m\n\u001b[0m\u001b[1;32m   1301\u001b[0m                     \u001b[0;32mraise\u001b[0m \u001b[0mTweepError\u001b[0m\u001b[0;34m(\u001b[0m\u001b[0;34m'File is too big, must be less than %skb.'\u001b[0m \u001b[0;34m%\u001b[0m \u001b[0mmax_size\u001b[0m\u001b[0;34m)\u001b[0m\u001b[0;34m\u001b[0m\u001b[0;34m\u001b[0m\u001b[0m\n",
            "\u001b[0;32m/usr/lib/python3.6/genericpath.py\u001b[0m in \u001b[0;36mgetsize\u001b[0;34m(filename)\u001b[0m\n\u001b[1;32m     49\u001b[0m     \u001b[0;34m\"\"\"Return the size of a file, reported by os.stat().\"\"\"\u001b[0m\u001b[0;34m\u001b[0m\u001b[0;34m\u001b[0m\u001b[0m\n\u001b[0;32m---> 50\u001b[0;31m     \u001b[0;32mreturn\u001b[0m \u001b[0mos\u001b[0m\u001b[0;34m.\u001b[0m\u001b[0mstat\u001b[0m\u001b[0;34m(\u001b[0m\u001b[0mfilename\u001b[0m\u001b[0;34m)\u001b[0m\u001b[0;34m.\u001b[0m\u001b[0mst_size\u001b[0m\u001b[0;34m\u001b[0m\u001b[0;34m\u001b[0m\u001b[0m\n\u001b[0m\u001b[1;32m     51\u001b[0m \u001b[0;34m\u001b[0m\u001b[0m\n",
            "\u001b[0;31mFileNotFoundError\u001b[0m: [Errno 2] No such file or directory: 'https://www.youtube.com/watch?v=Y6wTMau2iK8'",
            "\nDuring handling of the above exception, another exception occurred:\n",
            "\u001b[0;31mTweepError\u001b[0m                                Traceback (most recent call last)",
            "\u001b[0;32m<ipython-input-70-6cf1d3ba31f0>\u001b[0m in \u001b[0;36m<module>\u001b[0;34m()\u001b[0m\n\u001b[1;32m      1\u001b[0m api.update_with_media('https://www.youtube.com/watch?v=Y6wTMau2iK8',\n\u001b[0;32m----> 2\u001b[0;31m                       \"This is about chandrayaan 2\")\n\u001b[0m",
            "\u001b[0;32m/usr/local/lib/python3.6/dist-packages/tweepy/api.py\u001b[0m in \u001b[0;36mupdate_with_media\u001b[0;34m(self, filename, *args, **kwargs)\u001b[0m\n\u001b[1;32m    217\u001b[0m         \"\"\"\n\u001b[1;32m    218\u001b[0m         \u001b[0mf\u001b[0m \u001b[0;34m=\u001b[0m \u001b[0mkwargs\u001b[0m\u001b[0;34m.\u001b[0m\u001b[0mpop\u001b[0m\u001b[0;34m(\u001b[0m\u001b[0;34m'file'\u001b[0m\u001b[0;34m,\u001b[0m \u001b[0;32mNone\u001b[0m\u001b[0;34m)\u001b[0m\u001b[0;34m\u001b[0m\u001b[0;34m\u001b[0m\u001b[0m\n\u001b[0;32m--> 219\u001b[0;31m         \u001b[0mheaders\u001b[0m\u001b[0;34m,\u001b[0m \u001b[0mpost_data\u001b[0m \u001b[0;34m=\u001b[0m \u001b[0mAPI\u001b[0m\u001b[0;34m.\u001b[0m\u001b[0m_pack_image\u001b[0m\u001b[0;34m(\u001b[0m\u001b[0mfilename\u001b[0m\u001b[0;34m,\u001b[0m \u001b[0;36m3072\u001b[0m\u001b[0;34m,\u001b[0m \u001b[0mform_field\u001b[0m\u001b[0;34m=\u001b[0m\u001b[0;34m'media[]'\u001b[0m\u001b[0;34m,\u001b[0m \u001b[0mf\u001b[0m\u001b[0;34m=\u001b[0m\u001b[0mf\u001b[0m\u001b[0;34m)\u001b[0m\u001b[0;34m\u001b[0m\u001b[0;34m\u001b[0m\u001b[0m\n\u001b[0m\u001b[1;32m    220\u001b[0m         \u001b[0mkwargs\u001b[0m\u001b[0;34m.\u001b[0m\u001b[0mupdate\u001b[0m\u001b[0;34m(\u001b[0m\u001b[0;34m{\u001b[0m\u001b[0;34m'headers'\u001b[0m\u001b[0;34m:\u001b[0m \u001b[0mheaders\u001b[0m\u001b[0;34m,\u001b[0m \u001b[0;34m'post_data'\u001b[0m\u001b[0;34m:\u001b[0m \u001b[0mpost_data\u001b[0m\u001b[0;34m}\u001b[0m\u001b[0;34m)\u001b[0m\u001b[0;34m\u001b[0m\u001b[0;34m\u001b[0m\u001b[0m\n\u001b[1;32m    221\u001b[0m \u001b[0;34m\u001b[0m\u001b[0m\n",
            "\u001b[0;32m/usr/local/lib/python3.6/dist-packages/tweepy/api.py\u001b[0m in \u001b[0;36m_pack_image\u001b[0;34m(filename, max_size, form_field, f)\u001b[0m\n\u001b[1;32m   1301\u001b[0m                     \u001b[0;32mraise\u001b[0m \u001b[0mTweepError\u001b[0m\u001b[0;34m(\u001b[0m\u001b[0;34m'File is too big, must be less than %skb.'\u001b[0m \u001b[0;34m%\u001b[0m \u001b[0mmax_size\u001b[0m\u001b[0;34m)\u001b[0m\u001b[0;34m\u001b[0m\u001b[0;34m\u001b[0m\u001b[0m\n\u001b[1;32m   1302\u001b[0m             \u001b[0;32mexcept\u001b[0m \u001b[0mos\u001b[0m\u001b[0;34m.\u001b[0m\u001b[0merror\u001b[0m \u001b[0;32mas\u001b[0m \u001b[0me\u001b[0m\u001b[0;34m:\u001b[0m\u001b[0;34m\u001b[0m\u001b[0;34m\u001b[0m\u001b[0m\n\u001b[0;32m-> 1303\u001b[0;31m                 \u001b[0;32mraise\u001b[0m \u001b[0mTweepError\u001b[0m\u001b[0;34m(\u001b[0m\u001b[0;34m'Unable to access file: %s'\u001b[0m \u001b[0;34m%\u001b[0m \u001b[0me\u001b[0m\u001b[0;34m.\u001b[0m\u001b[0mstrerror\u001b[0m\u001b[0;34m)\u001b[0m\u001b[0;34m\u001b[0m\u001b[0;34m\u001b[0m\u001b[0m\n\u001b[0m\u001b[1;32m   1304\u001b[0m \u001b[0;34m\u001b[0m\u001b[0m\n\u001b[1;32m   1305\u001b[0m             \u001b[0;31m# build the mulitpart-formdata body\u001b[0m\u001b[0;34m\u001b[0m\u001b[0;34m\u001b[0m\u001b[0;34m\u001b[0m\u001b[0m\n",
            "\u001b[0;31mTweepError\u001b[0m: Unable to access file: No such file or directory"
          ]
        }
      ]
    },
    {
      "cell_type": "code",
      "metadata": {
        "id": "TWwh62RRinSY",
        "colab_type": "code",
        "colab": {}
      },
      "source": [
        "from google.colab import drive\n",
        "drive.mount('/content/drive')"
      ],
      "execution_count": 0,
      "outputs": []
    },
    {
      "cell_type": "markdown",
      "metadata": {
        "id": "ySlZDJXzhEgE",
        "colab_type": "text"
      },
      "source": [
        "# Creating Dataframe, location and User"
      ]
    },
    {
      "cell_type": "code",
      "metadata": {
        "id": "rvDuxgydfnG1",
        "colab_type": "code",
        "colab": {}
      },
      "source": [
        "# Define the search term and the date_since date as variables\n",
        "search_words = \"#wildfires\"\n",
        "date_since = \"2018-11-16\"\n",
        "\n"
      ],
      "execution_count": 0,
      "outputs": []
    },
    {
      "cell_type": "code",
      "metadata": {
        "id": "4iPeYi4Ag_KQ",
        "colab_type": "code",
        "colab": {
          "base_uri": "https://localhost:8080/",
          "height": 34
        },
        "outputId": "18fb1ad0-7901-4ac3-e988-338bac3d3c43"
      },
      "source": [
        "# Collect tweets\n",
        "tweets = tw.Cursor(api.search,\n",
        "              q=search_words,\n",
        "              lang=\"en\",\n",
        "              since=date_since).items(5)\n",
        "tweets"
      ],
      "execution_count": 63,
      "outputs": [
        {
          "output_type": "execute_result",
          "data": {
            "text/plain": [
              "<tweepy.cursor.ItemIterator at 0x7fb0d0a7b400>"
            ]
          },
          "metadata": {
            "tags": []
          },
          "execution_count": 63
        }
      ]
    },
    {
      "cell_type": "code",
      "metadata": {
        "id": "C4rJO9M0hABt",
        "colab_type": "code",
        "colab": {
          "base_uri": "https://localhost:8080/",
          "height": 122
        },
        "outputId": "41543b7a-bf16-4983-b684-6ad62f439e1c"
      },
      "source": [
        "# Collect tweets\n",
        "tweets = tw.Cursor(api.search,\n",
        "              q=search_words,\n",
        "              lang=\"en\",\n",
        "              since=date_since).items(5)\n",
        "\n",
        "# Iterate and print tweets\n",
        "for tweet in tweets:\n",
        "    print(tweet.text)\n",
        "    "
      ],
      "execution_count": 64,
      "outputs": [
        {
          "output_type": "stream",
          "text": [
            "RT @CopernicusEU: Using satellite imagery such as that provided by the Copernicus programme's #Sentinels, @DEarthAfrica is building a platf…\n",
            "RT @FantinaTedim: We are pleased to announce the publication of our new book on 'Extreme wildfire events and disasters'. An interdisciplina…\n",
            "RT @FantinaTedim: We are pleased to announce the publication of our new book on 'Extreme wildfire events and disasters'. An interdisciplina…\n",
            "RT @FantinaTedim: We are pleased to announce the publication of our new book on 'Extreme wildfire events and disasters'. An interdisciplina…\n",
            "RT @FantinaTedim: We are pleased to announce the publication of our new book on 'Extreme wildfire events and disasters'. An interdisciplina…\n"
          ],
          "name": "stdout"
        }
      ]
    },
    {
      "cell_type": "code",
      "metadata": {
        "id": "IirvE4quhHuv",
        "colab_type": "code",
        "colab": {
          "base_uri": "https://localhost:8080/",
          "height": 122
        },
        "outputId": "faefab21-784c-4f11-d871-15dd6bf5b622"
      },
      "source": [
        "# Collect tweets\n",
        "tweets = tw.Cursor(api.search,\n",
        "                       q=search_words,\n",
        "                       lang=\"en\",\n",
        "                       since=date_since).items(5)\n",
        "\n",
        "# Collect a list of tweets\n",
        "[tweet.text for tweet in tweets]"
      ],
      "execution_count": 65,
      "outputs": [
        {
          "output_type": "execute_result",
          "data": {
            "text/plain": [
              "[\"RT @CopernicusEU: Using satellite imagery such as that provided by the Copernicus programme's #Sentinels, @DEarthAfrica is building a platf…\",\n",
              " \"RT @FantinaTedim: We are pleased to announce the publication of our new book on 'Extreme wildfire events and disasters'. An interdisciplina…\",\n",
              " \"RT @FantinaTedim: We are pleased to announce the publication of our new book on 'Extreme wildfire events and disasters'. An interdisciplina…\",\n",
              " \"RT @FantinaTedim: We are pleased to announce the publication of our new book on 'Extreme wildfire events and disasters'. An interdisciplina…\",\n",
              " \"RT @FantinaTedim: We are pleased to announce the publication of our new book on 'Extreme wildfire events and disasters'. An interdisciplina…\"]"
            ]
          },
          "metadata": {
            "tags": []
          },
          "execution_count": 65
        }
      ]
    },
    {
      "cell_type": "code",
      "metadata": {
        "id": "s_PhUv5ShMZB",
        "colab_type": "code",
        "colab": {
          "base_uri": "https://localhost:8080/",
          "height": 34
        },
        "outputId": "c8fe5c8a-db41-442c-dec2-86232b24037a"
      },
      "source": [
        "new_search = search_words + \" -filter:retweets\"\n",
        "new_search\n",
        "'#wildfires -filter:retweets'"
      ],
      "execution_count": 66,
      "outputs": [
        {
          "output_type": "execute_result",
          "data": {
            "text/plain": [
              "'#wildfires -filter:retweets'"
            ]
          },
          "metadata": {
            "tags": []
          },
          "execution_count": 66
        }
      ]
    },
    {
      "cell_type": "code",
      "metadata": {
        "id": "XMIJywfjhQAI",
        "colab_type": "code",
        "colab": {
          "base_uri": "https://localhost:8080/",
          "height": 122
        },
        "outputId": "af42682c-7348-4f15-ef4d-0357b34fa9db"
      },
      "source": [
        "tweets = tw.Cursor(api.search,\n",
        "                       q=new_search,\n",
        "                       lang=\"en\",\n",
        "                       since=date_since).items(5)\n",
        "\n",
        "[tweet.text for tweet in tweets]"
      ],
      "execution_count": 67,
      "outputs": [
        {
          "output_type": "execute_result",
          "data": {
            "text/plain": [
              "['#PGnECorporation ( $PCG +10.68%) shares trad(ed) higher after the company reported it agreed to a #settlement to re… https://t.co/H7YS8CFTWu',\n",
              " 'A potent storm system moving into the Pacific Northwest will create gusty winds across much of the interior West ea… https://t.co/DokevSt3Qk',\n",
              " 'Wait...wearing an N95 mask is worse for your health than not?  So confusing.\\n\\nSo thankful for the rain which has ma… https://t.co/pNftztl0l6',\n",
              " 'Firefighters try to put out wildfire in Saronida, Greece https://t.co/KqBvxzsVhc #Heatwave #Wildfires',\n",
              " '#California #Fires #Wildfires @PGE4Me --&gt; Bankrupt California utility blamed for deadly wildfires agrees to $11bn p… https://t.co/v42c7JETQT']"
            ]
          },
          "metadata": {
            "tags": []
          },
          "execution_count": 67
        }
      ]
    },
    {
      "cell_type": "code",
      "metadata": {
        "id": "ldvgGOinhS22",
        "colab_type": "code",
        "colab": {
          "base_uri": "https://localhost:8080/",
          "height": 102
        },
        "outputId": "bea2951e-fe76-4bf9-cd32-e273e4942eb5"
      },
      "source": [
        "tweets = tw.Cursor(api.search, \n",
        "                           q=new_search,\n",
        "                           lang=\"en\",\n",
        "                           since=date_since).items(5)\n",
        "\n",
        "users_locs = [[tweet.user.screen_name, tweet.user.location] for tweet in tweets]\n",
        "users_locs\n",
        "[['armonia_bolivia', 'Bolivia'],\n",
        " ['RagusoSergio', 'Switzerland'],\n",
        " ['WillMatlack', 'SF Bay Area'],\n",
        " ['climateandlife', 'Columbia University'],\n",
        " ['C21dynamic21', '']]"
      ],
      "execution_count": 68,
      "outputs": [
        {
          "output_type": "execute_result",
          "data": {
            "text/plain": [
              "[['armonia_bolivia', 'Bolivia'],\n",
              " ['RagusoSergio', 'Switzerland'],\n",
              " ['WillMatlack', 'SF Bay Area'],\n",
              " ['climateandlife', 'Columbia University'],\n",
              " ['C21dynamic21', '']]"
            ]
          },
          "metadata": {
            "tags": []
          },
          "execution_count": 68
        }
      ]
    },
    {
      "cell_type": "code",
      "metadata": {
        "id": "duqBNQ6hhV3l",
        "colab_type": "code",
        "colab": {
          "base_uri": "https://localhost:8080/",
          "height": 204
        },
        "outputId": "b15620a2-7ac4-400a-9a61-0c72eea49185"
      },
      "source": [
        "tweet_text = pd.DataFrame(data=users_locs, \n",
        "                    columns=['user', \"location\"])\n",
        "tweet_text"
      ],
      "execution_count": 69,
      "outputs": [
        {
          "output_type": "execute_result",
          "data": {
            "text/html": [
              "<div>\n",
              "<style scoped>\n",
              "    .dataframe tbody tr th:only-of-type {\n",
              "        vertical-align: middle;\n",
              "    }\n",
              "\n",
              "    .dataframe tbody tr th {\n",
              "        vertical-align: top;\n",
              "    }\n",
              "\n",
              "    .dataframe thead th {\n",
              "        text-align: right;\n",
              "    }\n",
              "</style>\n",
              "<table border=\"1\" class=\"dataframe\">\n",
              "  <thead>\n",
              "    <tr style=\"text-align: right;\">\n",
              "      <th></th>\n",
              "      <th>user</th>\n",
              "      <th>location</th>\n",
              "    </tr>\n",
              "  </thead>\n",
              "  <tbody>\n",
              "    <tr>\n",
              "      <th>0</th>\n",
              "      <td>itsahotdogtree</td>\n",
              "      <td>United States</td>\n",
              "    </tr>\n",
              "    <tr>\n",
              "      <th>1</th>\n",
              "      <td>breakingweather</td>\n",
              "      <td>State College, PA</td>\n",
              "    </tr>\n",
              "    <tr>\n",
              "      <th>2</th>\n",
              "      <td>e_lo</td>\n",
              "      <td>Seattle, WA</td>\n",
              "    </tr>\n",
              "    <tr>\n",
              "      <th>3</th>\n",
              "      <td>robinsnewswire</td>\n",
              "      <td>RT's Are FYI Purposes Only</td>\n",
              "    </tr>\n",
              "    <tr>\n",
              "      <th>4</th>\n",
              "      <td>LuluWalcott1</td>\n",
              "      <td>Los Angeles, CA</td>\n",
              "    </tr>\n",
              "  </tbody>\n",
              "</table>\n",
              "</div>"
            ],
            "text/plain": [
              "              user                    location\n",
              "0   itsahotdogtree               United States\n",
              "1  breakingweather           State College, PA\n",
              "2             e_lo                 Seattle, WA\n",
              "3   robinsnewswire  RT's Are FYI Purposes Only\n",
              "4     LuluWalcott1             Los Angeles, CA"
            ]
          },
          "metadata": {
            "tags": []
          },
          "execution_count": 69
        }
      ]
    },
    {
      "cell_type": "code",
      "metadata": {
        "id": "S2NhtODkiysE",
        "colab_type": "code",
        "colab": {
          "base_uri": "https://localhost:8080/",
          "height": 129
        },
        "outputId": "a270932b-63b1-4290-b44c-c4f3510b8fe0"
      },
      "source": [
        ""
      ],
      "execution_count": 90,
      "outputs": [
        {
          "output_type": "error",
          "ename": "SyntaxError",
          "evalue": "ignored",
          "traceback": [
            "\u001b[0;36m  File \u001b[0;32m\"<ipython-input-90-6799fbca2abd>\"\u001b[0;36m, line \u001b[0;32m1\u001b[0m\n\u001b[0;31m    print api.trends_place(1)\u001b[0m\n\u001b[0m            ^\u001b[0m\n\u001b[0;31mSyntaxError\u001b[0m\u001b[0;31m:\u001b[0m invalid syntax\n"
          ]
        }
      ]
    },
    {
      "cell_type": "code",
      "metadata": {
        "id": "O3ZS9-sWmJNv",
        "colab_type": "code",
        "colab": {}
      },
      "source": [
        ""
      ],
      "execution_count": 0,
      "outputs": []
    }
  ]
}