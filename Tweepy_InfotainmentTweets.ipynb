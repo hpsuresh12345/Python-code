{
  "nbformat": 4,
  "nbformat_minor": 0,
  "metadata": {
    "colab": {
      "name": "Tweepy_InfotainmentTweets.ipynb",
      "version": "0.3.2",
      "provenance": [],
      "collapsed_sections": [],
      "include_colab_link": true
    },
    "kernelspec": {
      "name": "python3",
      "display_name": "Python 3"
    }
  },
  "cells": [
    {
      "cell_type": "markdown",
      "metadata": {
        "id": "view-in-github",
        "colab_type": "text"
      },
      "source": [
        "<a href=\"https://colab.research.google.com/github/hpsuresh12345/Python-code/blob/master/Tweepy_InfotainmentTweets.ipynb\" target=\"_parent\"><img src=\"https://colab.research.google.com/assets/colab-badge.svg\" alt=\"Open In Colab\"/></a>"
      ]
    },
    {
      "cell_type": "code",
      "metadata": {
        "id": "ZU8rkXQcLPN8",
        "colab_type": "code",
        "colab": {}
      },
      "source": [
        "import numpy as np\n",
        "import pandas as pd\n",
        "import tweepy as tw"
      ],
      "execution_count": 0,
      "outputs": []
    },
    {
      "cell_type": "code",
      "metadata": {
        "id": "LC7tlMh0LUlf",
        "colab_type": "code",
        "colab": {}
      },
      "source": [
        "consumer_key='o7hGGdbxC9rCzh6gNF7w68xjR'\n",
        "consumer_secret='HoIZzpSF603DRfNlRpkCjjbbuYR76sUGdsGyI2E8ksagU5GYdr'\n",
        "access_token='238097127-iYCOGfLha78ZegDY4JQLENIiYgYK6FVNJF8MJoV3'\n",
        "access_token_secret='rpwe42w7RcZyptReSTRJl79hGE5zXYSAULUkNKrPKqAcp'\n"
      ],
      "execution_count": 0,
      "outputs": []
    },
    {
      "cell_type": "code",
      "metadata": {
        "id": "SgTeoNiZL0vd",
        "colab_type": "code",
        "colab": {}
      },
      "source": [
        "auth=tw.OAuthHandler(consumer_key,consumer_secret)\n",
        "auth.set_access_token(access_token,access_token_secret)\n",
        "api=tw.API(auth,wait_on_rate_limit=True)"
      ],
      "execution_count": 0,
      "outputs": []
    },
    {
      "cell_type": "code",
      "metadata": {
        "id": "rsKuOycfMPuA",
        "colab_type": "code",
        "colab": {
          "base_uri": "https://localhost:8080/",
          "height": 654
        },
        "outputId": "50e69f39-1ce2-4019-91d2-add0a39838ab"
      },
      "source": [
        "public_tweets=api.home_timeline()\n",
        "for tweet in public_tweets:\n",
        "  print(tweet.text)"
      ],
      "execution_count": 6,
      "outputs": [
        {
          "output_type": "stream",
          "text": [
            "The Indian rupee is on a strong recovery path since the beginning of September as INR has gained nearly 147 paise a… https://t.co/zy20KcaWTI\n",
            "Petrol prices in New Delhi went by 9 paise to Rs 71.97 per litre, while people in the National Capital have to shel… https://t.co/Atn39VT6Q9\n",
            "RT @Gadgets360: Apple Counters Goldman Call on 'Negative Impact' of Apple TV+ Trial\n",
            "https://t.co/fVGxVAOFkx\n",
            "अभी मुठ्ठी नहीं खोली है मैंने आसमां सुन ले,\n",
            "\n",
            "तेरा बस वक़्त आया है मेरा तो दौर आएगा।\n",
            "\n",
            "#SaturdayThoughts\n",
            "Practical Apache Spark in 10 minutes. Part 4 - MLlib https://t.co/XLdq7o5Pm0\n",
            "Men attempt to set man on fire after he stopped them from molesting girl https://t.co/j1CoYj3ZUX https://t.co/gee8DdnZtV\n",
            "RT @timesnowsports: Bundesliga: Wolfsburg held to a 1-1 draw against Fortuna Duesseldorf, miss chance to go top\n",
            "\n",
            "https://t.co/DB04UFkhkM\n",
            "RT @timesnowsports: Manchester United boss Ole Gunnar Solskjaer confident of making David de Gea stay beyond this season\n",
            "\n",
            "https://t.co/4ae5…\n",
            "Supreme Court has been consistently reminding the Central Govt. of the directive in the Constitution for implementi… https://t.co/i8S1wLZ6gW\n",
            "#INDvSA \n",
            "\n",
            "I always had the outswinger: @Jaspritbumrah93 🏏\n",
            "\n",
            "Once rated as India's best bet in white-ball cricket,… https://t.co/s6x3jC3ntl\n",
            "Now we have Mr. Rajiv Ratan Chetwani, Director, Directorate of Information Systems and Management, ISRO Headquarter… https://t.co/g1Bpju5cQv\n",
            "#Breaking | On the occasion of Hindi Diwas, Union Home Minister @AmitShah said that Hindi is the language which can… https://t.co/d2riJuzUfq\n",
            "Woman allegedly raped by priests inside temple on pretext of 'divine intervention'.\n",
            "\n",
            "https://t.co/JIfOoX9huG\n",
            "RT @Gadgets360: Disney CEO Exits Apple Board as Firms Become Streaming Rivals\n",
            "https://t.co/NBCixogqhs\n",
            "We are extremely honoured to have Dr P. Shyama Raju, Chancellor, REVA University sharing his enormous experience wi… https://t.co/uXuUd7hfwx\n",
            "Shivaji descendant Udayan Raje Bhosale joins BJP in Amit Shah's presence https://t.co/3Xj2UnpZCF https://t.co/U5ZW0n0GsH\n",
            "3 injured after car hits divider in Delhi, liquor bottles found at spot https://t.co/IcYWEgkjwO https://t.co/05I2Ax3FmG\n",
            "Fire at Saudi Aramco facility amid tensions over attacks on tankers https://t.co/cEygkzfBxk https://t.co/vsqr84Vsea\n",
            "\"Tied up 2 women, ransacked house\": Domestic robs employers in Delhi https://t.co/hNJx36SLIg https://t.co/FsOtbaUgsT\n",
            "Full list of Assam citizens' list containing 3.30 crore applicants, including 19 lakh who didn't make it, published… https://t.co/KnZqHbD2ag\n"
          ],
          "name": "stdout"
        }
      ]
    },
    {
      "cell_type": "code",
      "metadata": {
        "id": "5EDZdbXLMlS0",
        "colab_type": "code",
        "colab": {
          "base_uri": "https://localhost:8080/",
          "height": 86
        },
        "outputId": "30d7e124-38d3-4c9b-a2e6-c28c5f63d458"
      },
      "source": [
        "user=api.get_user('@sureshhp1')\n",
        "print(\"User Screen Name\")\n",
        "print(user.screen_name)\n",
        "print(\"User Followers Count\")\n",
        "print(user.followers_count)"
      ],
      "execution_count": 17,
      "outputs": [
        {
          "output_type": "stream",
          "text": [
            "User Screen Name\n",
            "sureshhp1\n",
            "User Followers Count\n",
            "26\n"
          ],
          "name": "stdout"
        }
      ]
    },
    {
      "cell_type": "code",
      "metadata": {
        "id": "9NEED-XBP_gb",
        "colab_type": "code",
        "colab": {}
      },
      "source": [
        ""
      ],
      "execution_count": 0,
      "outputs": []
    },
    {
      "cell_type": "code",
      "metadata": {
        "colab_type": "code",
        "outputId": "e6310fb5-58d9-4cdc-d4a6-07aa2af0d689",
        "id": "K7kxLahVQAHx",
        "colab": {
          "base_uri": "https://localhost:8080/",
          "height": 86
        }
      },
      "source": [
        "user=api.get_user('@mutturajiu')\n",
        "print(\"User Screen Name\")\n",
        "print(user.screen_name)\n",
        "print(\"User Followers Count\")\n",
        "print(user.followers_count)"
      ],
      "execution_count": 20,
      "outputs": [
        {
          "output_type": "stream",
          "text": [
            "User Screen Name\n",
            "mutturajiu\n",
            "User Followers Count\n",
            "6\n"
          ],
          "name": "stdout"
        }
      ]
    },
    {
      "cell_type": "code",
      "metadata": {
        "id": "NKgxWKp1OeKo",
        "colab_type": "code",
        "colab": {
          "base_uri": "https://localhost:8080/",
          "height": 188
        },
        "outputId": "a880282f-f643-457b-d9eb-3998ddab3e34"
      },
      "source": [
        "for friend in user.friends():\n",
        "  print(friend.screen_name)"
      ],
      "execution_count": 21,
      "outputs": [
        {
          "output_type": "stream",
          "text": [
            "ratnakar_20\n",
            "itjegan\n",
            "KatariyaPran\n",
            "AmitShah\n",
            "smritiirani\n",
            "arunjaitley\n",
            "chetan_bhagat\n",
            "PMOIndia\n",
            "narendramodi\n",
            "KicchaSudeep\n"
          ],
          "name": "stdout"
        }
      ]
    },
    {
      "cell_type": "code",
      "metadata": {
        "id": "x9SpPW3dOr3P",
        "colab_type": "code",
        "colab": {
          "base_uri": "https://localhost:8080/",
          "height": 120
        },
        "outputId": "a6e7579f-7fef-440a-97d2-5c85b6f98b43"
      },
      "source": [
        "for followers in user.followers():\n",
        "  print(followers.screen_name)"
      ],
      "execution_count": 22,
      "outputs": [
        {
          "output_type": "stream",
          "text": [
            "HanumegowdaGn\n",
            "kudobala\n",
            "prashanth1247\n",
            "iccksouccours\n",
            "sureshpratti\n",
            "GNHanume\n"
          ],
          "name": "stdout"
        }
      ]
    },
    {
      "cell_type": "code",
      "metadata": {
        "id": "KXZ6_NfsPJE-",
        "colab_type": "code",
        "colab": {
          "base_uri": "https://localhost:8080/",
          "height": 54
        },
        "outputId": "fc4fac5d-d633-4d93-9c7c-6d17c8b0f6c5"
      },
      "source": [
        "api.update_status(\"Sample Tweet from #Python and #Tweepy\")"
      ],
      "execution_count": 24,
      "outputs": [
        {
          "output_type": "execute_result",
          "data": {
            "text/plain": [
              "Status(_api=<tweepy.api.API object at 0x7fb0d2ed5b00>, _json={'created_at': 'Sat Sep 14 05:33:37 +0000 2019', 'id': 1172745193935839233, 'id_str': '1172745193935839233', 'text': 'Sample Tweet from #Python and #Tweepy', 'truncated': False, 'entities': {'hashtags': [{'text': 'Python', 'indices': [18, 25]}, {'text': 'Tweepy', 'indices': [30, 37]}], 'symbols': [], 'user_mentions': [], 'urls': []}, 'source': '<a href=\"https://www.gadgetsnow.com/topic/in-car-infotainment-systems/reviews\" rel=\"nofollow\">Autotainment</a>', 'in_reply_to_status_id': None, 'in_reply_to_status_id_str': None, 'in_reply_to_user_id': None, 'in_reply_to_user_id_str': None, 'in_reply_to_screen_name': None, 'user': {'id': 238097127, 'id_str': '238097127', 'name': 'suresh hp1', 'screen_name': 'sureshhp1', 'location': 'Bangalore', 'description': '', 'url': None, 'entities': {'description': {'urls': []}}, 'protected': True, 'followers_count': 26, 'friends_count': 135, 'listed_count': 2, 'created_at': 'Fri Jan 14 10:41:09 +0000 2011', 'favourites_count': 11, 'utc_offset': None, 'time_zone': None, 'geo_enabled': False, 'verified': False, 'statuses_count': 27, 'lang': None, 'contributors_enabled': False, 'is_translator': False, 'is_translation_enabled': False, 'profile_background_color': '131516', 'profile_background_image_url': 'http://abs.twimg.com/images/themes/theme1/bg.png', 'profile_background_image_url_https': 'https://abs.twimg.com/images/themes/theme1/bg.png', 'profile_background_tile': True, 'profile_image_url': 'http://pbs.twimg.com/profile_images/903916556555395073/xITHpp94_normal.jpg', 'profile_image_url_https': 'https://pbs.twimg.com/profile_images/903916556555395073/xITHpp94_normal.jpg', 'profile_banner_url': 'https://pbs.twimg.com/profile_banners/238097127/1504345638', 'profile_link_color': '1AADAD', 'profile_sidebar_border_color': 'EEEEEE', 'profile_sidebar_fill_color': 'EFEFEF', 'profile_text_color': '333333', 'profile_use_background_image': True, 'has_extended_profile': True, 'default_profile': False, 'default_profile_image': False, 'following': False, 'follow_request_sent': False, 'notifications': False, 'translator_type': 'none'}, 'geo': None, 'coordinates': None, 'place': None, 'contributors': None, 'is_quote_status': False, 'retweet_count': 0, 'favorite_count': 0, 'favorited': False, 'retweeted': False, 'lang': 'en'}, created_at=datetime.datetime(2019, 9, 14, 5, 33, 37), id=1172745193935839233, id_str='1172745193935839233', text='Sample Tweet from #Python and #Tweepy', truncated=False, entities={'hashtags': [{'text': 'Python', 'indices': [18, 25]}, {'text': 'Tweepy', 'indices': [30, 37]}], 'symbols': [], 'user_mentions': [], 'urls': []}, source='Autotainment', source_url='https://www.gadgetsnow.com/topic/in-car-infotainment-systems/reviews', in_reply_to_status_id=None, in_reply_to_status_id_str=None, in_reply_to_user_id=None, in_reply_to_user_id_str=None, in_reply_to_screen_name=None, author=User(_api=<tweepy.api.API object at 0x7fb0d2ed5b00>, _json={'id': 238097127, 'id_str': '238097127', 'name': 'suresh hp1', 'screen_name': 'sureshhp1', 'location': 'Bangalore', 'description': '', 'url': None, 'entities': {'description': {'urls': []}}, 'protected': True, 'followers_count': 26, 'friends_count': 135, 'listed_count': 2, 'created_at': 'Fri Jan 14 10:41:09 +0000 2011', 'favourites_count': 11, 'utc_offset': None, 'time_zone': None, 'geo_enabled': False, 'verified': False, 'statuses_count': 27, 'lang': None, 'contributors_enabled': False, 'is_translator': False, 'is_translation_enabled': False, 'profile_background_color': '131516', 'profile_background_image_url': 'http://abs.twimg.com/images/themes/theme1/bg.png', 'profile_background_image_url_https': 'https://abs.twimg.com/images/themes/theme1/bg.png', 'profile_background_tile': True, 'profile_image_url': 'http://pbs.twimg.com/profile_images/903916556555395073/xITHpp94_normal.jpg', 'profile_image_url_https': 'https://pbs.twimg.com/profile_images/903916556555395073/xITHpp94_normal.jpg', 'profile_banner_url': 'https://pbs.twimg.com/profile_banners/238097127/1504345638', 'profile_link_color': '1AADAD', 'profile_sidebar_border_color': 'EEEEEE', 'profile_sidebar_fill_color': 'EFEFEF', 'profile_text_color': '333333', 'profile_use_background_image': True, 'has_extended_profile': True, 'default_profile': False, 'default_profile_image': False, 'following': False, 'follow_request_sent': False, 'notifications': False, 'translator_type': 'none'}, id=238097127, id_str='238097127', name='suresh hp1', screen_name='sureshhp1', location='Bangalore', description='', url=None, entities={'description': {'urls': []}}, protected=True, followers_count=26, friends_count=135, listed_count=2, created_at=datetime.datetime(2011, 1, 14, 10, 41, 9), favourites_count=11, utc_offset=None, time_zone=None, geo_enabled=False, verified=False, statuses_count=27, lang=None, contributors_enabled=False, is_translator=False, is_translation_enabled=False, profile_background_color='131516', profile_background_image_url='http://abs.twimg.com/images/themes/theme1/bg.png', profile_background_image_url_https='https://abs.twimg.com/images/themes/theme1/bg.png', profile_background_tile=True, profile_image_url='http://pbs.twimg.com/profile_images/903916556555395073/xITHpp94_normal.jpg', profile_image_url_https='https://pbs.twimg.com/profile_images/903916556555395073/xITHpp94_normal.jpg', profile_banner_url='https://pbs.twimg.com/profile_banners/238097127/1504345638', profile_link_color='1AADAD', profile_sidebar_border_color='EEEEEE', profile_sidebar_fill_color='EFEFEF', profile_text_color='333333', profile_use_background_image=True, has_extended_profile=True, default_profile=False, default_profile_image=False, following=False, follow_request_sent=False, notifications=False, translator_type='none'), user=User(_api=<tweepy.api.API object at 0x7fb0d2ed5b00>, _json={'id': 238097127, 'id_str': '238097127', 'name': 'suresh hp1', 'screen_name': 'sureshhp1', 'location': 'Bangalore', 'description': '', 'url': None, 'entities': {'description': {'urls': []}}, 'protected': True, 'followers_count': 26, 'friends_count': 135, 'listed_count': 2, 'created_at': 'Fri Jan 14 10:41:09 +0000 2011', 'favourites_count': 11, 'utc_offset': None, 'time_zone': None, 'geo_enabled': False, 'verified': False, 'statuses_count': 27, 'lang': None, 'contributors_enabled': False, 'is_translator': False, 'is_translation_enabled': False, 'profile_background_color': '131516', 'profile_background_image_url': 'http://abs.twimg.com/images/themes/theme1/bg.png', 'profile_background_image_url_https': 'https://abs.twimg.com/images/themes/theme1/bg.png', 'profile_background_tile': True, 'profile_image_url': 'http://pbs.twimg.com/profile_images/903916556555395073/xITHpp94_normal.jpg', 'profile_image_url_https': 'https://pbs.twimg.com/profile_images/903916556555395073/xITHpp94_normal.jpg', 'profile_banner_url': 'https://pbs.twimg.com/profile_banners/238097127/1504345638', 'profile_link_color': '1AADAD', 'profile_sidebar_border_color': 'EEEEEE', 'profile_sidebar_fill_color': 'EFEFEF', 'profile_text_color': '333333', 'profile_use_background_image': True, 'has_extended_profile': True, 'default_profile': False, 'default_profile_image': False, 'following': False, 'follow_request_sent': False, 'notifications': False, 'translator_type': 'none'}, id=238097127, id_str='238097127', name='suresh hp1', screen_name='sureshhp1', location='Bangalore', description='', url=None, entities={'description': {'urls': []}}, protected=True, followers_count=26, friends_count=135, listed_count=2, created_at=datetime.datetime(2011, 1, 14, 10, 41, 9), favourites_count=11, utc_offset=None, time_zone=None, geo_enabled=False, verified=False, statuses_count=27, lang=None, contributors_enabled=False, is_translator=False, is_translation_enabled=False, profile_background_color='131516', profile_background_image_url='http://abs.twimg.com/images/themes/theme1/bg.png', profile_background_image_url_https='https://abs.twimg.com/images/themes/theme1/bg.png', profile_background_tile=True, profile_image_url='http://pbs.twimg.com/profile_images/903916556555395073/xITHpp94_normal.jpg', profile_image_url_https='https://pbs.twimg.com/profile_images/903916556555395073/xITHpp94_normal.jpg', profile_banner_url='https://pbs.twimg.com/profile_banners/238097127/1504345638', profile_link_color='1AADAD', profile_sidebar_border_color='EEEEEE', profile_sidebar_fill_color='EFEFEF', profile_text_color='333333', profile_use_background_image=True, has_extended_profile=True, default_profile=False, default_profile_image=False, following=False, follow_request_sent=False, notifications=False, translator_type='none'), geo=None, coordinates=None, place=None, contributors=None, is_quote_status=False, retweet_count=0, favorite_count=0, favorited=False, retweeted=False, lang='en')"
            ]
          },
          "metadata": {
            "tags": []
          },
          "execution_count": 24
        }
      ]
    },
    {
      "cell_type": "code",
      "metadata": {
        "id": "TSbtzW-BQdMs",
        "colab_type": "code",
        "colab": {}
      },
      "source": [
        "tweets=tw.Cursor(api.search, q='@isro-filter:retweets',lang='en',since='2019-01-01').items(10)"
      ],
      "execution_count": 0,
      "outputs": []
    },
    {
      "cell_type": "code",
      "metadata": {
        "id": "wjJslisMR67F",
        "colab_type": "code",
        "colab": {
          "base_uri": "https://localhost:8080/",
          "height": 208
        },
        "outputId": "7dd15470-2a8a-4c92-b786-8c11d486a234"
      },
      "source": [
        "tweets_text=[tweet.text for tweet in tweets]\n",
        "tweets_text"
      ],
      "execution_count": 37,
      "outputs": [
        {
          "output_type": "execute_result",
          "data": {
            "text/plain": [
              "['@NASA @esa @isro  out of imagination and curiosity I wrote something like this. What if big bang is rebirth of univ… https://t.co/cgMDxCt0uR',\n",
              " '@DhiraJThakrE12 @Hindusthaani1 @Astro_Neel @isro @chandrayan2 U r absolutely right and even indeed!!!..... But paki… https://t.co/arjfoWlcgm',\n",
              " '@Kishor_a @isro @GauravModiBhakt @nishants79 @Ramesh_BJP @AkshayBhade5 @AdvNileshSharma @VidarbhaPutra… https://t.co/SzIG1Dl01Y',\n",
              " '@isro Weldon  i am proud of isro',\n",
              " '@DrKumarVishwas @PMOIndia @isro @narendramodi Very nice sir',\n",
              " 'Special pics for people teaching science to @isro &amp; comparing them with NASA. \\n\\nHere is what NASA does before sendi… https://t.co/gEh6gXKN8j',\n",
              " 'Got my boarding pass for #Mars2020 from @NASA\\n\\nNASA will send my name to Mars.\\n@isro @NASA https://t.co/YAJX69IN6k',\n",
              " '@M19Sen @BlackBallBoy1 @holatombola @isro Sanskrit is foreign language , are you serious ?',\n",
              " '@isro make most of your efforts on today &amp; tomorrow, as highest chances of contact with #Vikram exist on these days… https://t.co/5661r7I6T6',\n",
              " '@isro @NASA @PMOIndia @narendramodi @AskAnshul @goldstone Now goldstone antena is trying to establish ntwrk wid cha… https://t.co/2X8Ui9njxw']"
            ]
          },
          "metadata": {
            "tags": []
          },
          "execution_count": 37
        }
      ]
    },
    {
      "cell_type": "code",
      "metadata": {
        "id": "1jCvRW6rSExB",
        "colab_type": "code",
        "colab": {}
      },
      "source": [
        ""
      ],
      "execution_count": 0,
      "outputs": []
    }
  ]
}